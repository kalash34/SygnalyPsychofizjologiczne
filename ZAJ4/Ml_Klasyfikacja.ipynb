{
  "nbformat": 4,
  "nbformat_minor": 0,
  "metadata": {
    "colab": {
      "name": "Ml_Klasyfikacja.ipynb",
      "provenance": [],
      "collapsed_sections": [],
      "toc_visible": true
    },
    "kernelspec": {
      "name": "python3",
      "display_name": "Python 3"
    },
    "language_info": {
      "name": "python"
    }
  },
  "cells": [
    {
      "cell_type": "markdown",
      "metadata": {
        "id": "j7qQsqJDMcMB"
      },
      "source": [
        "## ML. Classification"
      ]
    },
    {
      "cell_type": "markdown",
      "metadata": {
        "id": "bGkjLANF_57l"
      },
      "source": [
        "### Diabetes dataset\n",
        "\n",
        "As with the Regression, we will use one standard dataset on which we will explore the core concepts. However, nothing prevents us from training the same models on other data, e.g., for the prediction of positive vs. negative emotions based on characteristics of physiological signals.\n",
        "\n",
        "Today, we will use the **Diabetes** dataset (exactly: \"Pima Indians Diabetes Database\"), prepared by National Institute of Diabetes and Digestive and Kidney Diseases in 1990 (a classical dataset used by many machine learning tutorials).\n",
        "\n",
        "There are several attributes:\n",
        "1. Number of times pregnant\n",
        "2. Plasma glucose concentration a 2 hours in an oral glucose tolerance test\n",
        "3. Diastolic blood pressure (mm Hg)\n",
        "4. Triceps skin fold thickness (mm)\n",
        "5. 2-Hour serum insulin (mu U/ml)\n",
        "6. Body mass index (weight in kg/(height in m)^2)\n",
        "7. Diabetes pedigree function\n",
        "8. Age (years)\n",
        "9. Class variable (0 or 1) - whether the patient shows signs of diabetes according to World Health Organization criteria\n",
        "\n",
        "For the details, see [the description here](https://www.openml.org/d/37)."
      ]
    },
    {
      "cell_type": "code",
      "metadata": {
        "id": "SmbGwLrWCax8"
      },
      "source": [
        "# necessary imports\n",
        "import numpy as np\n",
        "import pandas as pd\n",
        "\n",
        "# import matplotlib library\n",
        "import matplotlib.pyplot as plt\n",
        "# if you work locally (not at Google Colab) you can activate interactive plots by changing \"inline\" to \"notebook\"\n",
        "%matplotlib inline\n",
        "\n",
        "# import bokeh\n",
        "import bokeh.io, bokeh.plotting\n",
        "bokeh.io.output_notebook()\n",
        "\n",
        "# for machine learning\n",
        "from sklearn import linear_model, metrics, model_selection, preprocessing"
      ],
      "execution_count": 1,
      "outputs": []
    },
    {
      "cell_type": "code",
      "metadata": {
        "id": "g2aprfU_Cb8n",
        "colab": {
          "base_uri": "https://localhost:8080/"
        },
        "outputId": "173b6019-b6cc-41d6-d1d6-18539f949c9c"
      },
      "source": [
        "# Download the dataset (to Virtual Machine local filesystem)\n",
        "!wget https://krzysztof.kutt.pl/didactics/psaw/diabetes.csv"
      ],
      "execution_count": 3,
      "outputs": [
        {
          "output_type": "stream",
          "name": "stdout",
          "text": [
            "--2022-04-05 14:40:29--  https://krzysztof.kutt.pl/didactics/psaw/diabetes.csv\n",
            "Resolving krzysztof.kutt.pl (krzysztof.kutt.pl)... 185.255.40.28\n",
            "Connecting to krzysztof.kutt.pl (krzysztof.kutt.pl)|185.255.40.28|:443... connected.\n",
            "HTTP request sent, awaiting response... 200 OK\n",
            "Length: 40983 (40K) [text/csv]\n",
            "Saving to: ‘diabetes.csv’\n",
            "\n",
            "diabetes.csv        100%[===================>]  40.02K  --.-KB/s    in 0s      \n",
            "\n",
            "2022-04-05 14:40:31 (229 MB/s) - ‘diabetes.csv’ saved [40983/40983]\n",
            "\n"
          ]
        }
      ]
    },
    {
      "cell_type": "markdown",
      "metadata": {
        "id": "d0pkAs87Cs8m"
      },
      "source": [
        "**Task 1:** Your first task is to load the dataset and make an initial look at it, as you have done in Regression notebook (e.g., make some graphs, check value statistics, etc)."
      ]
    },
    {
      "cell_type": "code",
      "metadata": {
        "id": "R14P8y0gDDhX",
        "colab": {
          "base_uri": "https://localhost:8080/",
          "height": 718
        },
        "outputId": "1adf20a2-f2db-428f-e6bd-121fc5ed8b43"
      },
      "source": [
        "# _FILL_IN_YOUR_CODE_HERE \n",
        "\n",
        "import bokeh.io, bokeh.plotting\n",
        "bokeh.io.output_notebook()\n",
        "import seaborn as sns\n",
        "\n",
        "\n",
        "df = pd.read_csv('diabetes.csv')\n",
        "\n",
        "diabetes = df\n",
        "print(diabetes)\n",
        "\n",
        "\n",
        "diabetes.describe(include='all')\n",
        "\n",
        "diabetes_dane = pd.DataFrame(diabetes,columns=['pres','insu','mass','age'])\n",
        "diabetes_dane = diabetes_dane.dropna()\n",
        "\n",
        "\n",
        "# regression plot using seaborn\n",
        "fig = plt.figure(figsize=(10, 7))\n",
        "sns.regplot(x=diabetes_dane['pres'], y=diabetes['age'], color='blue', marker='+')\n",
        "sns.regplot(x=diabetes_dane['insu'], y=diabetes['age'], color='magenta', marker='+')\n",
        "\n",
        "# Legend, title and labels.\n",
        "plt.legend(labels=['pes', 'insu'])\n",
        "plt.title('Relationship between pres/insu and age', size=24)\n",
        "plt.xlabel('score', size=18)\n",
        "plt.ylabel('age', size=18);\n",
        "\n",
        "\n",
        "\n",
        "\n",
        "\n",
        "\n",
        "\n"
      ],
      "execution_count": 8,
      "outputs": [
        {
          "output_type": "stream",
          "name": "stdout",
          "text": [
            "     preg  plas  pres  skin  insu  mass   pedi     rhr  age            class\n",
            "0       6   148    72    35     0  33.6  0.627  71.035   50  tested_positive\n",
            "1       1    85    66    29     0  26.6  0.351  64.371   31  tested_negative\n",
            "2       8   183    64     0     0  23.3  0.672  62.342   32  tested_positive\n",
            "3       1    89    66    23    94  28.1  0.167  63.275   21  tested_negative\n",
            "4       0   137    40    35   168  43.1  2.288  34.541   33  tested_positive\n",
            "..    ...   ...   ...   ...   ...   ...    ...     ...  ...              ...\n",
            "763    10   101    76    48   180  32.9  0.171  76.853   63  tested_negative\n",
            "764     2   122    70    27     0  36.8  0.340  71.539   27  tested_negative\n",
            "765     5   121    72    23   112  26.2  0.245  69.439   30  tested_negative\n",
            "766     1   126    60     0     0  30.1  0.349  66.129   47  tested_positive\n",
            "767     1    93    70    31     0  30.4  0.315  68.406   23  tested_negative\n",
            "\n",
            "[768 rows x 10 columns]\n"
          ]
        },
        {
          "output_type": "display_data",
          "data": {
            "text/plain": [
              "<Figure size 720x504 with 1 Axes>"
            ],
            "image/png": "[encoded data removed]"
          },
          "metadata": {
            "needs_background": "light"
          }
        }
      ]
    },
    {
      "cell_type": "markdown",
      "metadata": {
        "id": "A5Gyu8nD5cDF"
      },
      "source": [
        "### Logistic Regression\n",
        "\n",
        "Do you remember regression from previous classes? It is the simplest model for predicting a continuous variable.  \n",
        "What if, instead of reading a particular value from a line, we wanted to check if a point is on one side or the other of that line? We get a simple method for classifying binary variables!\n",
        "\n",
        "See the simple image below to get the overall idea. Two classes are represented by different colors."
      ]
    },
    {
      "cell_type": "markdown",
      "metadata": {
        "id": "glbSGEISFKQJ"
      },
      "source": [
        "![regression-classification.jpg](data:image/jpeg;base64,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)"
      ]
    },
    {
      "cell_type": "markdown",
      "metadata": {
        "id": "Iq1pcVXlGhUd"
      },
      "source": [
        "Instead of using a linear function, we will use a logistic function, which has the property of predicting the transition from a value of 0 to a value of 1 and, additionally, it does so with a smooth boundary, which is ideal for creating models that distinguish between two values:"
      ]
    },
    {
      "cell_type": "markdown",
      "metadata": {
        "id": "b8X1PW-jG-es"
      },
      "source": [
        "![logistic-function.jpg](data:image/jpeg;base64,/9j/4AAQSkZJRgABAQEBLAEsAAD/4RCcRXhpZgAASUkqAAgAAAAFABoBBQABAAAASgAAABsBBQABAAAAUgAAACgBAwABAAAAAgAAADEBAgAMAAAAWgAAADIBAgAUAAAAZgAAAHoAAAAsAQAAAQAAACwBAAABAAAAR0lNUCAyLjEwLjgAMjAyMTowNTozMCAxODoyNzoxMQAIAAABBAABAAAAAAEAAAEBBAABAAAArQAAAAIBAwADAAAA4AAAAAMBAwABAAAABgAAAAYBAwABAAAABgAAABUBAwABAAAAAwAAAAECBAABAAAA5gAAAAICBAABAAAArg8AAAAAAAAIAAgACAD/2P/gABBKRklGAAEBAAABAAEAAP/bAEMACAYGBwYFCAcHBwkJCAoMFA0MCwsMGRITDxQdGh8eHRocHCAkLicgIiwjHBwoNyksMDE0NDQfJzk9ODI8LjM0Mv/bAEMBCQkJDAsMGA0NGDIhHCEyMjIyMjIyMjIyMjIyMjIyMjIyMjIyMjIyMjIyMjIyMjIyMjIyMjIyMjIyMjIyMjIyMv/AABEIAK0BAAMBIgACEQEDEQH/xAAfAAABBQEBAQEBAQAAAAAAAAAAAQIDBAUGBwgJCgv/xAC1EAACAQMDAgQDBQUEBAAAAX0BAgMABBEFEiExQQYTUWEHInEUMoGRoQgjQrHBFVLR8CQzYnKCCQoWFxgZGiUmJygpKjQ1Njc4OTpDREVGR0hJSlNUVVZXWFlaY2RlZmdoaWpzdHV2d3h5eoOEhYaHiImKkpOUlZaXmJmaoqOkpaanqKmqsrO0tba3uLm6wsPExcbHyMnK0tPU1dbX2Nna4eLj5OXm5+jp6vHy8/T19vf4+fr/xAAfAQADAQEBAQEBAQEBAAAAAAAAAQIDBAUGBwgJCgv/xAC1EQACAQIEBAMEBwUEBAABAncAAQIDEQQFITEGEkFRB2FxEyIygQgUQpGhscEJIzNS8BVictEKFiQ04SXxFxgZGiYnKCkqNTY3ODk6Q0RFRkdISUpTVFVWV1hZWmNkZWZnaGlqc3R1dnd4eXqCg4SFhoeIiYqSk5SVlpeYmZqio6Slpqeoqaqys7S1tre4ubrCw8TFxsfIycrS09TV1tfY2dri4+Tl5ufo6ery8/T19vf4+fr/2gAMAwEAAhEDEQA/APf6KKKACiiigAooooAKKKKACiiigAooooAKKKKAMODwX4VtbiK4t/DWjQzxOHjkjsIlZGByCCFyCDzmubHj2E/Gc+E/MXy/sWM5/wCW/wB/b/3xXoFcBF4dvR8SmvZItCMYXzty2TibbvOPn3439MnGPagDv6KKKACiiigAooooAKKKKACiiigAooooAKKKKACiiigAoqCSzgmfe6Zb1yfTH9ab9gth/wAs/wDx4+uaALNFVTp1qVwYuMY+8emMetL9gts/6v8A8eNAFmiq39n2vP7rrz94+3v7Cj7Bbf8APPvn7x9/f3NAFmiq39n2uQfK6f7R9vf2FH9n2uMeVxjH3j0/P3oAs0VW+wWxJPl9f9o+ufWj+z7XGPK/8ePpj1oAs0VW+wW2c+XznP3j16+tAsLUAARdP9o+3v7CgCzRVb+z7X/nl/48ff39zR9gtv8Ann/48fb39hQBZzWOp/4q9/8AryH/AKGavHT7U5zF1GPvH/H3Nc+mhWA8bPNsl3C3Ev8Armxu3k9M9PagDqqKq/2fa4x5X/jx9MetO+w2wx+76f7R9c0AWKKq/wBn2uMeV2x949OPf2FL9gtuf3fX/aPv7+5oAs0VW/s+1znyu+fvH29/YUfYLbGPK/8AHj7+/uaALNFVvsFtnPl85z94/wCNA0+1C7RFxjH3j0xj1oAs0VlzvpNu5WR03/3FYs3XPQc1AZBLxaaPcyAj78reUvb1O7sO1UoSYro26KxF07UJhl0srbJyQpeY9+5K+p7U7+wnfBkv5hjtGoUdvr6Cnyrqwv5GzRWKPDNp/HcXr/W4Yevp9TUo8PWA6/aD9bh/8aVo9w1NWiqlpptrZMWhVwT3aRm/mat1IwooooAKKKKACiiigAooooAKKKKACiiigAooooAK5ePWrR/HMlsFuPM+ziLJt3C7g574xj36V1FY6f8AI3y/9eS/+hmgDYooooAKKKKACmySJFG0kjqiKMlmOABVO61Hy5vstrEbi6IzsBwqD1c9h+p9KjXSxPIs2ov9pkU7ljIxGh9Qvc+5q1HrIV+wv9pS3XGn25lXtNJ8kf4dz+Apo0ua4bfqF7JMD/yxi/dxj8ByfxJ+ladFHPb4dAt3IYLW3tl2wQxxj/ZUCpqKKhu4wooooAKKKKACiiigAooooAKKKKACiiigAooooAKKKKACiiigAooooAK5OFtePjyYPFpwtfIXkSPv8ve2Djbjd7ZxXWVjx/8AI4XH/Xkn/obUAbFFFFABWZLcz6hKbexYxwKcS3P/ALKnqffoPemzSPq0r21vIUtEbbPMh5cjqint6E/h16accaQxrHGgRFGFUDAAq/h33J3I7W0hs4vLgQKvUnqWPqT3NTUUVDd9ygooooAKKKKACiiigAooooAKKKKACiiigAooooAKKKKACiiigAooooAKKKKACiiigArlYdGgXx3Pci4vSwt1l2m5crku3G3OMe3Suqrlodc05vHVxbC5BmNskO3afvh2yOlAHU1m3k0l3c/2dbOV4zcSqf8AVr6A/wB4/oOfSptQu2t40ihAa6mO2JD69yfYdTT7GzSythGpLOTukkPV2PUmrXurmZL10JYIIraBIYUCRoMKo6AVJRRUFBRRRQAUUUUAFFFFABRRRQAUUUUAFFFFABRRRQAUUUUAFFFFABRRRQAUUUUAFFFFABRRRQAVhmaK38U3k0rBI47BGZj0ADNW5XBpLqmq/EO4haztfsVqqLMFuSdyhmKNjZ1HUrn054qoxvvsJux1enQNLK2o3CETTLiNW6xx9QPYnqf/AK1aNFFKTu7glYKKKKQwooooAKKKKACiiigAooooAKKKKACiiigAooooAKKKKACiiigAooooAKKKKACiiigAooqK5uI7S3eeU4RBk+/sPehK4FbUbmSNUtrcj7VPkR99o7t9B/PFZ2m2sVl4mnt4QQiWMXJOSTvfJJ7knmtDTraTe99dDF1OACp/5Zp2Qf196xbfSyPHd3N9uuzi2jk2GT5eXf5cY6VcnZcqEu51NFFFQMKKKKACiiigAooooAKKKKACiiigAooooAKKKKACiiigAooooAKKKKACiiigAooooAKKKOlACEhQSSABySe1ZcA/ta6S8fP2OI5t1PR2/vn29Pz9KRz/AG27RKD/AGcjYdu05HVR6r6nv0rVAAAAGAOgFX8HqTuLXL2+t6W3ju7tlv7czm2jiEYcbt4d8rj1rqKxIET/AITK8O1c/YojnH+29QUbdFFFABRRRQAUUUUAFFFFABRRRQAUUUUAFFFFABRRRQAUUUUAFFFFABRRRQAUUUUAFFFVLrUYbVxDzLcMMrDHyxHr7D3NNJvRA3Ysu6RozuwVVGSScAVl5m1hyBmLTh1PR5/p6L+p9h1etjNeyrNqRUopylqpyin1b+8f0H61p9BgVV1HbcncaiLGioihVUYAA4Ap1FFQUFcnbXuqnx7dxNo4EHkRoZvtK8JvfD7cZ59K6ysaD/kcL3/ryh/9DegDZooooAKKKKACiiigAooooAKKKKACiiigAooooAKKKKACioJb20gfZNcwxt/deQA1Wm1zS7eJ5JL+3CopY4kBOBVKMnshXRoUVlR+JdGljV01GBgwDABsnn2psvibTIniQySM8zbIwsTfM2CcDj0Bp+zl2DmXc16KzDqsz8Q2Eh95ZEQfzJ/Sqsd9qF7dS24vLG0MOPMRFMrDIyMMdo/Q0cndhzG6TgZNUJ9XtYXMcZe5n/55W672/HHA/EioWsbQIZLy8ludoJPmyjH/AHyuB+lWNPubCawgnsmiW3lQPHtwuVIyDij3V5hqRBNSvBmRlsoj/AhDyfieg/DP1q1aWNtZKwgjCs5y7nlnPqxPJpl1qdnZ+T586r50qwpznLHoP0qfz4v+eqf99Ck5N6BYkoqmmqWcl/LZLMvnRIsjDPGGJA5/A1YNxCB/ro/++hUjJKKp2WqWeoWcd1BOpikBKljg9cdKS91ay0+FZZ51CNIkYwc/MzBR+pFAF2uVttOuh48vJTq10YxbxP5RVNpUu/yfdzgfXNdL9pg/57R/99Csa3uYP+Eyvv30f/HlD/EP78lAG9RUX2mD/ntH/wB9Cq1jq9jqNr9ot7hDHvdPmODlWKn9QaAL1FUr7VrLTrN7q4nQRIVB2nJ5IA4+pFWPtMH/AD3j/wC+xQBLRVJtVskvo7M3CedJG0ijIxgEA8/iKsfarf8A57xf99igCWiqNpq9jepK0NwhEUrRNuYD5lODS3urWNhZzXU9zGIolLNtYE4HtQBdoqBb21ZQwuIsEZ++Khk1exjvIbVrmPzZVZl+YYwMZ5/GgC7RUP2y2/5+Yf8AvsVVtNb0+9kukhuoy1rMYJMsBhgobj14Yc0AaFFU7vVbGys57qa5iEUMbSOQwJwBk8d+lPi1C0miSVbmLa6hhlx0NAFmisnWPE2j6DZfbNRv4YbfeEL7sgE8DOKs6drGm6vAs2n31vcxsMgxSBuKAKt74W0HUrprq+0eyuZ2xuklhDMfxNUrjwD4Vnt5IhoGnIzqVDrbLlcjqOOtdJRVc0tri5V2OdtfAnhe1t4o10PT2ZEClzbrlsDqeOtJd+BfD11PaS/2Zax/ZpfM2rEMP8pXB9vmz+FdHRUt3GY3/CJeHv8AoDWX/fkVWh8EeHory4uP7LtG87b8hhXC4GOK6KigDEk8IeHnjZP7HshuBGRCvFRWPgnw9ZWFva/2VaS+TGsfmPCu5sDGT710FFAHOXvgfw/efZv+JXaReTOs3yQr82M/KfY5q3/wifh7/oC2H/fhf8K2KKAOfTwR4dTUJbv+ybMmSNU2GBdo2knI468/pVj/AIRPw9j/AJAmn/8AgOv+FbFFAHP2Pgnw7Y2UdsNIspQgI3yQKWPOeeKS+8EeHb2BYjpNnHtkSTdHAoJ2sDjp0OOa6GigDH/4RPw9/wBAPT//AAGT/Cq6eCfDqahLd/2RZEyRrH5Zt02jBJyBjrz+ldBRQBj/APCJ+Hv+gHp3/gMn+FVrDwR4csLXyBpFlKN7vukt0J+Zi2OnQZwPYV0NFAHPX/gjw7f2b2x0iyiDFTvjt0DDDA+ntVr/AIRTw9/0A9O/8Bk/wrXooAwG8FeHWv47v+x7EFI2j8sWybTkg5Ix14qx/wAIp4d/6AWm/wDgKn+Fa9FAHP2fgnw7ZpKo0ewk8yVpcyWyHG45wOOgpb7wX4dvbKa2OjafEJVK747VAy+4OK36KAMdfCfh1VA/sLTDgYybSP8AwqCTwX4dkvYbn+xtPBiVl2C1Ta2cdRj2rfooAyP+EV8O/wDQB0z/AMBI/wDCqtn4I8OWcl240exk+0zmYh7ZCE+VRheOB8vT3NdDRQBhXng3w7eWU9sdF0+MTRtGXS1QMuRjIOOtSQ+E/D8UKRjRNObYoXJtUycfhWzRQByHiDwN4U12BdIudMt4PMIkzbQrG7BT/eA4HTP1960vD3gzw94Wi2aPpVvbNjBlA3SN9WOT+tbDW0TXCzlAZVGA3cD0qWgD/9n/2wBDAAYEBQYFBAYGBQYHBwYIChAKCgkJChQODwwQFxQYGBcUFhYaHSUfGhsjHBYWICwgIyYnKSopGR8tMC0oMCUoKSj/2wBDAQcHBwoIChMKChMoGhYaKCgoKCgoKCgoKCgoKCgoKCgoKCgoKCgoKCgoKCgoKCgoKCgoKCgoKCgoKCgoKCgoKCj/wgARCAGWAlgDAREAAhEBAxEB/8QAHAABAAIDAQEBAAAAAAAAAAAAAAUGAwQHAQII/8QAGAEBAQEBAQAAAAAAAAAAAAAAAAMEAgH/2gAMAwEAAhADEAAAAeqAAAAAAAAAAAAAAAAAAqRbQAAAAAAAAAAAAAAAAAAAAAAAAAAAAAAAAAAACPOCH6LAAAAAAAAAAAAAAAAAAAAAAAAAAAAAAAAAAAAKockO8m6AAAAAAAAAAAAAAAAAAAAAAAAAAAAAAAAAAACvHOTrptAAAAAAAAAAAAAAAAAAAAAAAAAAAAAAAAAAAAFFL0AAAAAAAAAAAAAAAAAAAAAAAAAAAAAAAAAAAACil6AAAAAAAAAAAAAAAAAAAAAAAAAAAAAAAAAAAABRC9gAAAAAAAAAAAAAAAAAA1zVMRnMJmNczmIzGuZjGZjCfZ8GQ8Pk+j4MpiMhhNgwmU1zYMRlMJlIgop0c2T4PsA8PkymIyGIzGIymAzmEzmEymA2DCZDA81LTj6T89fJ9+e5T3nrIbMu7Dx2AAAAAAAAAAAAAAAAAABRC9gAAAAAAAAAEdWUfafgPvz2QlTdl39PQAAAAAAAAAAAAAAAAAAAAABRC9gAAAAAAAAiNEdTvjwko0kZVAAAAAAAAAAAAAAAAAAAAAAAAAFEL2AAAAAAAYuuYLTDwmM9tvjsAAAAAAAAAAAAAAAAAAAAAAAAAAQBzk64bIAAAAAMXvkBrzZeep7Lf16AAAAAAAAAAAAAAAAAAAAAAAAAAABRC9gAAAAAgdWfH75Ycmj16AAAAAAAAAAAAAAAAAAAAAAAAAAAABQy+AAAAA1e+IHVCfy6NnjoAAAAAAAAAAAAAAAAAAAAAAAAAAAAAChl8AAAAIm8dbvmfy6AAAAAAAAAAAAAAAAAAAAAAAAAAAAAABXzm5182QAACC1Z9njuUhUAAAAAAAAAAAAAAAAAAAAAAAAAAAAAAAUIvoAABXdeaUhXenQAAAAAAAAAAAAAAAAAAAAAAAAAAAAAAACgl+AABXdeaWhbcn2AAAAAAAAAAAAAAAAAAAAAAAAAAAAAAAAKCX4AAgNWeSjTdnQAAAAAAAAAAAAAAAAAAAAAAAAAAAAAAAAQJzc66bIBDaIZuepONQAAAAAAAAAAAAAAAAAAAAAAAAAAAAAAAABQS/AGhWelTiczXAAAAAAAAAAAAAAAAAAAAAAAAAAAAAAAAAAoJfgY/fK5szWfFqAAAAAAAAAAAAAAAAAAAAAAAAAAAAAAAAAAFAL+Cr7ctnxafXoAAAAAAAAAAAAAAAAAAAAAAAAAAAAAAAAAEAc3OvEZphvypuz7AAAAAAAAAAAAAAAAAAAAAAAAAAAAAAAAAAAoRc++Iu8p7LoAAAAAAAAAAAAAAAAAAAAAAAAAAAAAAAAAAAFCJXbltGLUAAAAAAAAAAAAAAAAAAAAAAAAAAAAAAAAAAAPk5PrzdQz22uOwAAAAAAAAAAAAAAAAAAAAAAAAAAAAAAAAAABV6cUy8Op5NWwAAAAAAAAAAAAAAAAAAAAAAAAAAAAAAAAAAACr7csZi1XsAAAAAAAAAAAAAAAAAAAAAAAAAAAAAAAAAAAFf1Z5jPal89XwAAAAAAAAAAAAAAAAAAAAAAAAAAAAAAAAAAA0az1O+JPPegHQz6AAAAAAAAAAAAAAAAAAAAAAAAAAAAAAAAAAPHlZ25rPi1Q5zs6qZwAAAAAAAAAAAAAAAAAAAAAAAAAAAAAAAAACs7Mtjyafvz0UMvgAAAAAAAAAAAAAAAAAAAAAAAAAAAAAAAAABC6Ybc+9+VAKIXsAAAAAAAAAAAAAAAAAAAAAAAAAAAAAAAAAEfWer3xNZ7gahQDo59gAAAAAAAAAAAAAAAAAAAAAAAAAAAAAAAA1e+IfRGxZNIAijnp1EzAAAAAAAAAAAAAAAAAAAAAAAAAAAAAAAAGDrmA1Z7Nj1AACil6AAAAAAAAAAAAAAAAAAAAAAAAAAAAAAAAMHXNf157Pi1AAAUYvIAAAAAAAAAAAAAAAAAAAAAAAAAAAAAAANOnENohZceoAADRKCdIMgAAAAAAAAAAAAAAAAAAAAAAAAAAAAAAIq8dXvmfy6AAABoHPzpZkAAAAAAAAAAAAAAAAAAAAAAAAAAAAAB4V3Xm3p9ysLAAAACjF5AAAAAAAAAAAAAAAAAAAAAAAAAAAAABG2lFXlYsmjLz0AAAABRi8gAAAAAAAAAAAAAAAAAAAAAAAAAAAA1KcQuiEjGspGoAAAAAjjn50wygAAAAAAAAAAAAAAAAAAAAAAAAAAEZaUdaW3PuZz3AAAAAAGkUE6QfYAAAAAAAAAAAAAAAAAAAAAAAAANGs4u0vCTjWQlQAAAAAAACil6AAAAAAAAAAAAAAAAAAAAAAAB4R1paFZ+A3pUlI1AAAAAAAAAFFL0AAAAAAAAAAAAAAAAAADX65i7x+ffPj1Ce8yL36899Iglj3xIyrDSpaACqlqAKsWgHhUS3HgKcXAHhUy2HgKOXg8BUS3AFULWeAqRbDw+CsFpBgIMsQNA0CdPCONYmjwiTISQPg5aXgt5H++Q3XI+fPanz1agCslmAKwWc9BVC1g9KsWkHpWyyA9KwWcArZZACtlkAKyWcArZZACtFmB8ldLKDCQ5Pg0jSJwEeYCYPSKMhJA+TlReS7G6AAAAAAAAAAAAAAAAAAAAAAAAAAAAAAAAAAAaBtmQAAAAAAAAAAAAAAAAAAAAAAAAAAAAAAAAAAAArxOmQAAAAAAAAAAAAAAAAAAAAAAAAAAAAAAAAAAAAAA//xAAtEAABBAECBQMEAgMBAAAAAAAEAAIDBQETFAYSFRZgETVQECAwNDFAISUzIv/aAAgBAQABBQL4SvstxceE2BGBQqYrI1r4TxEISaHBTFzkhYlwJ4RbR2EmAIbZ1kLiRo3hNN794VS+++FUvvvwxDHSR7eTnwLNy6EmptZdPQk1NrNpaEmptpdPQk59rNybeTnyNLyZgk59tLy7eTm20q28iwPIttKsDyrbS+mhJ67aXk0JOfazcmhJqbaXk0JNTaTaehJqbaXT0JNTIs3JoSc5gRz2VwlhJZRCEYHyPJzbaX028i28q28qwNL64Gl9MQSeu2l5dvJz7Wbk0JOfay8mhJqbWbT0JNTazaWhJqZFl09CTU2s3JoSc22l5Mjyerh5GtfNEzOTYlkqV2cOss55LZyxDbeuBLT02dj6jhltb8PSe+f1ZjRoV1LnXrZSrYkSLFSKmBjMWMYx8fSe+f0p7EaLOudOunPlUIQ0PytJ75+eSRkTc2D5s7GYhQDwwY+WtRCSlXAGS2IzHRj/AJJJGRNybMTmKtbl2MYxj5mj97/JPYf+46/MjsYxjHzdF71+IieMeP0JsVBBHAz52h95/Caa0dDhOfJ89bASnKsq55zhY8wj/eWW7MgQbRseAcP+7/eUS+eUQaMWPwHh/wB2+4sh88oo7BovAuHvdftOJe6QMZgsPgVpX79VVVuTRotEf62BWYUALgaPwTh33P6mktFhrhnN8G4c9y+kj2xsDY40jwbhz3H6T5zYFYxhuPBbWrjslU0sJZQ0OBx7IhzUGO0aDwfhv98mdo8NbA7wnhv97H+xN8Iy7GFXyv3Q0TIIPCL4QYgenrR7DA8TR4PCGf7E3hr9rwiyldI6CJsEPDP7Xg5pDRYK0d0bZJY4lw5PEwlucOx4K7OG4Gxk8pWFcPYKkqBCpoImwQ+CluyaQxuGM+nDP7HgtiS5iCGaLB9eGf2PBDimixV4zo/snJgHXDxg0UzHNezwImdg8QUL55vsOrxj1R1IZUsMbYYvAZ5WQRDRvOm+7hn/ALeAzzMgihifYS/fwz/18AKJjGigHkMl+8kuAVcPniwPje2RnzxprR0MG90v4Cgxy1w/XCEOjY2KP5zP+FKa8h4YTBvx8L/z84WZEMtAg7MUbImfj4X+bIJiHbrFmoQKIf8AKYaOGuH7IQdRSNlj+XJOHHWocWh6+GJ35iBYCVw6CLOo2NjZ8pOXBAuoSTLaFEIcOAf+lwt/HyGc4wpDhY11WNy1bGVbCaVQADQ/1eFv4+GnmjgZ1UJdWDXWA0ddZ1etw5XVJHLeGORVgZEVt3vWAAsqOEGNG2LobfWiWtEtaJEWb2X+tEtaJa8SfZuxf68K3EK3EKZYO7k3MC3MC3MCGsXZ4j3Q63Q63Q6Ascvut2Mt2Mt4MuFyImM3gy3gy3gqpbPMpe8FW9FW9FVFZart6Kt6Kt8KuHLTWF3wi3wieeJy8O2mqFvw11ANT2IuIaG0ZJXdQDXUQkfZjNBpLSJ9b1EJdSCVjaDtAp7WF9b1IFdTBVrawNr620GcB1MFdTBT7MLkE4nLiQnEgM6jkZK08GE5vb4K7eBXboCuKWCArtuuXbdcu265WNIPFZdt1y7brl23XI2lHjuO265dt1y7brkRSwNv+265duVy7crU+lHxxB25WrtytXblamUUXXO3K1du1q7drVBRRZvO3a1du1q7drUHRQute3a1du1q7drVS0UMre3a1du1q7drVU0UTye3a1du1q7drVT0UMme3axdu1i7erFRUUMg/b1Yu3qxO4ereWhooZBO3qxdvVim4frsQ0lEPIB2/WLt+sRtCDgOmohn13QK1dArVYUQTQaijFdX9BrV0GtVpRiNr66jDyD0KtXQ65Po67kD4fPJQfCw0aGFgFb4O8qNjo3c7PCTR5Sp43ZfH4b/AP/EAC0RAAIBAgUDAwMEAwAAAAAAAAECAwAxERITIWAUMkEiI1EEM2FCUHGRgIGQ/9oACAEDAQE/Af8AiYZkHmuqj8V1HwprVl8JWab4r3/xXu/issnzShhf9+aZEua6jHsUmsZ2+BWi57nrpo/O9CJBYcDadF2rPK/aMP5rQLd7Y0sKJYcFLBdzWuW2jGNaLP8AcNKip2jgxIG5rWaT7Q/3Q+nF33PCGn3ypuaEGbeXfhDuEGLV65r7ClQIMF4RJKE2F6SEk55L8JklOORL1HEE/nhLyFjkjqOMRjAcJkcsdNKRAgwHCZZDjppeo4xGMBwmWTL6VuaijyD88JkkEYxNQxketrnhJOAxNRgytqNbxwpvebILC/CpnI9C3NRoEXAcJdwgzGoUPe1zwr7z/gcKmfE6a3NIoQZRwmRwi5jX08ZHuNc8KHvPj4HCpmJ9tbmlUKMBwmRxGuNQxlfU1zwpPebObC3CpDqtpi3mgMNhwmWQj0rc1HGIxhwmSQRjGooyPU1zwl3CDE1GhY6j8JZgoxNIplOd7eOEswQYmlUzHM9uEvIIxiaVDIc8n9cJklCbeaSIk55L8JaUucsX91HEE388IklWO9ZHl79h8UAFGA4O8ipu1ZpJe3YVHCqb+eDvMiXrNLJbYUkCrvc8GaVE7jWuW+2taUj97f1SRInaOCGZFua6kHtGNZpmsMK0WbvakhRLD98ZgoxNdVF811cXzXVxfNH6yOuqHhTWs/hKzzH9NYTnyK0XPc9dMh7t6WJFsOAEA3rTX4rIvxWUf4U//8QAMhEAAgEBBgQEBgAHAAAAAAAAAQMCAAQREhMxYBQhMkEiM0JRIyRQYYGRNFJicYCQsf/aAAgBAgEBPwH/AEl3X0LOw+muDb3rhfeYrJT3nWBA9VfL/er0/esSf5amYnpH16CGT0FcLh65AVdZ4+5riFx6IVxjO3Ki9h1lV9+woWZkud1ZaYdUr/7VxIj5cbqm9k9TsWMTI3CuGEObTdXEQX5Uam2c+o7GjEyNwrIgvm4/ipWo3YVi4VrseFm5YmchUrThGFIurXY61yYbo1euz6c5VNkmG+WyFILOZ5CpvAGBXIbJUkXZjNKc8s5dtkrUIDMb+qa2TTedkqXGEc1n4pjJMlilslKgBms0/wC01pbK87JQnH4pdIpzsw/bZKVFsrhT2g/Dh0jZIBkbhTSExyo699lQ+XhjPUdK12TZ1g+OegprCyWI7JWsslhFWhg8uGg2V/Dr/qOyrOsAZs9BTJlksR2SpZZLCKtTQfhw0Gyj8uu71HZVngIjNnoKnMzliOyUqLZYRVoaJHDHQbJAvpnwIZY1OuylAJjmy17USSbzslCgfHPpFOaWyvOyUqLZXU9ol4IdI2StZZLDGnTEI5S/zsmEDM4Y0yQRHLhr3OyYQMzhjUphAwQ17nZK1Sabo1NkUjAr97JUgs56CmOAGWrTZMUBYxu/VNeWctBshSJM0rMWjy+Z96lIyN52OtUmG6IrApPXzNNfJnLtsddnmzQVhSrqOI0y0zlyHIbGgmc+kVw0YebK6s5S/Lj+6Y+bOo7EjZ2S0jXCSHWQKwWeOsr64iEeiFTtDJ6n65CBmcMa4N3tXBO9q4J3tQsLO9cGRrIVkLGs6wWceqr7MOxNcQsdMK4xnp5VJ7JanYAJGlZs/esyfvWKXv8A4U//xABFEAABAgMCCQYMBQMEAwAAAAABAgMAERIEMRMUITM0QVFhkgUiIzJgkTBCUFJxcnOBoaLB0SAkYnSTEEBTFUNEgrHh8f/aAAgBAQAGPwLyJbbNPmo6nuv7FPPnxEz98MvKOQqkr39iksWWnKqapmUPsICMIz1udDQtGdCZK9PYlv8A015DV9VX/wAi2ps9obTaARhVHX8IbFoIU6EiojWexXK3pHYvlb1h2L5W9YfXyPShwtmYyiJ4wqVZVLcdUSxpfUSmctYN/virDqlWVS3SuinGlzoCZ79sVYdUq6pbpSl9Ypxtc8HRVLX50VYwqVdUt0pS+sU40ueDpq37Ynh1SrqluldEsbXOgpnLXO+J4wqVYVLdK6JY0udCkzlrOv3RPDqlUky9GqJY0udKxOW24+6CcYVeky9F/fGlLuX8bu6NIVen4X98aQvx/jd3RpK/E+F/fGkLvV8bu6NKXcgXbL++M+rrKPfq90Sxpc6Uictl598A4wqVSjL06olja50JTOWsG/3xVh1SrKpbpXRLGlzoCZ79sVYdUq6pbpSl9Ypxtc8HROWvzoqxhUsJVTuldFOMrng6at+2KsOqVdUt0rvrEsaXOgpnLXO+J4wqVYVLdK6GhZrcUETqJF8W5DNtodQRhFy60IQ5a1lwIUkqlrOv3RPGFdZJ7tXvjSl3LF227ujSF3o+F/fGkL8f43d0aSvxPhf3xpK/H+N3dGlLuQLtl/fGfVeo9/2iWNLnSgTlsOU++AcYVKpRl6dUSxpc6EpnLWNfvieHVKsqluldEsaXOgJnLWNcVYdUq6pbpSl9Ypxtc8HROWvzoqxhUsJVTuldFONLng6Kpa/OirDqlXVTuldFONLnQUz3zvirGFSrCpbpXRLG1zoUmctZN/uieHV1wqW7ZEsaXOlQnLbcfdE8YV1knu1e+MtrUMixP03d0ZbeL03br++JJtbyzz7kbbu6OjRbD1PE2X98c1pyXPvVtu7o1JyJvVs+8Z1m9R164y2xAyJF2yNPF5PVhQetql5EgGV0j5I5X9YfX+26R1M9gyx+Wszzu+UhGRLLI35THT21z0I5sTWFuH9So5rDfdGQAeT+V/WH1/s5V1r81GWOhYSynznftH5u0uOfpTkEdG0me2/yryv6w+v9hU4oJG+KbCyXP1qyJidtfJH+NGQR0TaU+V28VtRs9M5y1xbm2rcptxsitfnw2hxda0pkVbfC1OKCU7TFNga5v+Vd0YS1rL7m+7uiQEh5a5X9cfXwuCsacM7uuEYS3rwq/N8URIZB5c5X9cfXwdbqpCOdNiy7PGVFDSQkeXuV/XH18EEIGEfV1UCMPbjhHdSdSfL7eCta7PTOdOuLc2i3OtqaVIrHj374bbUsrKUyKjr8Bi9jFT+s6kQVE1vK6yz2B5Y9oPr4A2axdbx3NSYpb951nsFyx7Qf+T+PFbGed/uOebAbbHv29g+V/afU/ixWyZ5XWV5ggIR7zt7Bt/mHGaJ9TXFvbxp5GBXKafGvhtqoqoTKo6/wJaZFVoc6o2b4ymp1WVatvYXlf2v1P4CtWU3JG0wq0WjLaHPl3dhuV/bfU/1K1mSRfGNvDo05pP17D8r+2+p/ri6NHbzh2nZAAyAdhm8K44iifUi3NrddSGHKRSb74bZSSQhNMzCbPZ8+7duG2Eto9529iOVvb/UwpxdwhVqtGed+UbOxPK3t/qYn/wAVg8SuxOUgRyiw1kU++RVsEzOEtt9UdiQ5ayuTdwSb4fbdwiUskCQMNtInSgUifYmv/jMnm/qVHKvt/v2JTY2D0jnWPmphLbfVTHKvt/v2ILir9Q2mFOvZX3cqt26BhHEIn5xlHKdbqEzeyTVffAKSCDrHYYk5AIxleYbyNDbv/ojGUk0XSMotyXkKIadpTztUIab6iBSOw2KNHo051X0gJQJJF39eVPbn69hksWfLaHLt2+AhOU3qO0/g5U9ufr2FqOVRyJTtMKftGW0OX7t34Bh3m253VqlHKJdtDSKniU1KAnAUghSTlBHYMuOHIIxu1Dnf7aPNH4UY03XTdlIi3B9qoNu0p5xyCENtiSECQHYIuOGSRAtNpEmhmm/r+PlP9wewRcdMkiA/aRSwM23t3nwHKX7g9ga3T6BtgWi2CSB1Gvv4BOMOpbquqi34Z9CK3iUzN4hK0GpKhMHy+EgVvK6qBGMW01u6k6keBTjLSXKbpxbsMwhdDxSmeoQlDYkhIkB5dywWeTxM+M6bkwVTrePWWfB8ofuD5d55ms3IF5idr6Jj/ELz6YCG0hKRqHhOUP3B8tzeWEx+XTgGf8irz6IqE1uG9ar/AAqcZcCKrpxbMM8E1vFSd4hLjZmhQmD5Yktc1eanKY6JAszfnL60Vrm67568vhxjDSHJXVCcW3DMNrpeIExcICEAJSnIAPKvSupG6PydmWv9Ssgj81aKU+Y1kjomwDt1/wBlb/3B8o5Y5z6PcZx+Xaee9VMcxhtkbVmcfmbY4dyObHMaTPacv9rb/wBwfI9bqqUxnvlMZ35THXPDDGKKGDn0tQ1bo5rTpjo7Kf8AssCOa0wj1nIs7CnWAXjKaMso6blI/wDSSY6V4ues5HMSx8IsdnaW3gHOtGcRxRnEcUZxHFFnsqVt4utE1HvjOI4oziOKM6jihFlC28XKKid8Z1vijOt8UZ1vihxkvpxYNzAmJTyRnm+IRnm+IRnmuIRaWV2hOKpRNOUSnkjPtcYjPtcYjPtcYi2tu2hOLp6kyJRpDPGI0hnjEaQzxiLbhHW0zeJyqjSGeMRpDPGI0lnjEW8Wq0ooSuTdRAyTMaSzxiNJZ4xGks8Yi2Y3aUc1ySKiBkjSWeMRpLPGI0lnjEOm3WpFYckKiBkjSWOMRpTHGIMrUzxiFKt1qRha/HIGSNKY4xGlMcYhym1M1UmXPEJVbbU3hpnrKAMaUxxiNLY4xFoLNrZwobNMli+UNKtlraw+WdSgDfGlscYjS2P5BD5s9rZwoQaZLF8Mqtdraw+WqpQBvjTLP/II0yz/AMgh42W1s4aXNpWCYYNotbOGKedNYBnGmWf+QRpln/kEGVsYnL/IIk+lD47jADhUyr9d3fFTS0rTtSZwhL9UkmYkZR/u/wAhi53+Qx1XOMxYU2ZpwocXJy85MkZtfHGbXxxm18cWFtlpzAuHpMpMZtfGYza+Mxm18ZixstNOYBfXymM2vjMZtfGYza+MxZ7OhpzFVImq+/LrjNr4zGaVxmM0rjMN2cMrxUomcpv9MZpXGYzSuMxmlcZhbZs68SoyGZv9MZlXGYzKuMxmTxmH23LOvEgnmGZvya++MyeMxmTxmMyeMxa0PWdeKjNmZjMnjMZk8ZjMnjMWjHrOsEOcyZIyRmDxmMweMxmDxmLYLZZ1htK+imSMmX/1GYPGYzB4zGYPGYtOO2ZYkvo5kjJGYPGqMweNUaOeNUOHlCzLDlfNmSMkaP8AOr7xo/zq+8GVny+ur7wo8o2ZQdr1kjJGj/Or7xo/zq+8LKLNzpGXPV94SbdZlYeZnMkRo3zq+8aN86ofLFm6Wg0c43yhs22zHD5apkjXGjfMY0b5jD5s9m6ak0yJvhk2uy9PlqmSNcaMOIxow4jDxstl6aXNkTDBtFl6annTJvjRk95jRU95gysqbtpgEt4JO1zJ8InaXFPHYOaIlZ2kNjcOxDqXJpwYqy6xuhKqSmYnI3jsVUAE4DKifjq+0JUUlJIuOrsd/8QAKxAAAQMCBQMEAwEBAQAAAAAAAQARITFBUWFxwfBggZFQobHxIDDREOFA/9oACAEBAAE/IfRBtQsfB7+irzgGdg8o5mQk1ECT5fooWDHGkFB5+E8WAD2CcEBYARkuCF+iX1AWc0a7NMiZAGOWb/gIM0imYk9Fcvn0XxufWVRW4Jeggkd6IMoqEqBhoFUA8c9wA66EGEPBwSYNIMoBkablhc11KzL44+FdPmWEnurZeOfj4V0z5opk99VJp2Oxna8re144V1FEdHX2MOkmUWyHUAca6EQQhoqwMe6qJzAOohv8AInYYMZQUKoG8kpjlsRKSwZadpBTJtGP6F4azliQRk0tO1VBHlmYjcvgUBAXwGbWoQBul1cJ9Sgq2VFVAMOyq/toQOuhQIaBgkwaQZQGJko+WFzXU0Rxr44+FdMge6m91bLxzUUO15U+qopk99VlHxxR7XQhserhw1iin4UdjDpJlZ/dfS48UQTGOhlColOozjaRJAMQ2sE1ITtZMzEctqL9KSna3IY1ox/Qiaxox/YgAJJJM3LAg2kpmYjlvQQknEZrUCqb8iPfAKNEqKqAYdlVueEOdVCGl5bmDSDKFVdXBzrNFnHxx8K6ZQ10wvdWy8c1FDteV8jwk91VkXxRR7XlEkAaTlzhXUUU7ArhjDpJlf20IDXQpMEwlADHQaonZDq4T6lARLQRFawTUmIehhJuVdAVqYrE+VBSzSBjX/QsvQoE83cgkshow/IyAkGNqycncpQioCex2siGnJAI1V73TryCgGMU7IjEIA2oPmnpHF4/+Y+swuO8BPjgHySvn42tlecYKPM0DlU0HFpQ9hGQ9P5vH/xDAlZCoAervFyUreYbJtZhcHeT6ryeP/gHIfuTI7s+gIcjy6plZyBPn1ce97lWyFJCADKc0f8ADC78f2mIgqRkXOKDCOgugHwv6IJBAoAPWuVx/aETxv8ALKEzawp7KEggFAPXOVx/XOxh+Toq127HYITDOF9fXuHx/VIFcw++AQwDV+LHr4gcbmtsCEB6t1eUj2e6DedWjAr+huw2iYlFgSKs/wDOgeIx/RLV7Z/qbNJk9XE9E6Tf2gHDVN8gKlUsT0H7P+SIzAyMTVSB3PU8T0GcAGKFzV8I9xpplI+FQol6y5/AZQl8oiuQual0T7gVBrhIvcg5MHRKIDALkbJxwQH6GEgVKIVhV/q8wvuFQRYAYAW6GFDQJwDu2IyREEDgcHCYyQrDgqEAXQORF7pLGU4i56I92Sb+OmJwRpEvAHs9Evek5lAw/l0T73hQJFlnwFwmxWa459Ej1HYhxt7JnkaymXeFGW9ww6JqMtsGMvffnokxSpPcQ5mAwXuPz0QlMo8YFdbV7Ey5Bl3lFgEckAMehBKM4I4PQxSwE5JsmGl5zd/kcAt02r6RPQmyDOP8QLCAQkvA6Gf+Ew1HsBYBb/eax6GYCAOHEsQJNcb8OSx6FMEplVT4K48OD8NIzD/KEwjpkuZGKCtNycEYjoNj15icAoZCqcn/ABEAQH2x9CjTScdIYgpvsL52A6CCLryijZpPl+fIYnoIEm8RJMkv6ByuJ6BMmosVLAKpLlsZ/oXpyRnRoDQqzAgt2QUI9fc2zzOqEgPp7P8ATfAMt0wAeyAhxRAVh66QAkgALlCgUvYWKeks6z0QUOATHFQHGNYF8hUAQA6HXK1Bc6BUBjWYsiLkGJMv23fuIyyu/wBAOomvNY4H1iEKYvA5haBZ6kV3b9/j6wQiht5yAgGyYIAw9VdnPM58KmEr8V9dwu/tz5dB1AuQAzT5NFnHsiSxTGBe9g3srKdMmMsua9/XOkIYLlEXD8I448sEQX+5Cd6LLh5VTxu3j+q6SX3rBPwUwDUGzW+qZS8i3FKE8f5ppYEXJI+6ZOEvgtW9l9WX1ZfVlZLJKtf2C+vL68vpSteXFhv2X1BfRF9MRuTVAXefwGO6h4CmgX9z+AFnjJ+hoVlDdcg3XIN1wjdOZgxoOMVxrdc+3XJt1SOupgcbLk264NuuDbqiGXFTTFcG3XPt1x7dSGQ7sB/1cq3XMt0BOWLfchz1QHWAt5XIt1wrdEpugVmTmGeiTxC51uuDbpwMF4MzMNU+yDjwNGjLn2645unpqHw4GCBDkMRC2i5BuuAbpr63wPYJkfJzwOFxDdcQ3V2kZv6IeADc/OI9k9CrB8G6HTBRgQ+SxRllf5FCeq55pABZddapX3pfel96RkwkFADi9vw0QQOgDL3Gre34MMMSMWXIQ7VB+DGkkwCSCB/hcs3XDN1wvdFs6dGRH9Lge653uuf7oIG5YAk5/uuf7rn+6CThDwAaXuuf7rn+65/uiQWASfN91zfdc33TH8kwfmmE4vuuL7rje6YuG5HPOVwrdcK3XIt0J0CFnxgdVnFM4oKUsIUB1pAW8LA6rMqZlQghpmEloQEdVPZ4gH/IOD+iOyadhTah8UCeMydU0PgyyXPNZLnmogaazgui9gQkiqz4MuG7rhu6elDXhd9ULk4Yw4rrhW65hugCuHN9iZCPc/6Jg4qN/dPyisROp6Idc3ZCMTFgiFCxezD0UMBjD6xj2DvNgngTDWLDo7//2gAMAwEAAgADAAAAEJJJJJJJJJJJJJJJJJJJJJJJJJJJJJJJJJJJJJJJJJJJJJJJJJJJJJJJAJJJJJJJJJJJJJJJJJJJJJJJJJJJJJJJJJJJJJJJJJJJJJJJJJJJJJJJJJJJJJJJJJJJJJJJJJJJJJJJJJJJJJJJJJJJJJJJJJJJJJJJJJJJJJJJJJJJJJJJJJJJJJJJJJJJJJJJJJJJJJJJJJJJJJIJJJJJJJJJJJJJJJJJJJJJJJJJJJJJJJJJJJJJJJJJJJJJJJJJJJJJJJJIJAAAAIAJBIBJAJIJBABBAABAIJBIABBz1jAPJJJJJJJJJJJJJJJJJJJBJJJJJJJJJJGbsPJJJJJJJJJJJJJJJJJJJJJJIJJJJJJJJJA95JJJJJJJJJJJJJJJJJJJJJJJJJBJJJJJJJCl5JJJJJJJJJJJJJJJJJJJJJJJJJJJBJJJJJJinJJJJJJJJJJJJJJJJJJJJJJJJJJJJBJJJJJIK5JJJJJJJJJJJJJJJJJJJJJJJJJJJJJJJJJJOpJJJJJJJJJJJJJJJJJJJJJJJJJJJJJJBJJJJOpJJJJJJJJJJJJJJJJJJJJJJJJJJJJJJBBJJJCJJJJJJJJJJJJJJJJJJJJJJJJJJJJJJJJBJJJL5JJJJJJJJJJJJJJJJJJJJJJJJJJJJJJJJJJJHJJJJJJJJJJJJJJJJJJJJJJJJJJJJJJJJJJJJE5JJJJJJJJJJJJJJJJJJJJJJJJJJJJJJJJBJJPpJJJJJJJJJJJJJJJJJJJJJJJJJJJJJJJJJBJJpJJJJJJJJJJJJJJJJJJJJJJJJJJJJJJJJJIJNJJJJJJJJJJJJJJJJJJJJJJJJJJJJJJJJJJIBJHJJJJJJJJJJJJJJJJJJJJJJJJJJJJJJJJJJBBNJJJJJJJJJJJJJJJJJJJJJJJJJJJJJJJJJJJB7JJJJJJJJJJJJJJJJJJJJJJJJJJJJJJJJJJJJJJJJJJJJJJJJJJJJJJJJJJJJJJJJJJJJJJJJJDZJJJJJJJJJJJJJJJJJJJJJJJJJJJJJJJJJJJIxJJJJJJJJJJJJJJJJJJJJJJJJJJJJJJJJJJJJBJJJJJJJJJJJJJJJJJJJJJJJJJJJJJJJJJJJItJJJJJJJJJJJJJJJJJJJJJJJJJJJJJJJJJJJIWJJJJJJJJJJJJJJJJJJJJJJJJJJJJJJJJJJJIxJJJJJJJJJJJJJJJJJJJJJJJJJJJJJJJJJJJJOJJJJJJJJJJJJJJJJJJJJJJJJJJJJJJJJJJJJDJIJJJJJJJJJJJJJJJJJJJJJJJJJJJJJJJJJJE5JJJJJJJJJJJJJJJJJJJJJJJJJJJJJJJJJJJPZJABJJJJJJJJJJJJJJJJJJJJJJJJJJJJJJJJM5JJJJJJJJJJJJJJJJJJJJJJJJJJJJJJJJJJJFZJJIJJJJJJJJJJJJJJJJJJJJJJJJJJJJJJJJA5JJJBJJJJJJJJJJJJJJJJJJJJJJJJJJJJJJJDZJJJBBJJJJJJJJJJJJJJJJJJJJJJJJJJJJJJlZJJJJJJJJJJJJJJJJJJJJJJJJJJJJJJJJJJJZZJJJJJJJJJJJJJJJJJJJJJJJJJJJJJJJJJJB9JJJJJIBJJJJJJJJJJJJJJJJJJJJJJJJJJJIjZJJJJJJIBJJJJJJJJJJJJJJJJJJJJJJJJJIVtJJJJJJJJJJJJJJJJJJJJJJJJJJJJJJJJJqV9JJJJJJJJJJJJJJJJJJJJJJJJJJJJJMrGqceBJBJJBAIJBAJIJAAAIAJBAIAAIIJBABBMbAABIIBJAJAJBABABJJABJJBBBJBJAAIBBBBJJJJJJJJJJJJJJJJJJJJJJJJJJJJJJJJJJJJJJJJJJJJJJJJJJJJJJJJJJJJJJJJJJJJJJJJJAJJJJJJJJJJJJJJJJJJJJJJJJJJJJJJJJJJJJJJJ//xAApEQEAAQIFBAICAwEBAAAAAAABABExIUFRYNFhcYGRweGx8FCh8YCQ/9oACAEDAQE/EP8AxLULzA0+5UaJewytaK8RR+Qg2U8/Uro9niAro9+JVLfUrFdf2389aomT4Ch7ZkAPbxM7eMJWalXVZjYniAFthP4quhizRLXgTOXQYEtUbFIq0Ip8s4H3Lyv0MDlhlKGxjalCWWBqt41jGv3reCAGBscsD+A7sZVqtMjxADA2PU1QlP8AdvEpSobIwyqrEqArkMjtsnAOv9DvxK63V3ZOd7NyPuf6Vdk5vc3T7h/ZOnMruhzpP0s7JekK2j5YOM1V3V2T6jGrKhw3TZJNYJlCWfOym85HTmABQ2TROG6wVsmZ2SYzjDI2UX/vfrZTg/wGsE2TZKrIlUH4jZX9P9XXxspU650IbtmyXD8dWAOpPHjZKgVYHlp142UmRrviASwbJpOPa6dWUj8ursmuWLkasrOPe6dDZKd8CUnY5Ghzsl09AgMqCz5euyXr0CCSoLHy7JrXh8KBb5PXZOGsVYlYlchkdudkWl2GuQ5ZrpXW+yOqMguy97Vd7sphobHBqUloes38HMwFjqb7HwBY6GLMh6zf1EK+447GtASzR6uBNBGmD+7zJT87DWl5hQ+5mrsOZlnua/iZ5e2Es1X+cdPQIn9XifqHifsGAtV8QS48RW95QgDAHd4lkh2q/mUNE8UJSYnuWYgZ42ADQVJ0fogeT1AbB/xT/8QAKREBAAECBAUEAwEBAAAAAAAAAQARMSFBUWBhcYGR0aGxweFQ8PGAkP/aAAgBAgEBPxD/AIliwBLWu0LwDmkpLXrKXwjHNHkSgz7DzEbCtp1zz9JSbs8+3aULAwx48fz11/Ymd1yr2mbV4YHmZB64xo0YOAS8neKudhC2DVwJm56eUtz4nFl19i0c1YC6MYssKTq4v1Eas7GoZqwLc6L9YDoVfvFVV2O2L995EDCDXNiqq7HoGqz9KDzKwquyKw1G6/Epv1HN2SKtpl1eUTBgbBsk/ayzP1OwcyNk5Kcmr4jpPrZOVXY1TsTNDZIVPS4/EbDKDANDZIC1m6EpOD6jrskwVVld+K742UTkw0NYqqt9k1TzTpFf8DZJS+zA+ac3ZTY+k+9lKOFcWLLrskHnygeadlWni8DTrspBwg1YyuuyQPUdCAtOPOyUVC8RzuacNlUXYrPmOkquyazhXOPCILWRobJohgF3QlMwLHHjskIGLKusM2r42SHCqxY9V/A2SHCqxu9X/A/frZFI31FLVW/wNk1ptG6ynymZzdkAuBK0KaZnxMLYNgtsjExQzWxKCnMrHIi56ux8TKXr4ZbqzF2GgtsfEsDVwJ6cC3eA9IMNjX9fbvLgeAxZqB1xekzINMu2wwXAlyO0veaszNylPeZWOLjL/wBOGH5wOFVn6U8z9KeYf2EXcHWNousy30KzOt5HmZXmKHtMj9cYhYcgS4/eLW/59Wqozie7Frvuxa67ytf8Uf/EACsQAQABAwMCBQUBAQEBAAAAAAERACExQVFhcfAgYIGRwRAwUKGx0fHhcP/aAAgBAQABPxD8I/MZ9f8AVPJTsEjVixHrIPWn5OXxhx+jyVE7MyE55Lho7aKEDKJRfDUAGcgEITRifXyScrcoUXBOHozQQNeYYMtfFEUlpIIigLLOh0/+Kn9l38l+3b/hy1oE5BlAsBXDQHKjx6ictjvtQgvWhLgJwXGhQ3ImzhZfYXcqarx+1SYFkpeE+Q2DPDJvTOw/2TLLMP8AlALFbflM9RvxS8ZWtmxR0C0Vrknwk3nll3peMbaujXOCQNmkIm9Ag8zCW7utYYU4nVpwWGo0okBNgXKw7uutPVgAJNaMnqGaKgqi0IcLJ2nWgEUSSnMmTJtuM09DIwxEamNe060PQS4c7mrTbdxSwwdm2tSs6bbKAOEbp9g078UMNgiC+pOT0DFNZgFkaZsSE6aUYCJcS45cPQCtaIcauXh2cmlL8fZOgTguNDFY0N9UcvsLvRlKhXsMYFxSQTsG8oMsMm9AtOpMWGoaphx6Uzb1heXz1O/FGQ4OE4o6BaP3TL9G+y55ZN6VWvESGvXCINmnMWbCCzNxd2irWUFPOxCZbUATa5JosRpDbmgZo6tQiciQajelgUBtI3EV35p4WIQSSM+RbcZpMwliaeRj2uaBm0F+Zq023cViLDDmatNtnNBJhCzMGendxQwoUhLIz5FthihihKsRem0dNKubxYE7wZPQMUgBocauXhoOTSjN96CZdm4GRoFBlbaXdTYXeglET4lbZuFEbFf1t9gzwyb0QJNy3JrkFxRFtWF5fPU78V3RphsWj/lXF40qMueWXemwoxtZQwLDb2oJCsGFqZuLvQfH2TqE4LDUzTidLAHk5RXLrThIhxJnlw9Qaf2Oe2McRCvXWkhjYwZJyPUM0ojqYXGgTq25oVgJzqyK6Y23FLLj6kLpY22Ut2hEWUhLRG27ioTOTyhItOceGN6cSlwRGNk29qs7miJkbgvjuKIitsUiIu0yNtIoB3i2pGzdNzt+dwKBKwUYMqf0I0tlzlm+qf5QwdFF9hP6VrRaEe5n2oxCdZPWEpQTmEz3Ra4UwR/PIJBCKALq6VrnLmXa1h6tdJlJZvC49RqUH3KDcIz+qnWFP7kaCCDHkSzmyEcfukDYyJ9awvS1LC3dWPhc+yeaxnkN36q76v5cAeJCtAMJiH3panXKjFYDaHK5qTCjkiAud2/3bhvQgU7KaCeZk7WrPhV8cOCOtuKFtEDAHAfmrk+4KwS2KUrjS9fH7e5R/HZvRGruZoXowOANg/OXL9uLEnCbrsNWiBosWOdudzms3hgXW6yvL+evf7RWKjXCXD2P7WE6Di2wLz/c/n1pLSLcAdFDvmhTI5PQIQySyuVSOXYgAuVZYnL9hIRYzaxd+P8AjrYER3ITjh7+QbvsHjFRYb4SDr33QC1bJ6lPjTyFe3jGG5GA6sO/vVMnBdZk1fId7+LV2LYdQng2/wBSgwVOsXKdx5DnUJTE9QMf1R4SLi2/Ldz9WmcfsZg6jEvgHoyNeD+gv7bDQemYpfOxNvfXyLlcPBmzK6kMD54qBvPfR2NJ9tPI2T9Wil+KBQh7Olk5m7p/4eRsIHVo6IDFLmsRJGT6MQju2JsXiL+uxRgyDQAwHkYOQk0MqZNlHfKpBMmpbcRlpAduiSBhabU4mmnrG1pjoulCxMZRd8nX+R5IzaaKtIBnSHK1NAsF0Da0T6c+Scppje4k6HXkd58kwN4xET71IKsYRCPR/utD5CgLz1TqrfySM02W4ZkMrD91EoFu+ZCVEjrNPUk1TAAl1YPJCgKoBdWixrDDgZ5h/m7WT5JdzgZ9ZHlLf9K6+GRdV5W75JDmZFbN2wd4mnTlS9GhsHeCtdQ0ozEicnvRZ79eSk3Llyh7gEAcIlk8jIzA9AC6tRqkhwG3R1Lem16QyjEAwmYzhRoGqLBhhvhdpwyoEFAK5seRp63HdJsHdi//AI0OVJUAMHklkMLHnr7UXjpOlPhI6kMrvHkkEnY/UhgDbengLkXNHYC09I08AKJkOxYmJExJ70Op4JZZGy5c3o08xSxIhZE18hxv9YOiDVanHPF8aKm7vY8D0lQJqE4pwZoEC6QwCwnBdlpbrjKCgJVWxr5CCWEpl2A1Xal4nocaHqun+Z8WX5CUkLyrK6AartSn7/Ri14PjIAAEBp48/fyDGhorjbGrUiJy8OhavD+sUEEGPGeg4HhYmOknvSlJ4ZSxuF6KnR+VEiOyfn8E6XTOHYVnX0rhsMPL+5+yWRZhJxTEOsFFBjgbSwL4rGcUoyAOA/OiUaVIA3aDgmCtctXd6zBTdu5DY7ft5e/53ttQLMcW06tTYfZ491v0ZoWPRAB/rz9zP824+JJVnpl2lmtLqho9f3V1sSJ2t3Hp+/uiIeBIxTgdytf/AG8mBBQEiBEDSJO5+YUZHguLtBj1isDTOib6Pr71fJWbgbhsf3n75BOmk7sTE4mD2phwr9MSYOKHWWGCIAaAflT4JJj+ql/VKVsse/i59xpjr4Dg8Lu9L0QJAiOb1X9vIYHJ1lUFQIGQIekmtKRCSfK3PasF9wbg+RUeW7KRDsxk9KnSXAr+8yj0oAACA/NwhcYIK3QsF3Jisp7WqPHTUsZ0XzlTvSmxxWTo18UTyXEX/ZUiER1/UJQGE3Z/pQqvgyOgrx/xUkCuf2Q+FLAHu/6KUWBPeJLUmKRXBZEowK75+a75+a75+aTTSySTIvg2+ea7p+a7p+a7B+akm7ISSYvguLV2X812n813f81G3RgHMM5vZNdmfNd7fNd1fNIvlCToc1mzLrtXdnzXaHzXdHzTEa5EW7DqdXwBOybPyk/GEtznwemUJx23DRL7Qgvvpv4Iz59Dna1ehohi9/r+HNLpAmYecgtJLd9W0ZSg7SWYtSKnaO1xZaW6PrWXTVkTreiCczFGOF28cCCOPr+DYk2e5LxlsgihWITDg5WRZox9ZypsEhi81DLOkU0gYz6xMiMNPriRNfCQ0g1GbTpQkQachqCHiPratF5eBmLRQJ5RDN6FDKrRcy9QDmFG4uRU9RpQUp9iIbl8V3/80oXbr/vWSHX/AGrDnPkOXhu/5XYfzXYfzXYfzQfxcAAJ67XYXzXd3zXd3zSzyjCsJ6RrXc3zXe3zXaXzSTySkSIea3P9rtr5rvf5ru/5qSNs5usbW1k+ANW8HSnQTkxdLdsnwMIEgnB1uxsJS3bJ048FixafMsz0ygs5OXwGzZu7QU3jZISTnwA0aOdTAHg5EGC5n9+Dnz1m6Vz4wSBoLt/AZIxSTjDLZQBN8vqceQEpsEvFqF5JWb8sBJbvr2bNihKkVYZXi1LHQiMNAmOPoJxKrfRo+CtTFss1FtpRMKYAdD6/zaxVYso4ChZqCkRnsBIAdD64UMSRIWvYFTaaBMZNisjBn6mtkCjSEkxaloHm9Q7CZ9QoY+Z+MVeykOmh/sj6vkiCgYqXtLYiizMWuK7SAISEwCknC+SgBlDEnFZYMG6t0mb1Dyi6iSR2t5O//9k=)"
      ]
    },
    {
      "cell_type": "markdown",
      "metadata": {
        "id": "5mTS5-Vf_HUb"
      },
      "source": [
        "During model learning, we will seek appropriate function parameters and a cutoff threshold separating the two classes (this may be something other than 0.5).\n",
        "\n",
        "If you want to know more, you can start, e.g., from [here](shttps://towardsdatascience.com/introduction-to-logistic-regression-66248243c148s)."
      ]
    },
    {
      "cell_type": "markdown",
      "metadata": {
        "id": "jfiC4jOcDO4v"
      },
      "source": [
        "### Preprocessing\n",
        "\n"
      ]
    },
    {
      "cell_type": "markdown",
      "metadata": {
        "id": "LnH3i_6SbmTc"
      },
      "source": [
        "Some machine learning models are sensitive to data of different orders of magnitude - in this situation, it is best to scale all data so that features with larger values do not \"overwhelm\" those with smaller values.\n",
        "\n",
        "Scikit-learn has the appropriate classes to help you perform such steps. Like most Scikit-learn components, they implement the same interface based on two main functions:\n",
        "* `fit()` -- adjust model parameters to the data (e.g., calculate the means and std deviations for each attribute)\n",
        "* `transform()` -- do the actual transformation (e.g., scale the data)\n",
        "\n",
        "**Task 2:** Now, use the [`preprocessing.StandardScaler`](https://scikit-learn.org/stable/modules/generated/sklearn.preprocessing.StandardScaler.html) to perform the scalling!\n",
        "\n",
        "*Note 1:* there are `all_features` and `target` variables prepared for you. You can use them during this lab, when you want to use the features (the X matrix) or class (the Y vector), e.g., `diabetes[all_features]` is the matrix with all features, while `diabetes[target]` is the corresponding class vector.\n",
        "\n",
        "*Note 2:* as the class is the string variable, there is no possibility to scale it. But you already know, how to get only the features (see *Note 1* ;) )\n"
      ]
    },
    {
      "cell_type": "code",
      "metadata": {
        "id": "bXkYHPK_iweg",
        "colab": {
          "base_uri": "https://localhost:8080/"
        },
        "outputId": "7af4d72b-949f-4970-cb02-e049a7a92cf9"
      },
      "source": [
        "all_features = ['preg','plas','pres','skin','insu','mass','pedi','rhr','age']\n",
        "target = 'class'\n",
        "scaler = preprocessing.StandardScaler()\n",
        "# _FILL_IN_YOUR_CODE_HERE \n",
        "diabetes[all_features] =  scaler.fit_transform(diabetes[all_features])\n",
        "\n",
        "print(diabetes[all_features])\n",
        "\n"
      ],
      "execution_count": 26,
      "outputs": [
        {
          "output_type": "stream",
          "name": "stdout",
          "text": [
            "         preg      plas      pres      skin      insu      mass      pedi  \\\n",
            "0    0.639947  0.848324  0.149641  0.907270 -0.692891  0.204013  0.468492   \n",
            "1   -0.844885 -1.123396 -0.160546  0.530902 -0.692891 -0.684422 -0.365061   \n",
            "2    1.233880  1.943724 -0.263941 -1.288212 -0.692891 -1.103255  0.604397   \n",
            "3   -0.844885 -0.998208 -0.160546  0.154533  0.123302 -0.494043 -0.920763   \n",
            "4   -1.141852  0.504055 -1.504687  0.907270  0.765836  1.409746  5.484909   \n",
            "..        ...       ...       ...       ...       ...       ...       ...   \n",
            "763  1.827813 -0.622642  0.356432  1.722735  0.870031  0.115169 -0.908682   \n",
            "764 -0.547919  0.034598  0.046245  0.405445 -0.692891  0.610154 -0.398282   \n",
            "765  0.342981  0.003301  0.149641  0.154533  0.279594 -0.735190 -0.685193   \n",
            "766 -0.844885  0.159787 -0.470732 -1.288212 -0.692891 -0.240205 -0.371101   \n",
            "767 -0.844885 -0.873019  0.046245  0.656358 -0.692891 -0.202129 -0.473785   \n",
            "\n",
            "          rhr       age  \n",
            "0    0.107069  1.425995  \n",
            "1   -0.234965 -0.190672  \n",
            "2   -0.339105 -0.105584  \n",
            "3   -0.291218 -1.041549  \n",
            "4   -1.766012 -0.020496  \n",
            "..        ...       ...  \n",
            "763  0.405683  2.532136  \n",
            "764  0.132938 -0.531023  \n",
            "765  0.025153 -0.275760  \n",
            "766 -0.144735  1.170732  \n",
            "767 -0.027866 -0.871374  \n",
            "\n",
            "[768 rows x 9 columns]\n",
            "0      1\n",
            "1      0\n",
            "2      1\n",
            "3      0\n",
            "4      1\n",
            "      ..\n",
            "763    0\n",
            "764    0\n",
            "765    0\n",
            "766    1\n",
            "767    0\n",
            "Name: class, Length: 768, dtype: int64\n"
          ]
        }
      ]
    },
    {
      "cell_type": "markdown",
      "metadata": {
        "id": "rrOcny1Z5JFp"
      },
      "source": [
        "The second important step required by some algorithms (including logistic regression) is to convert all variables to numeric values. In order to do this, we can use the [`preprocessing.LabelEncoder`](https://scikit-learn.org/stable/modules/generated/sklearn.preprocessing.LabelEncoder.html), which will assign an integer to each value of the variable.\n",
        "\n",
        "**Task 3:** use LabelEncoder to transform `class` values in diabetes dataset.\n",
        "\n",
        "*Note:* you can use the `LabelEncoder` instance returned by `fit()`, not only to transform the values from string to int, but also to do the inverse procedure - simply use the [`LabelEncoder.inverse_transform()`](https://scikit-learn.org/stable/modules/generated/sklearn.preprocessing.LabelEncoder.html#sklearn.preprocessing.LabelEncoder.inverse_transform) function."
      ]
    },
    {
      "cell_type": "code",
      "metadata": {
        "id": "GLQ5q2ipGiCk",
        "colab": {
          "base_uri": "https://localhost:8080/"
        },
        "outputId": "86363652-a77f-40e9-d02e-0da53adc837c"
      },
      "source": [
        "from pandas.core.arrays.datetimelike import TimelikeOpsT\n",
        "# _FILL_IN_YOUR_CODE_HERE \n",
        "le = preprocessing.LabelEncoder()\n",
        "\n",
        "\n",
        "print(diabetes[target])\n",
        "le = le.fit(diabetes[target])\n",
        "\n",
        "#print(diabetes[target])\n",
        "#print(le)\n",
        "#print(le.classes_)\n",
        "#print(le.inverse_transform(target))\n",
        "print(diabetes[target])\n",
        "diabetes[target] = le.fit_transform(diabetes[target])\n",
        "print(diabetes[target])\n",
        "\n",
        "test = le.inverse_transform(diabetes[target])\n",
        "#print(test)"
      ],
      "execution_count": 27,
      "outputs": [
        {
          "output_type": "stream",
          "name": "stdout",
          "text": [
            "0      1\n",
            "1      0\n",
            "2      1\n",
            "3      0\n",
            "4      1\n",
            "      ..\n",
            "763    0\n",
            "764    0\n",
            "765    0\n",
            "766    1\n",
            "767    0\n",
            "Name: class, Length: 768, dtype: int64\n",
            "0      1\n",
            "1      0\n",
            "2      1\n",
            "3      0\n",
            "4      1\n",
            "      ..\n",
            "763    0\n",
            "764    0\n",
            "765    0\n",
            "766    1\n",
            "767    0\n",
            "Name: class, Length: 768, dtype: int64\n",
            "0      1\n",
            "1      0\n",
            "2      1\n",
            "3      0\n",
            "4      1\n",
            "      ..\n",
            "763    0\n",
            "764    0\n",
            "765    0\n",
            "766    1\n",
            "767    0\n",
            "Name: class, Length: 768, dtype: int64\n",
            "[1 0 1 0 1 0 1 0 1 1 0 1 0 1 1 1 1 1 0 1 0 0 1 1 1 1 1 0 0 0 0 1 0 0 0 0 0\n",
            " 1 1 1 0 0 0 1 0 1 0 0 1 0 0 0 0 1 0 0 1 0 0 0 0 1 0 0 1 0 1 0 0 0 1 0 1 0\n",
            " 0 0 0 0 1 0 0 0 0 0 1 0 0 0 1 0 0 0 0 1 0 0 0 0 0 1 1 0 0 0 0 0 0 0 0 1 1\n",
            " 1 0 0 1 1 1 0 0 0 1 0 0 0 1 1 0 0 1 1 1 1 1 0 0 0 0 0 0 0 0 0 0 1 0 0 0 0\n",
            " 0 0 0 0 1 0 1 1 0 0 0 1 0 0 0 0 1 1 0 0 0 0 1 1 0 0 0 1 0 1 0 1 0 0 0 0 0\n",
            " 1 1 1 1 1 0 0 1 1 0 1 0 1 1 1 0 0 0 0 0 0 1 1 0 1 0 0 0 1 1 1 1 0 1 1 1 1\n",
            " 0 0 0 0 0 1 0 0 1 1 0 0 0 1 1 1 1 0 0 0 1 1 0 1 0 0 0 0 0 0 0 0 1 1 0 0 0\n",
            " 1 0 1 0 0 1 0 1 0 0 1 1 0 0 0 0 0 1 0 0 0 1 0 0 1 1 0 0 1 0 0 0 1 1 1 0 0\n",
            " 1 0 1 0 1 1 0 1 0 0 1 0 1 1 0 0 1 0 1 0 0 1 0 1 0 1 1 1 0 0 1 0 1 0 0 0 1\n",
            " 0 0 0 0 1 1 1 0 0 0 0 0 0 0 0 0 1 0 0 0 0 0 1 1 1 0 1 1 0 0 1 0 0 1 0 0 1\n",
            " 1 0 0 0 0 1 0 0 1 0 0 0 0 0 0 0 1 1 1 0 0 1 0 0 1 0 0 1 0 1 1 0 1 0 1 0 1\n",
            " 0 1 1 0 0 0 0 1 1 0 1 0 1 0 0 0 0 1 1 0 1 0 1 0 0 0 0 0 1 0 0 0 0 1 0 0 1\n",
            " 1 1 0 0 1 0 0 1 0 0 0 1 0 0 1 0 0 0 0 0 0 0 0 0 1 0 0 0 0 0 0 0 1 0 0 0 1\n",
            " 0 0 0 1 1 0 0 0 0 0 0 0 1 0 0 0 0 1 0 0 0 1 0 0 0 1 0 0 0 1 0 0 0 0 1 1 0\n",
            " 0 0 0 0 0 1 0 0 0 0 0 0 0 0 0 0 0 1 0 0 0 1 1 1 1 0 0 1 1 0 0 0 0 0 0 0 0\n",
            " 0 0 0 0 0 1 1 0 0 0 0 0 0 0 1 0 0 0 0 0 0 0 1 0 1 1 0 0 0 1 0 1 0 1 0 1 0\n",
            " 1 0 0 1 0 0 1 0 0 0 0 1 1 0 1 0 0 0 0 1 1 0 1 0 0 0 1 1 0 0 0 0 0 0 0 0 0\n",
            " 0 1 0 0 0 0 1 0 0 1 0 0 0 1 0 0 0 1 1 1 0 0 0 0 0 0 1 0 0 0 1 0 1 1 1 1 0\n",
            " 1 1 0 0 0 0 0 0 0 1 1 0 1 0 0 1 0 1 0 0 0 0 0 1 0 1 0 1 0 1 1 0 0 0 0 1 1\n",
            " 0 0 0 1 0 1 1 0 0 1 0 0 1 1 0 0 1 0 0 1 0 0 0 0 0 0 0 1 1 1 0 0 0 0 0 0 1\n",
            " 1 0 0 1 0 0 1 0 1 1 1 0 0 1 1 1 0 1 0 1 0 1 0 0 0 0 1 0]\n"
          ]
        }
      ]
    },
    {
      "cell_type": "code",
      "metadata": {
        "id": "_C4wSGKg8Dn_"
      },
      "source": [
        ""
      ],
      "execution_count": null,
      "outputs": []
    },
    {
      "cell_type": "markdown",
      "metadata": {
        "id": "TsRod0bedV1k"
      },
      "source": [
        "### Let's fit the model"
      ]
    },
    {
      "cell_type": "markdown",
      "metadata": {
        "id": "KuMizZGMdhHO"
      },
      "source": [
        "**Task 4:** Split the diabetes dataset into a training part (67%) and a test part (33%), as in the Regression notebook."
      ]
    },
    {
      "cell_type": "code",
      "metadata": {
        "id": "I54B7MFjx3sx"
      },
      "source": [
        "# _FILL_IN_YOUR_CODE_HERE \n",
        "diabetes_train, diabetes_test = model_selection.train_test_split(diabetes,test_size=0.33, train_size=0.67)"
      ],
      "execution_count": 28,
      "outputs": []
    },
    {
      "cell_type": "markdown",
      "metadata": {
        "id": "UEXemCdid2nD"
      },
      "source": [
        "The actual model will be trained after running the cell below - as in the Regression, in the minimal version, just select the model and the appropriate datasets. Of course the model has many parameters that can be **(and should be)** tuned, see [the documentation](https://scikit-learn.org/stable/modules/generated/sklearn.linear_model.LogisticRegression.html)."
      ]
    },
    {
      "cell_type": "code",
      "metadata": {
        "id": "dMzz-r22dtjW",
        "colab": {
          "base_uri": "https://localhost:8080/"
        },
        "outputId": "1b77f22c-3592-4aec-c5c3-a7feb509d448"
      },
      "source": [
        "# select the model (and optional parameters)\n",
        "regr_model = linear_model.LogisticRegression()\n",
        "\n",
        "# fit the model to the data\n",
        "regr_model.fit(diabetes_train[all_features], diabetes_train[target])\n",
        "\n",
        "# if you want to see the actual parameters, you can print the following line\n",
        "print(regr_model.coef_, regr_model.intercept_)\n",
        "\n",
        "\n",
        "\n",
        "\n",
        "#x_range = 80\n",
        "#Xs = [i for i in range(x_range)]\n",
        "#Ys = [regr_model.predict_proba([[value]])[0][1] for value in range(x_range)]\n",
        "\n",
        "#plt.scatter(diabetes_train[all_features], diabetes_train[target])\n",
        "#plt.plot(Xs, Ys, color='red')"
      ],
      "execution_count": 35,
      "outputs": [
        {
          "output_type": "stream",
          "name": "stdout",
          "text": [
            "[[ 0.39398688  1.09722527 -0.3294783   0.02366065  0.08645843  0.79905365\n",
            "   0.30468183  0.12080262  0.23879779]] [-0.88254778]\n"
          ]
        }
      ]
    },
    {
      "cell_type": "markdown",
      "metadata": {
        "id": "B39GQ3btoB5k"
      },
      "source": [
        "**Task 5:** The model has been trained, now it's time for you to evaluate its effectiveness on a test set using the [`metrics.classification_report()`](https://scikit-learn.org/stable/modules/generated/sklearn.metrics.classification_report.html)\n",
        "\n",
        "*Note:* If you want to have the correct class names in the report instead of 0 and 1, use the [`LabelEncoder.inverse_transform()`](https://scikit-learn.org/stable/modules/generated/sklearn.preprocessing.LabelEncoder.html#sklearn.preprocessing.LabelEncoder.inverse_transform) function or `LabelEncoder.classes_` list."
      ]
    },
    {
      "cell_type": "code",
      "metadata": {
        "id": "2WDyzbs3kTmD",
        "colab": {
          "base_uri": "https://localhost:8080/"
        },
        "outputId": "b5d01ab5-ac3d-4a12-eb0f-a32c69b9d087"
      },
      "source": [
        "# _FILL_IN_YOUR_CODE_HERE \n",
        "\n",
        "test_predict = regr_model.predict(diabetes_test[all_features])\n",
        "\n",
        "print(metrics.classification_report(y_true=le.inverse_transform(diabetes_test[target]), y_pred=le.inverse_transform(test_predict)))\n",
        "\n",
        "raport=metrics.classification_report(y_true=le.inverse_transform(diabetes_test[target]), y_pred=le.inverse_transform(test_predict))"
      ],
      "execution_count": 36,
      "outputs": [
        {
          "output_type": "stream",
          "name": "stdout",
          "text": [
            "              precision    recall  f1-score   support\n",
            "\n",
            "           0       0.78      0.84      0.81       164\n",
            "           1       0.66      0.58      0.62        90\n",
            "\n",
            "    accuracy                           0.74       254\n",
            "   macro avg       0.72      0.71      0.71       254\n",
            "weighted avg       0.74      0.74      0.74       254\n",
            "\n"
          ]
        }
      ]
    },
    {
      "cell_type": "code",
      "metadata": {
        "id": "AEEhSfXgl77U",
        "colab": {
          "base_uri": "https://localhost:8080/",
          "height": 458
        },
        "outputId": "7726a9f7-167e-4e5b-fbc8-0b901dc797f7"
      },
      "source": [
        "#x = data['balance']\n",
        "#y = data['default']\n",
        "\n",
        "#plot logistic regression curve\n",
        "#sns.regplot(x=x, y=y, data=data, logistic=True, ci=None)\n",
        "\n",
        "def plot_classification_report(cr, title='Classification report ', with_avg_total=False, cmap=plt.cm.Blues):\n",
        "\n",
        "    lines = cr.split('\\n')\n",
        "\n",
        "    classes = []\n",
        "    plotMat = []\n",
        "    for line in lines[2 : (len(lines) - 3)]:\n",
        "        print(line)\n",
        "        t = line.split()\n",
        "        print(t)\n",
        "        if(len(t)==0):\n",
        "          break\n",
        "        classes.append(t[0])\n",
        "        v = [float(x) for x in t[1: len(t) - 1]]\n",
        "        print(v)\n",
        "        plotMat.append(v)\n",
        "\n",
        "    if with_avg_total:\n",
        "        aveTotal = lines[len(lines) - 1].split()\n",
        "        classes.append('avg/total')\n",
        "        vAveTotal = [float(x) for x in t[1:len(aveTotal) - 1]]\n",
        "        plotMat.append(vAveTotal)\n",
        "\n",
        "\n",
        "    plt.imshow(plotMat, interpolation='nearest', cmap=cmap)\n",
        "    plt.title(title)\n",
        "    plt.colorbar()\n",
        "    x_tick_marks = np.arange(3)\n",
        "    y_tick_marks = np.arange(len(classes))\n",
        "    plt.xticks(x_tick_marks, ['precision', 'recall', 'f1-score'], rotation=45)\n",
        "    plt.yticks(y_tick_marks, classes)\n",
        "    plt.tight_layout()\n",
        "    plt.ylabel('Classes')\n",
        "    plt.xlabel('Measures')\n",
        "\n",
        "raport=metrics.classification_report(y_true=le.inverse_transform(diabetes_test[target]), y_pred=le.inverse_transform(test_predict))\n",
        "\n",
        "plot_classification_report(raport)\n",
        "\n",
        "\n"
      ],
      "execution_count": 39,
      "outputs": [
        {
          "output_type": "stream",
          "name": "stdout",
          "text": [
            "           0       0.78      0.84      0.81       164\n",
            "['0', '0.78', '0.84', '0.81', '164']\n",
            "[0.78, 0.84, 0.81]\n",
            "           1       0.66      0.58      0.62        90\n",
            "['1', '0.66', '0.58', '0.62', '90']\n",
            "[0.66, 0.58, 0.62]\n",
            "\n",
            "[]\n"
          ]
        },
        {
          "output_type": "display_data",
          "data": {
            "text/plain": [
              "<Figure size 432x288 with 2 Axes>"
            ],
            "image/png": "[encoded data removed]"
          },
          "metadata": {
            "needs_background": "light"
          }
        }
      ]
    },
    {
      "cell_type": "markdown",
      "metadata": {
        "id": "0B1qHhm0TGky"
      },
      "source": [
        "### Simple Feed Forward Neural Networks\n",
        "\n",
        "As neural network theory is rich in [various architectures](https://www.asimovinstitute.org/neural-network-zoo/) and numerous textbooks (*I highly recommend [this online book](http://neuralnetworksanddeeplearning.com/)*), here we will focus on getting to know the general idea of how it works (there is no time to do more...).\n",
        "\n",
        "There will be no programming tasks in this section, but you will get to play around with a tool that allows you to tune a simple neural network."
      ]
    },
    {
      "cell_type": "markdown",
      "metadata": {
        "id": "-KblYD5GVIQr"
      },
      "source": [
        "**Task 6:** Open the [http://playground.tensorflow.org/](http://playground.tensorflow.org/#activation=tanh&batchSize=10&dataset=circle&regDataset=reg-plane&learningRate=0.3&regularizationRate=0&noise=0&networkShape=4,2&seed=0.22436&showTestData=false&discretize=false&percTrainData=50&x=true&y=true&xTimesY=false&xSquared=false&ySquared=false&cosX=false&sinX=false&cosY=false&sinY=false&collectStats=false&problem=classification&initZero=false&hideText=false&regularizationRate_hide=true&regularization_hide=true&problem_hide=true&percTrainData_hide=true&batchSize_hide=true) tool that allows you to observe the learning process of a neural network that recognizes two types (colors) of points in a two-dimensional space.\n",
        "1. You can: (a) change the activation function, the number of hidden layers and the number of neurons in each layer, (b) choose which parameters will be available at the input (x1, x2 represent coordinates), (c) add noise, which will make the data less structured and thus more difficult to discriminate.\n",
        "2. For each of the 4 available datasets, try to train a neural network that has **NO hidden layers** (i.e., you will train *exactly one neuron*, a building block of neural networks). Try different combinations of input parameters. For which set did it fail? Why?\n",
        "3. Build a network that has more hidden layers (the tool allows 6 layers). How many layers are fine? How many neurons should be in each layer?\n",
        "4. Experiment with different settings, observe what patterns the neurons of the hidden layers learn (you can hover the cursor over a given neuron and then its pattern is enlarged) and try to create a neural network that best classifies **the points arranged in a spiral**."
      ]
    },
    {
      "cell_type": "markdown",
      "metadata": {
        "id": "yBjWmo6OYQEI"
      },
      "source": [
        "**Response (for Task 6):** `#_FILL_IN_YOUR_RESPONSE_HERE`"
      ]
    },
    {
      "cell_type": "code",
      "metadata": {
        "id": "zCvvk7pqVHBk",
        "colab": {
          "base_uri": "https://localhost:8080/",
          "height": 130
        },
        "outputId": "9814003d-8369-49b8-d4d2-2c3f7b1556bc"
      },
      "source": [
        "import pandas as pd\n",
        "import pandas_datareader as web\n",
        "import matplotlib.pyplot as plt\n",
        "import numpy as np\n",
        "\n",
        "def sigmoid(x):\n",
        "    return 1.0/(1+ np.exp(-x))\n",
        "\n",
        "def sigmoid_derivative(x):\n",
        "    return x * (1.0 - x)\n",
        "\n",
        "class NeuralNetwork:\n",
        "    def __init__(self, x, y):\n",
        "        self.input      = x\n",
        "        self.weights1   = #\n",
        "        self.weights2   = #             \n",
        "        self.y          = y\n",
        "        self.output     = #\n",
        "\n",
        "    def feedforward(self):\n",
        "        self.layer1 = sigmoid(np.dot(self.input, self.weights1))\n",
        "        self.output = sigmoid(np.dot(self.layer1, self.weights2))\n",
        "  #https://machinelearningmastery.com/the-chain-rule-of-calculus-for-univariate-and-multivariate-functions/#:~:text=The%20chain%20rule%20allows%20us,to%20train%20feedforward%20neural%20networks.\n",
        "    def backprop(self):\n",
        "        \n",
        "        # aplikuje chain rule - zeby znalezc pochodna funkcji zlozonej - funkcji utraty z zachowaniem\n",
        "        # weights2 i weights1\n",
        "        d_weights2 = np.dot(self.layer1.T, (2*(self.y - self.output) * sigmoid_derivative(self.output)))\n",
        "        d_weights1 = np.dot(self.input.T,  (np.dot(2*(self.y - self.output) * sigmoid_derivative(self.output), self.weights2.T) * sigmoid_derivative(self.layer1)))\n",
        "\n",
        "        # aktualizuje wagi przez pochodna funkcji utraty\n",
        "        self.weights1 += d_weights1\n",
        "        self.weights2 += d_weights2\n",
        "\n",
        "\n",
        "if __name__ == \"__main__\":\n",
        "\n",
        "\n",
        "  \n",
        "  X=diabetes[all_features].values\n",
        "  y = diabetes[target].values\n",
        "\n",
        "    nn = NeuralNetwork(X,y)\n",
        "\n",
        "    for i in range(1500):\n",
        "        nn.feedforward()\n",
        "        nn.backprop()\n",
        "\n",
        "    print(nn.output)"
      ],
      "execution_count": 40,
      "outputs": [
        {
          "output_type": "error",
          "ename": "SyntaxError",
          "evalue": "ignored",
          "traceback": [
            "\u001b[0;36m  File \u001b[0;32m\"<ipython-input-40-7e7fa802c54b>\"\u001b[0;36m, line \u001b[0;32m15\u001b[0m\n\u001b[0;31m    self.weights1   = #\u001b[0m\n\u001b[0m                       ^\u001b[0m\n\u001b[0;31mSyntaxError\u001b[0m\u001b[0;31m:\u001b[0m invalid syntax\n"
          ]
        }
      ]
    },
    {
      "cell_type": "markdown",
      "source": [
        "## Advanced Classification\n",
        "\n",
        "*This part of the notebook presents more advanced topics and is optional.*"
      ],
      "metadata": {
        "id": "ccECvdqWObf0"
      }
    },
    {
      "cell_type": "markdown",
      "metadata": {
        "id": "ct4h8xIYoRwP"
      },
      "source": [
        "### Decision Trees\n",
        "\n",
        "The second interesting classification model we want to explore today is Decision Trees. In Python, the [CART](https://en.wikipedia.org/wiki/Predictive_analytics#Classification_and_regression_trees_(CART)) algorithm is used as a base for (almost?) all machine learning libraries.\n",
        "\n",
        "There are several advantages of decision trees:\n",
        "* They do not require attributes normalization (no need for `StandardScaler`).\n",
        "* They work on symbolic, numeric and mixed data (no need for `LabelEncoder`).\n",
        "* Can handle missing data without unnecessary manipulation of the data.\n",
        "* Are interpretable -- the model is self-explanatory.\n",
        "* Can be used for many tasks: classification, regression, and even clustering.\n",
        "\n",
        "The two biggest drawbacks are:\n",
        "* high sensitivity to data perturbations if parameters are chosen inappropriately,\n",
        "* decision boundaries located parallel to the axes (because decisions are made on the basis of one parameter in each step)."
      ]
    },
    {
      "cell_type": "markdown",
      "metadata": {
        "id": "SCBqOtdrEg1q"
      },
      "source": [
        "Each tree node in the visualizations which will be generated below looks as follows:"
      ]
    },
    {
      "cell_type": "markdown",
      "metadata": {
        "id": "tv3lOU8XEqit"
      },
      "source": [
        "![dtree-node.jpg](data:image/jpeg;base64,/9j/4AAQSkZJRgABAQEBLAEsAAD//gATQ3JlYXRlZCB3aXRoIEdJTVD/2wBDAAYEBQYFBAYGBQYHBwYIChAKCgkJChQODwwQFxQYGBcUFhYaHSUfGhsjHBYWICwgIyYnKSopGR8tMC0oMCUoKSj/2wBDAQcHBwoIChMKChMoGhYaKCgoKCgoKCgoKCgoKCgoKCgoKCgoKCgoKCgoKCgoKCgoKCgoKCgoKCgoKCgoKCgoKCj/wgARCACTAVcDAREAAhEBAxEB/8QAGwABAAMBAQEBAAAAAAAAAAAAAAMEBQYCAQf/xAAYAQEBAQEBAAAAAAAAAAAAAAAAAgEDBP/aAAwDAQACEAMQAAAB/VAAAADmIuXAAAAAAAAAAAFu519wAAAAAAAAcR5PZrxYAAo7N7KA8M9tr7nxlUbn3NbmlNgAQeny9P15AAAAAAAADiPJ7NeLAHw4vtxvxbZtFmL8bjUIL8Vl9OcuVbzdGaAAg9Pl6fryAAAAAAAAHEeT2a8WAPhhXzvzce5bxYygImQanPmB717zQAIPT5en68gAAAAAAABxHk9mvFgAQMp7la5ZWzCprw2lfPX59MepiqZc3fjoAAIPT5en68gAAAAAAABxHk9mvFgAZm5T2KnSU30sbWGVT6cpoujU3M2lU9Hz6gACD0+Xp+vIAAAAAAAAcR5PZrxYAEDI9y3lCjs3soARlWp94+FzKAAg9Pl6fryAAAAAAAAHEeT2a8WAM7cyr51dyeL+dOdfF2enmo3uXXPuNGOmdfOPNyukdlx7AAQeny9P15AAAAAAAADiPJ7NeLAEG5W3PBNm5lxpRXjUmLuUK7PeoiQmzQAIPT5en68gAAAAAAABxHk9mvFiuRVMTMup1ov1qXN+sz9yrufWy4vauxePUVamm3Wxsx0Ag9Pl6fryAAAAAAAAHEeT2a8WPhi1FK485X3GkXpv6yhueCbK91MBrxeVUWc2jWSY15sCD0+Xp+vIAAAAAAAAcR5PZrxdLcuZn1QA8M9tFLZu5VHZvZXlnpoHhlKs0JoCD0+Xp+vIAAAAAAAAcR5PZ6zaGvCPlZ6zd3n0z7iNsWK1ynbBUuOu49+a2Y+nOfKiKOztRdWp8HUc+sHp8vT9eQAAAAAAAA4jyey/FV6zyej2XZoQMqVkmPZFqInx8ItynqRlvKlxO2nuaM1B6fL0/XkAAAAAAAAOP5dbGblGsAAAAAAAACEqGiWenPeqQAAAAOZxq6mPZOz60UzHOiPQAAAAAAAABlFc3QMcy3cqaGbon0nAByx9xnRfjty6o0prHPprgAAAAAAAAAAgMM3iXHE6q5upmZdNWo6ubAAAHgwTXLQAAAAAAAAAAABhlo0gAAAAADkDrwAAAAAAAAAAAAAc8ahdAAB//8QAKBAAAgIBAgYCAgMBAAAAAAAAAgMBBAAFFBITFSA1QBARIjAjMTQk/9oACAEBAAEFAv0r1Umh1FudRbnUW51FudRbnUW51FudRbnUW51FudRbnUW51FudRbnUW51FudRbnUW51FudRbnUW51FudRblK7uW+lpXj+5L+ZY+YIZLHNFQpaLcfa5TAuAaitjCa1rns7dP8r6WleP7Yl0aeRcDxl3P09n22wLZP6A1qSyGXv9tbylw5CuQcvUtP8A9FP8o7dP8r6WleP7dOq8CCqJKdjXxagXPywBYM1lSkgEsYsWYCxAAGADt0/yvpaV4/tc0Uqi3E2FWkLrttJZT+/oeceXnyilxFXsNPgGkbttpsjzOawtS7tP8r6WleP7dSjip1yOHJQ8a70PJMRxL2lfLSIfUhTGvJG5ilXZUVyNwew4b/dp/lfS0rx/a5QOBKFq+bT+RHYZQAVrEuxDxfh2ACx26f5X0tK8f2XubyltFi4Y2asgXNAmPbJHtjl1g3sNbnjJLFLIJ6geqkJpfSmYKWnF3t0/yvpaV4/saoWwVRBxsa/1tlcZVfq4dVJLbSrtbNZUn8OSDgWArhSFqIlgTO3T/K+lpXj/AIsN5KYsDMKtg06Lor1d0EMXYE3MYQysyLJ/LVLX8dvVfwVqRM5VLgmtmnyZq2vLtFZLYO/G986f5X0tK8f8f3lOu1CkKsbmK79k2s95U4PiYhTJWlSsjy1gDtBZ42jHMREcdROaeBrFYFubFSLLbP8Au+dP8r6WlePy4/bVu0igB+JUorOWH8k8+uwigBlUTb+dP8r6WlePvN5c6gHL0++ZcNxjBiy0ge8ZJYpZBawMFUZxtsWTcAHPLtDzV4X5qxsGdpTmWJ+3hCwNSXcR0p++pVJKciXWBzT/ACvpaV496VvXs0bc6Vcy2acmsqT+HKBy3Uq7pKqoi26udXp165RQrDnOPIrrIjo1jVcrfcqpLleyr8EV1w2FjDJpV5sZp/lfSr0LqE7e/lc7tl22v5tr+ba/m2v5tr+ba/m2v5tr+ba/m2v5tr+ba/m2v5tr+ba/m2v5tr+ba/jUaiK6ZWrQ7a/lCq5Vn9dqxdQQNJWRZRIm5QBE/cfFqyqqvkO1DBGBH07dIXki4QN+JynYt2U88AznM6ut6mEtymT2a0YC7UeVOqWDXXdzxSenLBVPLNz6ZWpcDPWepb1fz6fimA5f9Zoyk2A1ZwTBtXOrxLpr6eda1a/QZCA811/K6F1l+y2oSmVbYPn9rv8Ao173NcAdhSMmU+7/xAAxEQABAwEFBwIGAgMAAAAAAAABAAIRIRITIDEyAxBAQWGB8HHBIjAzQlHRQ7EjYOH/2gAIAQMBAT8B+SNm4q6crpyunK6crpyunK6crpyunK6crpyunK6crpyunK6crpyunK6crpyunK6crpyIIz4NmnHPxWcRMCVPJEwg6kqUHVjFttXBs04nTD+kr7+37Qo4eibnBRnkuigraaR6hH6nb3U2fiREWB5kv5HdkKuJ88nFttXBs04gKmfyorKsgICMMKKQs0KICKYttq4NmnFlVWqgIOAbPVWswm5UUqeakhrXHyVkmZmfKJtXVzTjVseUx7bVwbNOI5FNoRKg2I6+6Opx6eyZRoVkIRkrJgNPJGtEGwSVmnMyjHttXBs04w0De42Wl2IOlTWETEYttq4NmnCcqKc/VGQH9D+kB/ks/lNJLWd06jXjzkjVxanE2ZP43QdwFl0DJfyHt/ScTQkc/wB4ttq4NmnCa0RaCrIUVlFukBWREItDs0Wg7zWiAhRWUROLbauDZpwNdaAI5q2KKbJeeqmDCtVhFSnagPX2W0ymU/SSVWymRFNzT8TvOQRblVGtvoiZsu8yODbauDZpwNbDuihxiUQTb6oguPaE2eYREqAjqHf2T/iBapg5JosNAWQLtw1FfcnttUT+Xr7HBttXBs07jlKBkT8ggHc4wJxkVGDbauDZpTzDZURa9PZNqAOiklgPRONLXLdBW0+m5HVZRtQqF4PRbOXWSptMtdR/e6J2gb5mmOJDZVQO6ytFP07Qeck6hb3WRLPI8onSbQHLdttXBs07g0CgVkKyFZG/oi0EQrIUCiDQDKsAqei52lYEWUW0ACDVZCsii6otDqndttXBjakCFfFXxV8VfFXxV8VfFXxV8VfFXxV8VfFXxV8VfFXxV8VfFXxV8VfFXxTnWq/MdQEqChVZ14/7i38ITEuTuXf2XRdMLvpnt/adonqPdNo9p8zKZIY0jl/xDpxz6vcERy6ftM/jjzJMiRZ69lyDTy/1n//EADERAAEDAQYFAwMEAwEAAAAAAAEAAhEhEhMgMTJhAxBAQcFRcfAigdEwM0KxQ2Bi4f/aAAgBAgEBPwH9EvaFeNV41XjVeNV41XjVeNV41XjVeNV41XjVeNV41XjVeNV41XjVeNV41XjVeNV41Ag5dG/Vjj6bWIVMKO6AlFtYUItpOLhZdG/VibFpo9Y/pDQPf8LNv3RykIR3W5Urh5n2Q/b+6i0bKBtWz8zX+Nv3/tGgAxcLLo36sROUeimkK0VOGe6nka5omTJxcLLo36sQqYRH0kotJdBVmohFQok2QqEkLNO0thO00yTRR04+Fl0b9WJuoJwlpAVoW52TSAG7HyjmrRUmZUgEkd0KZIukNCy+eia/PHwsujfqxkzzaJMYiIUUlATOLhZdG/VhGdVH9fPwhBLdx4RMMtJwAc9CpaffyhQByaBMDlIW6JtNlHQ353TQKie3kYuFl0b9WEUqrRVoqaQg6bRPdWjMoOLckCRzFKomVNIQMYuFl0b9WBwszPZFmey1BvsopKikoKE3STuuH6Lh6gEItVT5mvJ2lvsg7OiaKtHqm9xt5GDhZdG/VzzT3S3dS0WoQIFjYeECGxsU6OxQMKSm6D7ptCHKJCJtklZkDkdLQv4pjrNUzv7eRg4WXRv1cgJIH6IMDk0WjGMGAcHCy6N+pMEuhNNW+/lZV3UAOI3+BMHbvykLh/uNQ02kLNr7/Asmxv8AhP8AptBRZ4hbseUwyU9tXR2VCT7LOBsmamH53Qq1328rOH/J+VTYFknvy4WXRv1ci4kyrRVoq0RzyMoOIVoqaQi4kQVbIULtZVszaQdUkouVoq0Vsg4ig5cLLozwgaq5CuQrkK5CuQrkK5CuQrkK5CuQrkK5CuQrkK5CuQrkK5CuQrkK5CuQmts/qNqQ0+ikI0zRoY6/+DXeqMTDU3J07eVut8LP3R7FNH1EbeQnV4ZG/wCFxIL3g9//AFOnv1zKcNh2/KZ2P/XkIj6eIDt5Tyal3qPuvUjv/rP/xAA/EAACAQIDAwkFBwMCBwAAAAABAgMAEQQSIRMiMSAyNEFRcZGS0RBAYXOxBRQjQnKBoTBSUzOkJHSCosHh8P/aAAgBAQAGPwL+iHjwUxU8DmX1roE3nT1roE3nT1roE3nT1roE3nT1roE3nT1roE3nT1roE3nT1roE3nT1roE3nT1roE3nT1roE3nT1roE3nT1roE3nT1roE3nT1roE3nT1roE3nT1roE3nT1roE3nT1roE3nT1roE3nT1roE3nT1roE3nT1roE3nT1qSNoXidADvEdfd3e5w93Lmiy22dtb8b8ggEXHEewFus2AHWaa1wymzKeqsggnl+WvConCPeTmp11nVJHObLkUb16ZNjLGVF98crFfKj+re5w93KXEieUyLJaxOhGa1q+0TtNnupvWvbSsRGjFfwQy52vY61KrrLHKALo7Zh3g1fVof7UOU//eFZcOvN4rnMdvCgSun/ADDn+KwJ/LnPjasYfy2QfvTZecd1e81g1HMETKP4rHH8u108Kkm/yNp3cBysV8qP6t7nD3cobaMhwxaxa441KWW+10e5OtH8PiuQ6nhRK3uesm55GVxcU0RW6Nx140txzTcUM44aj4VkUWWgqiyjQcrFfKj+re5w93KaR+aKaExShgubq4eNYfZo+zk0QWqczRyZE3XS2tXAv8K6NL4r61JMBvBeBrCqXZhLcNmN9bca01Y6KKxJ1llWRwKkzviRMBvJM38iodSImRrL28NeXivlR/Vvc4e7lSLlzFtAL2uaJlw0qyMtgzMpvbq0rAKYjeJ7tqNONfaCiI3lO5qNdKsy8RqDXR4vIKeHgGWw+FYd5VybEHr4mladXidbgZJPSsQyo7uZCVUycRReZCgKZLX1/ioHUzFFBuTKT2cvFfKj+re5w93KySrmWtwG/azE/X2xnLmzOE48L8ks3AU14Jorf5Ba9SZL7jZTcWqOE3zvw5WK+VH9W9zh7uSNjq1+bmtmHZeo1V5gdoQY2O93XqL8VwRicnHqvWNj202VFDLv8DasGGlkAkgzNlNuygkjF9niwgY8SL1iVjfI8bWXfIt+1Zps+xJW0kTaL8CKsouf1lf5FDc/3LmjHJfKew2qWAu0kagMpbiPhWPIGYiU6dugrCFsNMHuxN7a6d/KxXyo/q3ucPdyQHvobixtQDJwOa9ze9WEdhmz6MRrUjWN5BZt461h8kb7CNCtw/D+b0qFd1TmFiRrQkkjBcddMxBu2p3jbw9uWQXHHjarKKcoDdzc6k0jsN5ObysV8qP6t7nD3e1pCrMFF7LxqMgNZxm7hSLlcbRcyk9YreDENOyafqqZWDLsrE/vRiKskgGazdYqwhd/iLetb0Tp+q3/AINZSz5REGsGIF71BbEsJWfmFtCvdW0+8tE/5N6wvSBUmZOLtCbGkMTtIh4MxufZOGclhKygmoAuIxLHnNmlJ0FSYrORMkmq3048Ld1YUqz7+a4zG3Ds5GK+VH9W9zh7uRItxcXWLu6qw0skOoUq5Lgm9W2X4iz7UKSNRmvWKJQJtFTLc31FZpMLHAbW0IJNXkiRj2lb1+HGifpFqb5I+prZPCU3wc5I6jUsOwJVhYMSLVFEkRkQLbNmFIFjz5n3rG2W59k20QrmlZhw4GpZGHYq91C8Sol7sbC7/CsH3t9ORivlR/Vvc4e72PLlzZerlXY2Htza7UDqYjT2QjJfaPkv2cq7GwpXyE2BOfPwPdyMV8qP6t7nD3VAt8qySZSaxg2jOLXAP5axBjkfNHFewNgnrWd9oYMgu0TWKHttWaTabAlcskbc34EVZRc/rK/yKG5/uXNC9/8AUTr+NTQIxGRRl/EIPf8AGg0xZ48gzPC1sh7bVjp47llhVhqfjSzq4MezJK5y2bTqr7OmLszPIpOunD2YxdtKFWMMArWsdagjJ50Afn5bn9qwiSvnFyJDH19lASSy3ebdBYlivUPhUokLHJiQBvcNRSx532ZhOmb4ivuru5kik3jmNyvVUkkcgR0lI1c2AB4EezFfKj+re5w91GOVQynqowZPwzxFzrRLx3JXKdTqK5p4ZbZjYimbKd7UjMbeHtKSC6mkMkdyvA3q5U6jLYMbW7q2uXftl/aiYYwpNC0XA5gLnQ10aXxX1p5CjB5BZt6o42jusfN1On71CBh9pCg4I2UirSIwS+ZVLklT31IuzGVzdqWQA51GUbx4Uzgb7aE1tjENp2+zFfKj+re5rGsmGKr2g1/qYXwNEYf7u8S8ZbHL+3bXPwvg1c/C+DVz8L4NXPwvg1c/C+DVz8L4NXPwvg1c/C+DVz8L4NXPwvg1c/C+DVz8L4NXPwvg1c/C+DVz8L4NXPwvg1c/C+DVz8L4NRKfdnYfl1F6OSTDh15yMrBl765+F8GqaadoyXVV3B2X9f6mHu2H/GlyW2Z3f+6mGMlhBvukbtx40zCeIqvOOYaUHeRFQ8GLaVcaj255msOAHWT8KzYwGLDdUAOrfq9KCqAFHAD3QSIxixC82VeP/sUIMeojlPNccyTu+Pw9ulTNnw6lJGjF4zrb/qpVlkjWQ/lLUYc34Wxz2t13orHKjMOIDXoiORHI45Te3J+z8zAf8QDX2cJMmufj3V9qRHdzwjZqBxGU8Kwj4h3jgfDBA+XQN1jhUaRZ9mObn429mwwqbbEdnUn6jW3xDbbE/wBx4L8FHV7uY5kDoeINa58RhO3i8fqKEkTBkPAitaxDZ2JGJZt2Q249lfaMY3HGUkWuX4a91NdtPun78amhgkTFL93OylTnAf2mkmhkleVEykFbZR2HT+iWchVHEmrYYtDhv835n/T61khXKv196abAkI51aM8x/Q/GihBjnXnRtxH9YYebfgSLaBDwvf32ScC00IzI44rULubsyAnl/wD/xAApEAEAAQMCBAcAAwEAAAAAAAABEQAhMUFRYXHB8BAgQIGRobEw0fHh/9oACAEBAAE/If4dKl4z8+oqVKlSpUqVKlSpUqVKlSpUqVKlSpkd3jJJRk7vR99xfPKz48sT5FCsY3PCVBSziaFQkaqBVfkRKgnBdL0RC6IE4zrGm9ZJAyhqImjgnFEZxhdn1JDvuL5UkSYpHzrrlQ1oV7NjqGlGnmC81EreKkkBcDN04elXagX+46/PupDKSmV80JqBWG7+0Q0WVibzOKkm1T2PSkH/AJwP2v1xif0ou9x5gTV8aryf6J9/UkO+4vlWBQngVvO7AUjApSWYiREMWm1B7kheeafvNGhCBXEaS+TOgTtDuVNrMlUri5rK7UsNHiSUgorglalRYd83qGcQNj1JDvuL5mhjLUgVdbPhSP6sSSZzfhU8QSrONnia03IgWGXwVwOZRoOk1D4sssyhtrio6EviGp0RZWJjBfBUYuO1A2MRRcs3hMnz6oh33F8wKiI3IWh3rURCqjktrVk7jjQN+NKrjeDDe2KALKCE+zXanSjnFoi2yo/5DYzkWjTNSSQBS05mGYK1EChuzdiaZOZt7VllXDenEcshwLuM+qId9xfMvAl4aVnQpD8p8b8RpS5E+XGNy17CC+xC08AeNSB61PcnQGAJv6kh33F8uCxFbnUGhpxcck0JXKwZmakqTaTWUhda3NukotcxbGKZikLp1fdJyGqgMTROyk0kZQQjfNHHUmMtplYXXjWbAx/ZKe2AP+JL0YqzifYpdJLzJNzrikTqg6sVNKDOUxtsPz1JDvuL5T9heljzKnMzjKMszNQ2gt8w2aWy2eJ82qHADRLoj4KRfamUTNm96Jq0XN+e/vSlSA3CYyjQ8ZtgQQkJrJerJRlVlea3aJMuOY73anWzSnEkPqSHfcXxCaUILPekEoZtgmW/HSaJMlNI9ptkzQyHKwYVBMtTmAShCYRHKjORsuYQtQdW7H7FOpA6q/5KK0Ii9DeBvV7Nc8VDo1mry5QJ78anOgqDZYhtefjamW4lNOa042q/ZxNAbVl8ECENuaVcHIlwiO1+qkIBZci3KPTkO+4vigEbjUqi6dL2Xz9FTwj7AovytY/KkJj3BUTGKw2eW5mGKfBKT6g0rR88JUwrjlGXheTBACREkkMz7VKN7SsmpM/VII7jCEtcagrmu9K293wOXZEqUthqwERya6/L9VBdDjlizT1HZDvuL4XhxzBihkHytCBq+My2edQMSDDefC/IhcjtbwQooKY4eRoQNWnPGBOMUE4x6ch33FpJOEdiCFidJSKWdiRyjactAUCFbLssZO0acaATiYdWQSTHxUh00jGNm4d+NZsDH9kp7YA/4kvWkJgRpqX9x5TOj9VArsutWKJHpQ6cA5Y060plaCZuGRb2oXtiXJU4weDv+CKA5VeH2dNMsjTrUqUzTKB0X50Hq66Cbq6LzSyvN1GKdc1Hfp3swTvPGp1kFdYKZ1kPmpaEgWgDFz99KQ77i1kJsq9hMm5mZrOkq94vfnWyJFiMaJMOdaWMiLgJjKNDx1m+JihgliQMbSZ96aWhQCGBDFKSHVSw8mKyjQuvxOPapBax24BMHg7GFs1zG1mPisKMZ3zTV7fAm/hct706jyHRrdb2asEhALdNeGNKu1RPgRMUEUA3AY/a3lFk3d0w+lIWM4DL/aSFRDvzT7SRDp2u+WK7a61211rtrrXbXWu2utdtda7a61211rtrrXbXWu2utdtda7a61211rtrrXbXWu2utdtdai/yQHzFpNbIfHYTXbXWjxqBAJbv5BJYN5gzDOTaiJCmwiTMKxej9CIRTxO1XWsBC96AlEuJr45CKATshq0KMhfKE/HvRY0gEAekLZ2xcH8Gl2dH3BpxPvxlDYOk0Mz0QZIPdSopSwFXaiWhstKzmg6ZIyDlWB2IVzeU1Xtli0N6v5ysjfT90BA9KIGG1BScqWoJUTb4q37Hmngr7xnHG0OWWiuuIigPgPt9OIi4FU6M8i4/7HGjE7K5GlAqgNWowThgJmUfVFRnQg/COG1NgzSgxC/8AK08RFYYbSmOTSzomDyhef4RKjKIArnQUQHC4OL23o6XI7rddXj6pY/8A67+D3mttTv43E4n82nae5ZNff1oJQKkJwemKnWJIiVPP/9oADAMBAAIAAwAAABCSSSSBtttttttttttmSSSSSSSSSJJJNJNH/wDaSSEkkkkkkkkkSSAhPYA6ASSQkkkkkkkkkiSQ8TSTUfCSSEkkkkkkkkkSSXNj5z+aSSQkkkkkkkkkiSSTsn1f9SSSEkkkkkkkkkSSTySSSgbSSQkkkkkkkkkiSUZdcPqbiSSEkkkkkkkkkSSNwHHSYwSSQkkkkkkkkkiQjvg69IhqKSEkkkkkkkkkSB8zH2okbDSQkkkkkkkkkiLSSaTTXSTiSEkkkkkkkkkku3sce6eESZQkkkkkkkkknkQSc9G784xiEkkkkkkkkmSSSSSSSSSSWUkkkkkjgnkkkkkkkkkkkkkkQEAkkiwsAkkkkkkkkkkkkCFeskkkkEkkkkkkkkkkkkkkkkkkkkkkkkkkkkkkkkkkkkkkn//EACoRAQABAgMIAwEBAQEBAAAAAAERACExQWFRcYGRobHB8BAgQNHh8TBg/9oACAEDAQE/EP8AxAkK0a0a0a0a0a0a0a0a0a0a0a0a0a0a0a0a0a0a0a0a0a0a0adj8bC++NoHmp4+k3j4BFRJVieatiJ3ULIReOPo8qjCuJln7F916lkEtPvuT9ux+PC+16Flw4OfalhLkeF7+GNJkNlt9pnHHlSTCscGMznfhRUf9c/+b6IhBflxn0a0urXsNfNYUZXc0eaYnYvxyOLBUfZLO/8Aq9Z2Uc0f8roDlj3fbsfjwvtKoxT1kqGrEcPWiNBgJwcT3hQ4PokiOdQvrjyjtaoaFulykBDRnJvoCDD7dj8eF9lArAvyohFuk1BJazir5n21AZiIL7k8lIS4IqWx6f2iAowF5ExQgrqDwPZ6UoJfdPd+FJ074MHu+pwTNjJ3e2p1FZU3/wAbOez79j8eF9o3sIepEcW1SUXZNt/WMayy9/CT5oKQsgN8jzQQOMVolAGxEcEijaYl1ggjnNC9YDbXX/K6bXxseSJ8VdikQPWP510qXGss3wIt12ffsfjwvsgiODSEnznhH9jz9TWpkQlBXnI60d7Njovj2/27H48L6zUYsuZ3JKw4hhbHLA0cZ2UwpiCOLZPFqUJYAvNLbOFKS4wdYKnLyERxVHCamDsIyxJnnbhrQJEmKMnbqYO6nBKYsOrTcRzpZC4ndeOTluaIv7KoyEw7WHpm4v27H48L6gCsPWgEc78TDlS4iY48KgHOWowDYV3SUong461GQwrENkcPkAVg0GCoyzvighOTPG55+3Y/HhfILhUANFCSMGYd1QyoXgpMjZPC/wDKhBESSUkwJoSxHarslHd/VWYBkjZjedtp47LFRkIgcNuXXhHOmZi64x44xGk01JLv7fCEl4fJUeJK7dl3wcabiQyjhhvnzbKogWlOX+B9Ox+PC+RRkonnNbjd624UTJuLLvEtppRpjFJzHxV1kC9y7/aCSAjP+UGIoJkK6fuoGHs2nzttjvqdqR7Z9aQO8WeG/wDtMxEqzHueG9+CipZZ6B4pFlkHVu+DhUFjji6bDf232wbr6PY/HhfChbAvK9RW19VgVyvy+WCcbx0nx8bWXDmx9lgVyvyqZInxaC2eL9Ox+PCq1NocFu+7aYLrKtxd6HQ/meFjSjFqbos3zPcqw68MsTOdcndTglMWHVrp/JUAZInHVG+kHPkARvAzGOKScuY0Qq5fvuxzoXTHHWTZgI/ymOsXsLcOdt/xdTZL9FGd0zxiM+b/AMqDiz1RDHK05wb6RCKCkbpLG+4aXcKlMyB5i9MKlFzew/tZhiybZX6d1NVQ4NIhnUb4+PjsfjwqSRHBoFDGgIthY3bNeNBAGRHD1pTLKOGz5QRWDQhZe4402NCNlqvLZhUMl6VMmPs1L0f2gkQhLe96ya1REWG527s7ba0KIkDFpzM9OGyryxiQ1yGHGkF2sOFPQX95/HY/GSBWmVplaZWmVplaZWmVplaZWmVplaZWmVplaZWmVplaZWmVplaZWmVplMpf+kAcBA3LA8r1cth52VcgvRZDChEk/cgOwUdB81AbFr7Nastzu4f6psyxpsyx+uM1oUD0R/igZdBzLG+9azE6MQeietQu4FXns0n9yFtvg8/yrys3fbaw3LfflE0mViljfh7VBKsgBxUW4THE0owSHJstDw92/wDzP//EACoRAQABAwEHBQEBAQEBAAAAAAERACExYUFRcYGRobEQIEDB8NHh8TBg/9oACAECAQE/EP8AxUha1q1q1q1q1q1q1q1q1q1q1q1q1q1q1q1q1q1q1q1q1q1q1qNn4bN78G8p0j++yLT6BgfozTANh/NXjMcaUuTaeVv6VOQ2JM7I3/XG1Q3BvH3/ADr7vP8ADze1qR4QJc5ScKEjEy7b9znidlWRiUJa1kmP5RGbJPBLFnyUxO126f8AeFMyYOv76qO/sVzco6k9q8iOhPeiIsOeG3tNTkyg/nSm0mfDD7rkSXi37EHL3ef4eb3RgWAdofuhAGBnnS+3aPMxS23sGGSpybmPNCGTP9oUZKtxwUjZH3ef4eb3BAZbFCpbFn9wvTTNE8oP8oUqykOsx5qU3qG/z/KmKZQ6uagWWCTkxzs9qBUH/Nf2W22iKWSfbfWoko6tpo/r0IAuBylxx39Nnv8AP8PN7pSGRHpd7TRJTfF9DtJSrnaznAfVGa5F4XeKjKK1KgByI8xmuEQaEyz0DrSz2gn+f7Umbr2xd/QWqQoMyj3R57VATi4RbVn909/n+Hm9woiZKWx9YPi7C/XtdKjTI0sG9/YpyjYT3D7/AFvd5/h5vbELhfxnk0uRskmcGYl1NjffZQR3q8ZX7VhRIp0BvvztoQDERpK/yow8KS6DvFRd2rO3CkaW8zSMJliduyNExxosjRvuxQwgyUEguKcbD1vep2NfKrAEf9D+0x7vP8PN7UqFAMm6OXDFBozixzqTuc08jeHOFnzQAOT/AJ4qYlFCAbPv1SgZKTKlo2CklG0jvP17vP8ADzes76lFaqQg5hJun9FQh2pey/VDQNrHO39KzFkGGhOWKQEzVu3QOzVywkhnpbvs3VgCZb8NvbmvIqBNgYnfrwPrdREQHD9t9ALYm7q1LKEBu2tjtLyoSFISdZzwh8VtWz8Ovs8/w83qgIaQnaL8Sx2vzqwKyEHBnrr3pS7YPUfdCIuycSA+qULjOz+0mDSxC12Lw0yfuXj63RQLjD+ufiiVtLPX9uoiZgCJ4H3d0PREBuEPVoQhtWXwfbzqRfjBrveGzWsvZHn+Hm9NZUOtqSGPaEoG31ZIwveP56cgL09wSgbaiE/7eW+iHs8/w81XJuXp/wBnlUlrAvyPaaHoCelo53ddKMORZONl37bwq7Pac4dkaJjjRZGjfdiu8+msm1MY3A4xe9JJLWRONl37CVeXbHhJLzSBDcxpfflKAJg8GeefS7JcXwNAPZKDTOzty1qXgjI4yT/nHhQyiFFPGM8raTioa6Z5Q+qEhz9v8UwANkO7YpEBIL6zsNyNjhr6ef4eahhEyUATcxWQ3s8/rlSyrtZ52v2KIEbL9fUUBkpBTb+xigJ1Z3339ipS2HNSCkouhuEaxuqG/wA/ylhSkzSrldq8F3b5ntG6lERlJvGxi2vPfpWC+LlZDf8AWKljcz+6UTJb08/w2FNalalalalalalalalalalalalalalalalalalalalalalalAIP/SeUKXiEp1tTBqZ62fHOrE2Xjnu40LizSIw/NdKFS5ExzSO1BO4Tz/RV6bDDmS8UXIYouQx7f0d1Ta7+OE96bnmS8yD2obXhGpscbzz4Ukm1B2PO/wCasZoo2zyhys0iNkC26xLx2fcxQbJy6S6TSAtxWMCVecTJiHWohdJtb4bRrnlZyf8AzP8A/8QAKBABAQACAgEDBQEAAgMAAAAAAREAITFBURBAYSBxgZGhMLHRwfDx/9oACAEBAAE/EP8AE9vKMyywE47PcSpUqVKlSpUqVKlSpUqVKlSpUqVKWqAc8UIueT2f9/65G1ewRQIHHHn9fRBfyC14pyWPpJXqrxgMLy7QAVQxTSEkmEsURERFG5rGzedYnhNw6TzgFAvd6poATWJO0MWnaCkrRAJFWybFpivNvfGkf/Ee5Q/3/ppIqJTkwxFBKz6mh0uzqGsZ4ILDSE7NdHnFf+yggDshQU1cU2ufGlAPAyb4ZDow272qdfgwIm+VLHYou+SPNc2bY0H8P7C4OvYOjZf7hs8KdIZ/Ij9mJ5CPuR+tD+ME8lf4/wDMj+ONBfshDn8/8Z2osv0nwnuSh/v/AEzKDCkK/G9ZEnsnAnagm5R/eIjDAiJsiOoEylFel9/TsXbyg1cWGQpKSlYV1e3z9Ea4jtQNENiOxGmbkKY1Da06NrdGNLVtoBEGd6Xn78mIYWs7EqBGKaeFMiSxSKtKaqqqttbhKAx6CB+vcof7/wBUiMwoKtQAO1UD74SsxrSoJRWiQOf3lncLWbTY7rtwtpZ4SLwREp2xl29ScGgqF+6entdCUxrAQppSxzrYnkBBewEg2a0Y3a4sv58ACr0DhgeEaqBUp1YGPJHU3N2NyIJxxrHecqoBQfa1B4Jwr7pD/f8Aqj4RbSGOionyb1mulaEAaByVQry8YCO4ycsvPjxe8JHSQgW/eXM1gppAQibAo/09Nl1mJBA4B0Ia+MRiGGF7o6lVjs1zlEhydwJKhI8cZWWSGmooEKqxZvGuKPQZEA4BFy+ZhIqzlVSqqUGmb690h/v/AFTHeNoiNETYnk3ipRGgZ4EA0aGa9UvViAQBeeeD+fSmiJYKwLr5zUgiOyXsmTf3Ma1LcSUQdyDkMZIOxDFK6sQ8z4fcof7/ANNsyq2OqFyBb8OFK9BSobrIKgG7MutRuTZCyAV57uMGcGrKzzA7cnWaizrvxJsdtm/Eym5ZUhTtKi/GKoK4SHeKPZrWpjGoJk6iLZsOiPWPtYPT/Yfw4clGVXUL8H7HTkWqWRiJsHkMkKoT5vipS7jjsw8BBwLovGbgV4bDRwZpmnb7lD/f+mbBChRoIo9vfeXEDYAEQ0U01aAdYEONAoDQQ4dhwXjFhPAGIgTSBeJy5V8aqakMIBHfWCwiegYNBXKq73g74VKTgIgfscbPHZ6CeaeDo9SXRKuAKBPhxa5GhfxUKaNqusuu2mTDRAYBrxl0FdRfEDGnm+5Q/wB/1kOSNSBVBAw3zjPTlsILwtDyOQmowHKlFRIB3hSpKUswM42VxQYcypylV0iDUw37kbVliJdO6eM0l+z/ALNy/jAcwokfAo/cwdLXqBoBoBsdGalaRdzwbILkv1HNW8KNcTPLQHjtUGIAzXEhW/CO8VrSyZabFGk6kwKgVJydZFnu0I0IQ8EMG6acCm6m9fiXC39QQbe+UbmzbhtnyQ67IR3o59uh/v8ArGWAiPCZE23Ol/2AH4yFXPuA8XkqHFkGPMpgbaACCrtN5bRKMEE+iweuZcXW3EFR0nWvC1pom9F+4KeKlmCcuIg8MC+hIk/guQXAgkRK18p0gaeYdDF6XGLzwOQApGIWivxgHxM4pSUpBAIvOsWCgr4O85qmLgLdH4cVfW8GhwOK5vxxjYx03bUlgqtYE7z/AN75+3Q/3/SQItZbLOX/AKc1ZKX6ZhiHg2w/qHrbRDXPYABHIe/RtG8CGi1OXS/79G1jUlV8ePomGIeDbD+oZY35VgXeROw68vt0P9/LfYHAhB2Ao3tm8Udqm1DaoKKV1ZkQcpEEy4BsgNkwNzvvBtYdXcFreS0PZbmIqLsOiPWPtYPT/Yfw4clGVXUL8H7HTnhE3cn0nS/bHZiRcFWhYQNk18uGUZepapwz3Baji67hi6FqDRpNdTNFqK3RwD00gjxrFQmJTOl6HRA9EALhCG4wnDXfdxYdzw/ghdBmjk3U7E/8wODCOhyb1hFvKKnsMUEYR3jLC28sqMXF2fjCPshTASrwLyvzmqNkib2xNNZrD4lSBRDQG13apoPaIf7+UFRbPJwibE8m8UIzcQTXDTg5ejILEVkCAeQulU6cB0pIClPLLgrW3FJW1HQT1To6PUZ8rUqIiIiIg0c0g7ZfIgj4rl84GttYeiDNps4ZxlkTC1BYN1KxSlcBsqIAC1AkD4gzogK5rt9iugD01ksyBRGIcSv5O8mK2yVxDgaNWawp4c6sBTWBpG2tmSeJfIk1U3hDXy4GUEr0kCNVDY2XD+W6oJqtioKoq7wmsb5th+1Zba0CAHAWh0ovtUJXgauKu5HeGyCqmBnSUg99Xbd5BHl9nFixYsWLFixYsWLFixYsWK+9o08ghGWWHyZ8oKXCmz4Sj0vpFFXV6G1p2/8AD/QhpJSKqABAsAq5wpEMCk6K3bIXWLMMOIVOwJsvOHbcAalETHW/thXREqB4R7PWQ6BQ1wXbdAZUlNMPpdx3aeTJgOFEAtABoPj2kuojEOZukedXMnOVkmlr8n5tnhHqESh2FB+SlxOJuTVFiUn77zqjsjKBa1oecIjsIjBbyddaN4NrzKzKhoXvJrLLocQLPz9JnqoaAbt1UL84bAi3JdCPJ0+cS80oDbAkWmaDmGBjLGQ6OgeJco2rgRpIpBCOhBCaPQnUxKU8dT2C9R3llVNuXOwfJvsX2+1YIQ/PwnImx2Ya74SX45yfni8DJ2nZB8JhlBVSAeXCCba4B03Gcu34MW+YI0EbUNrQ3Sli/JfGbkHd5H7yzQAQRIWzmNK0OccDBZiMw4GivCmv8UU0LDcqugzaY9eZQB+K70wdfLKqeXbTtKvut3YiC9oObwb6YJ8Ax9GJp+rD8Ov9vv2JmoNqTgoOQuABAge8ucXz40jHtbdjmp1boFWGjfj6/wD/2Q==)"
      ]
    },
    {
      "cell_type": "markdown",
      "metadata": {
        "id": "nf8TruPJEywq"
      },
      "source": [
        "Where:\n",
        "* `samples` indicates how many rows from the dataset were \"included\" in this node during the tree learning process (e.g., all 514 rows were used in the first node presented above),\n",
        "* `value` provides details by indicating the number of instances of each class (e.g., 335 instances of class 0/negative and 179 instances of class 1/positive),\n",
        "* `class` indicates the decision that would be made if the current node were a leaf (e.g., negative as above, because there are more negative samples than positive ones in this node); the decision is also indicated by colour (red and blue for two classes),\n",
        "* `gini` is a metric that calculates how good discrimination between classes occurs at the current node (0 is the best). This metric is also used for decision selection - parameters and their values are chosen such that in the next level of the tree the `gini` values are as low as possible (e.g., in this node there are many instances of both classes - as a result, it is not so good discriminator, what is indicated by high `gini` value),\n",
        "* The first row contains the `decision` being made at that node in the tree. Based on the answer, we then traverse the corresponding edges to the subsequent nodes until we reach the leaves, where the classification according to the `class` value is returned (e.g., in the example, we check whether the `plas` value is `<= 0.707` or not)."
      ]
    },
    {
      "cell_type": "markdown",
      "metadata": {
        "id": "VnMWs1V5MTIL"
      },
      "source": [
        "### Decision Tree generation"
      ]
    },
    {
      "cell_type": "code",
      "metadata": {
        "id": "CDcdZLp7mXuI",
        "colab": {
          "base_uri": "https://localhost:8080/"
        },
        "outputId": "8905c2f2-004e-411b-e4d5-d2d295e50617"
      },
      "source": [
        "# trees in sklearn\n",
        "from sklearn import tree\n",
        "\n",
        "# for trees visualisation\n",
        "!pip install graphviz\n",
        "!apt-get -qq install -y graphviz\n",
        "from sklearn.tree import  export_graphviz\n",
        "from IPython.display import display, SVG\n",
        "from graphviz import Source"
      ],
      "execution_count": 41,
      "outputs": [
        {
          "output_type": "stream",
          "name": "stdout",
          "text": [
            "Requirement already satisfied: graphviz in /usr/local/lib/python3.7/dist-packages (0.10.1)\n"
          ]
        }
      ]
    },
    {
      "cell_type": "markdown",
      "metadata": {
        "id": "BpEQdZf6MY5F"
      },
      "source": [
        "Decision tree generation follows the same workflow as Linear Regression (last time) and Logistic Regression (above). We select the model, set the parameters, and fit the model to the data.\n",
        "\n",
        "All is done below. Also, there is a code for visualisation.\n",
        "\n",
        "Note: if you want to see class labels instead of numeric values, use the `LabelEncoder.classes_` list as a value for `class_names` parameter in `export_graphviz()` function."
      ]
    },
    {
      "cell_type": "code",
      "metadata": {
        "id": "igw-kMGnqDqm",
        "colab": {
          "base_uri": "https://localhost:8080/",
          "height": 380
        },
        "outputId": "3fa165d9-1a07-4b01-f8f5-e6c82777a182"
      },
      "source": [
        "# select the model (and optional parameters)\n",
        "tree_model = tree.DecisionTreeClassifier(max_depth=2)\n",
        "# fit the model to the data\n",
        "tree_model.fit(diabetes_train[all_features], diabetes_train[target])\n",
        "\n",
        "# visualisation\n",
        "graph = Source(tree.export_graphviz(tree_model, out_file=None, \n",
        "                                    feature_names=all_features,\n",
        "                                    class_names=le.classes_,\n",
        "                                    filled = True))\n",
        "\n",
        "display(SVG(graph.pipe(format='svg')))\n"
      ],
      "execution_count": 44,
      "outputs": [
        {
          "output_type": "error",
          "ename": "TypeError",
          "evalue": "ignored",
          "traceback": [
            "\u001b[0;31m---------------------------------------------------------------------------\u001b[0m",
            "\u001b[0;31mTypeError\u001b[0m                                 Traceback (most recent call last)",
            "\u001b[0;32m<ipython-input-44-815a866c6bfc>\u001b[0m in \u001b[0;36m<module>\u001b[0;34m()\u001b[0m\n\u001b[1;32m      8\u001b[0m                                     \u001b[0mfeature_names\u001b[0m\u001b[0;34m=\u001b[0m\u001b[0mall_features\u001b[0m\u001b[0;34m,\u001b[0m\u001b[0;34m\u001b[0m\u001b[0;34m\u001b[0m\u001b[0m\n\u001b[1;32m      9\u001b[0m                                     \u001b[0mclass_names\u001b[0m\u001b[0;34m=\u001b[0m\u001b[0mle\u001b[0m\u001b[0;34m.\u001b[0m\u001b[0mclasses_\u001b[0m\u001b[0;34m,\u001b[0m\u001b[0;34m\u001b[0m\u001b[0;34m\u001b[0m\u001b[0m\n\u001b[0;32m---> 10\u001b[0;31m                                     filled = False))\n\u001b[0m\u001b[1;32m     11\u001b[0m \u001b[0;34m\u001b[0m\u001b[0m\n\u001b[1;32m     12\u001b[0m \u001b[0mdisplay\u001b[0m\u001b[0;34m(\u001b[0m\u001b[0mSVG\u001b[0m\u001b[0;34m(\u001b[0m\u001b[0mgraph\u001b[0m\u001b[0;34m.\u001b[0m\u001b[0mpipe\u001b[0m\u001b[0;34m(\u001b[0m\u001b[0mformat\u001b[0m\u001b[0;34m=\u001b[0m\u001b[0;34m'svg'\u001b[0m\u001b[0;34m)\u001b[0m\u001b[0;34m)\u001b[0m\u001b[0;34m)\u001b[0m\u001b[0;34m\u001b[0m\u001b[0;34m\u001b[0m\u001b[0m\n",
            "\u001b[0;32m/usr/local/lib/python3.7/dist-packages/sklearn/tree/_export.py\u001b[0m in \u001b[0;36mexport_graphviz\u001b[0;34m(decision_tree, out_file, max_depth, feature_names, class_names, label, filled, leaves_parallel, impurity, node_ids, proportion, rotate, rounded, special_characters, precision, fontname)\u001b[0m\n\u001b[1;32m    887\u001b[0m             \u001b[0mfontname\u001b[0m\u001b[0;34m=\u001b[0m\u001b[0mfontname\u001b[0m\u001b[0;34m,\u001b[0m\u001b[0;34m\u001b[0m\u001b[0;34m\u001b[0m\u001b[0m\n\u001b[1;32m    888\u001b[0m         )\n\u001b[0;32m--> 889\u001b[0;31m         \u001b[0mexporter\u001b[0m\u001b[0;34m.\u001b[0m\u001b[0mexport\u001b[0m\u001b[0;34m(\u001b[0m\u001b[0mdecision_tree\u001b[0m\u001b[0;34m)\u001b[0m\u001b[0;34m\u001b[0m\u001b[0;34m\u001b[0m\u001b[0m\n\u001b[0m\u001b[1;32m    890\u001b[0m \u001b[0;34m\u001b[0m\u001b[0m\n\u001b[1;32m    891\u001b[0m         \u001b[0;32mif\u001b[0m \u001b[0mreturn_string\u001b[0m\u001b[0;34m:\u001b[0m\u001b[0;34m\u001b[0m\u001b[0;34m\u001b[0m\u001b[0m\n",
            "\u001b[0;32m/usr/local/lib/python3.7/dist-packages/sklearn/tree/_export.py\u001b[0m in \u001b[0;36mexport\u001b[0;34m(self, decision_tree)\u001b[0m\n\u001b[1;32m    460\u001b[0m             \u001b[0mself\u001b[0m\u001b[0;34m.\u001b[0m\u001b[0mrecurse\u001b[0m\u001b[0;34m(\u001b[0m\u001b[0mdecision_tree\u001b[0m\u001b[0;34m,\u001b[0m \u001b[0;36m0\u001b[0m\u001b[0;34m,\u001b[0m \u001b[0mcriterion\u001b[0m\u001b[0;34m=\u001b[0m\u001b[0;34m\"impurity\"\u001b[0m\u001b[0;34m)\u001b[0m\u001b[0;34m\u001b[0m\u001b[0;34m\u001b[0m\u001b[0m\n\u001b[1;32m    461\u001b[0m         \u001b[0;32melse\u001b[0m\u001b[0;34m:\u001b[0m\u001b[0;34m\u001b[0m\u001b[0;34m\u001b[0m\u001b[0m\n\u001b[0;32m--> 462\u001b[0;31m             \u001b[0mself\u001b[0m\u001b[0;34m.\u001b[0m\u001b[0mrecurse\u001b[0m\u001b[0;34m(\u001b[0m\u001b[0mdecision_tree\u001b[0m\u001b[0;34m.\u001b[0m\u001b[0mtree_\u001b[0m\u001b[0;34m,\u001b[0m \u001b[0;36m0\u001b[0m\u001b[0;34m,\u001b[0m \u001b[0mcriterion\u001b[0m\u001b[0;34m=\u001b[0m\u001b[0mdecision_tree\u001b[0m\u001b[0;34m.\u001b[0m\u001b[0mcriterion\u001b[0m\u001b[0;34m)\u001b[0m\u001b[0;34m\u001b[0m\u001b[0;34m\u001b[0m\u001b[0m\n\u001b[0m\u001b[1;32m    463\u001b[0m \u001b[0;34m\u001b[0m\u001b[0m\n\u001b[1;32m    464\u001b[0m         \u001b[0mself\u001b[0m\u001b[0;34m.\u001b[0m\u001b[0mtail\u001b[0m\u001b[0;34m(\u001b[0m\u001b[0;34m)\u001b[0m\u001b[0;34m\u001b[0m\u001b[0;34m\u001b[0m\u001b[0m\n",
            "\u001b[0;32m/usr/local/lib/python3.7/dist-packages/sklearn/tree/_export.py\u001b[0m in \u001b[0;36mrecurse\u001b[0;34m(self, tree, node_id, criterion, parent, depth)\u001b[0m\n\u001b[1;32m    519\u001b[0m \u001b[0;34m\u001b[0m\u001b[0m\n\u001b[1;32m    520\u001b[0m             self.out_file.write(\n\u001b[0;32m--> 521\u001b[0;31m                 \u001b[0;34m\"%d [label=%s\"\u001b[0m \u001b[0;34m%\u001b[0m \u001b[0;34m(\u001b[0m\u001b[0mnode_id\u001b[0m\u001b[0;34m,\u001b[0m \u001b[0mself\u001b[0m\u001b[0;34m.\u001b[0m\u001b[0mnode_to_str\u001b[0m\u001b[0;34m(\u001b[0m\u001b[0mtree\u001b[0m\u001b[0;34m,\u001b[0m \u001b[0mnode_id\u001b[0m\u001b[0;34m,\u001b[0m \u001b[0mcriterion\u001b[0m\u001b[0;34m)\u001b[0m\u001b[0;34m)\u001b[0m\u001b[0;34m\u001b[0m\u001b[0;34m\u001b[0m\u001b[0m\n\u001b[0m\u001b[1;32m    522\u001b[0m             )\n\u001b[1;32m    523\u001b[0m \u001b[0;34m\u001b[0m\u001b[0m\n",
            "\u001b[0;32m/usr/local/lib/python3.7/dist-packages/sklearn/tree/_export.py\u001b[0m in \u001b[0;36mnode_to_str\u001b[0;34m(self, tree, node_id, criterion)\u001b[0m\n\u001b[1;32m    372\u001b[0m                     \u001b[0mcharacters\u001b[0m\u001b[0;34m[\u001b[0m\u001b[0;36m2\u001b[0m\u001b[0;34m]\u001b[0m\u001b[0;34m,\u001b[0m\u001b[0;34m\u001b[0m\u001b[0;34m\u001b[0m\u001b[0m\n\u001b[1;32m    373\u001b[0m                 )\n\u001b[0;32m--> 374\u001b[0;31m             \u001b[0mnode_string\u001b[0m \u001b[0;34m+=\u001b[0m \u001b[0mclass_name\u001b[0m\u001b[0;34m\u001b[0m\u001b[0;34m\u001b[0m\u001b[0m\n\u001b[0m\u001b[1;32m    375\u001b[0m \u001b[0;34m\u001b[0m\u001b[0m\n\u001b[1;32m    376\u001b[0m         \u001b[0;31m# Clean up any trailing newlines\u001b[0m\u001b[0;34m\u001b[0m\u001b[0;34m\u001b[0m\u001b[0;34m\u001b[0m\u001b[0m\n",
            "\u001b[0;31mTypeError\u001b[0m: can only concatenate str (not \"numpy.int64\") to str"
          ]
        }
      ]
    },
    {
      "cell_type": "markdown",
      "metadata": {
        "id": "fgXp36r-P6ia"
      },
      "source": [
        "**Task 7:** Evaluate the decision tree using the [`metrics.classification_report()`](https://scikit-learn.org/stable/modules/generated/sklearn.metrics.classification_report.html) (as with Logistic Regression)."
      ]
    },
    {
      "cell_type": "code",
      "metadata": {
        "id": "ijqKK_AVQJV5"
      },
      "source": [
        "# _FILL_IN_YOUR_CODE_HERE \n",
        "\n",
        "\n"
      ],
      "execution_count": null,
      "outputs": []
    },
    {
      "cell_type": "markdown",
      "metadata": {
        "id": "duWbrhxSrqNA"
      },
      "source": [
        "The following parameters are particularly important for the construction of a tree and protects against overfitting (for the full list, see the docs at [`DecisionTreeClassifier`](https://scikit-learn.org/stable/modules/generated/sklearn.tree.DecisionTreeClassifier.html)): \n",
        "* `max_depth` - the maximum depth of the tree,\n",
        "* `min_samples_split` - minimum number of elements that allow splitting,\n",
        "* `min_samples_leaf` - minimum number of elements to become a leaf (complementary to the previous one).\n",
        "\n",
        "**Task 8:** Try out various values of these parameters and show below the best tree you have prepared!"
      ]
    },
    {
      "cell_type": "code",
      "metadata": {
        "id": "3lLmneLprdA9"
      },
      "source": [
        "# _FILL_IN_YOUR_CODE_HERE "
      ],
      "execution_count": null,
      "outputs": []
    },
    {
      "cell_type": "code",
      "metadata": {
        "id": "173NsWvKO9ia"
      },
      "source": [
        ""
      ],
      "execution_count": null,
      "outputs": []
    }
  ]
}