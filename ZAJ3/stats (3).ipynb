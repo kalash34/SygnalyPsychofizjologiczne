{
 "cells": [
  {
   "cell_type": "markdown",
   "metadata": {
    "id": "j7qQsqJDMcMB"
   },
   "source": [
    "## Statistics 101"
   ]
  },
  {
   "cell_type": "markdown",
   "metadata": {
    "id": "A5Gyu8nD5cDF"
   },
   "source": [
    "### BIRAFFE2 dataset\n",
    "\n",
    "In today's class, we will recall the basics of statistics.\n",
    "To make it more fun and related to the our affective research, we will start by loading the BIRAFFE2 dataset collected using, among others, BITalino (i.e., the older brother of the PLUX's family of devices we use in class).\n",
    "\n",
    "We will use the **BIRAFFE2-procedure** subset with a logs of stimuli presentation and user responses and **BIRAFFE2-metadata.csv** file.\n",
    "\n",
    "For more details, see the [full record at Zenodo](https://doi.org/10.5281/zenodo.3865859)."
   ]
  },
  {
   "cell_type": "code",
   "execution_count": 1,
   "metadata": {
    "id": "nKqYHudsze6f",
    "colab": {
     "base_uri": "https://localhost:8080/"
    },
    "outputId": "dd5983ce-7bb2-49b9-b4cd-382bcb5e93e7"
   },
   "outputs": [
    {
     "name": "stderr",
     "output_type": "stream",
     "text": [
      "/usr/local/lib/python3.7/dist-packages/statsmodels/tools/_testing.py:19: FutureWarning: pandas.util.testing is deprecated. Use the functions in the public API at pandas.testing instead.\n",
      "  import pandas.util.testing as tm\n"
     ]
    }
   ],
   "source": [
    "# necessary imports\n",
    "import io\n",
    "import glob\n",
    "import numpy as np\n",
    "import pandas as pd\n",
    "\n",
    "# for stats\n",
    "from scipy import stats\n",
    "import statistics\n",
    "import statsmodels.api as sm\n",
    "import statsmodels.formula.api as smf\n",
    "\n",
    "# import matplotlib library\n",
    "import matplotlib.pyplot as plt\n",
    "# if you work locally (not at Google Colab) you can activate interactive plots by changing \"inline\" to \"notebook\"\n",
    "%matplotlib inline\n",
    "\n",
    "# import bokeh\n",
    "import bokeh.io, bokeh.plotting\n",
    "bokeh.io.output_notebook()"
   ]
  },
  {
   "cell_type": "code",
   "execution_count": 2,
   "metadata": {
    "id": "CWwYc--pl1jK",
    "colab": {
     "base_uri": "https://localhost:8080/"
    },
    "outputId": "822968e6-5237-45d2-ea35-0e9cc9e2e135"
   },
   "outputs": [
    {
     "name": "stdout",
     "output_type": "stream",
     "text": [
      "--2022-03-30 06:10:30--  https://zenodo.org/record/3865860/files/BIRAFFE2-metadata.csv?download=1\n",
      "Resolving zenodo.org (zenodo.org)... 137.138.76.77\n",
      "Connecting to zenodo.org (zenodo.org)|137.138.76.77|:443... connected.\n",
      "HTTP request sent, awaiting response... 200 OK\n",
      "Length: 27324 (27K) [text/plain]\n",
      "Saving to: ‘BIRAFFE2-metadata.csv?download=1’\n",
      "\n",
      "BIRAFFE2-metadata.c 100%[===================>]  26.68K  --.-KB/s    in 0s      \n",
      "\n",
      "2022-03-30 06:10:31 (357 MB/s) - ‘BIRAFFE2-metadata.csv?download=1’ saved [27324/27324]\n",
      "\n",
      "--2022-03-30 06:10:31--  https://zenodo.org/record/3865860/files/BIRAFFE2-procedure.zip?download=1\n",
      "Resolving zenodo.org (zenodo.org)... 137.138.76.77\n",
      "Connecting to zenodo.org (zenodo.org)|137.138.76.77|:443... connected.\n",
      "HTTP request sent, awaiting response... 200 OK\n",
      "Length: 35900571 (34M) [application/octet-stream]\n",
      "Saving to: ‘BIRAFFE2-procedure.zip?download=1’\n",
      "\n",
      "BIRAFFE2-procedure. 100%[===================>]  34.24M   396KB/s    in 87s     \n",
      "\n",
      "2022-03-30 06:12:00 (402 KB/s) - ‘BIRAFFE2-procedure.zip?download=1’ saved [35900571/35900571]\n",
      "\n"
     ]
    }
   ],
   "source": [
    "# Download the dataset (to Virtual Machine local filesystem)\n",
    "!wget https://zenodo.org/record/3865860/files/BIRAFFE2-metadata.csv?download=1\n",
    "!wget https://zenodo.org/record/3865860/files/BIRAFFE2-procedure.zip?download=1\n",
    "\n",
    "!mv \"BIRAFFE2-metadata.csv?download=1\" \"BIRAFFE2-metadata.csv\"\n",
    "!mv \"BIRAFFE2-procedure.zip?download=1\" \"BIRAFFE2-procedure.zip\""
   ]
  },
  {
   "cell_type": "code",
   "execution_count": 3,
   "metadata": {
    "id": "VNgOv48vSjhl",
    "colab": {
     "base_uri": "https://localhost:8080/"
    },
    "outputId": "b3f055ba-dc08-4e96-bdff-23a76312fe19"
   },
   "outputs": [
    {
     "name": "stdout",
     "output_type": "stream",
     "text": [
      "Archive:  BIRAFFE2-procedure.zip\n",
      "   creating: BIRAFFE2-procedure/\n",
      "  inflating: BIRAFFE2-procedure/SUB997-Procedure.csv  \n",
      "  inflating: BIRAFFE2-procedure/SUB977-Procedure.csv  \n",
      "  inflating: BIRAFFE2-procedure/SUB969-Procedure.csv  \n",
      "  inflating: BIRAFFE2-procedure/SUB959-Procedure.csv  \n",
      "  inflating: BIRAFFE2-procedure/SUB948-Procedure.csv  \n",
      "  inflating: BIRAFFE2-procedure/SUB938-Procedure.csv  \n",
      "  inflating: BIRAFFE2-procedure/SUB920-Procedure.csv  \n",
      "  inflating: BIRAFFE2-procedure/SUB915-Procedure.csv  \n",
      "  inflating: BIRAFFE2-procedure/SUB911-Procedure.csv  \n",
      "  inflating: BIRAFFE2-procedure/SUB900-Procedure.csv  \n",
      "  inflating: BIRAFFE2-procedure/SUB869-Procedure.csv  \n",
      "  inflating: BIRAFFE2-procedure/SUB854-Procedure.csv  \n",
      "  inflating: BIRAFFE2-procedure/SUB829-Procedure.csv  \n",
      "  inflating: BIRAFFE2-procedure/SUB821-Procedure.csv  \n",
      "  inflating: BIRAFFE2-procedure/SUB817-Procedure.csv  \n",
      "  inflating: BIRAFFE2-procedure/SUB812-Procedure.csv  \n",
      "  inflating: BIRAFFE2-procedure/SUB797-Procedure.csv  \n",
      "  inflating: BIRAFFE2-procedure/SUB790-Procedure.csv  \n",
      "  inflating: BIRAFFE2-procedure/SUB778-Procedure.csv  \n",
      "  inflating: BIRAFFE2-procedure/SUB758-Procedure.csv  \n",
      "  inflating: BIRAFFE2-procedure/SUB721-Procedure.csv  \n",
      "  inflating: BIRAFFE2-procedure/SUB700-Procedure.csv  \n",
      "  inflating: BIRAFFE2-procedure/SUB688-Procedure.csv  \n",
      "  inflating: BIRAFFE2-procedure/SUB683-Procedure.csv  \n",
      "  inflating: BIRAFFE2-procedure/SUB676-Procedure.csv  \n",
      "  inflating: BIRAFFE2-procedure/SUB672-Procedure.csv  \n",
      "  inflating: BIRAFFE2-procedure/SUB668-Procedure.csv  \n",
      "  inflating: BIRAFFE2-procedure/SUB667-Procedure.csv  \n",
      "  inflating: BIRAFFE2-procedure/SUB665-Procedure.csv  \n",
      "  inflating: BIRAFFE2-procedure/SUB653-Procedure.csv  \n",
      "  inflating: BIRAFFE2-procedure/SUB644-Procedure.csv  \n",
      "  inflating: BIRAFFE2-procedure/SUB621-Procedure.csv  \n",
      "  inflating: BIRAFFE2-procedure/SUB614-Procedure.csv  \n",
      "  inflating: BIRAFFE2-procedure/SUB608-Procedure.csv  \n",
      "  inflating: BIRAFFE2-procedure/SUB603-Procedure.csv  \n",
      "  inflating: BIRAFFE2-procedure/SUB589-Procedure.csv  \n",
      "  inflating: BIRAFFE2-procedure/SUB577-Procedure.csv  \n",
      "  inflating: BIRAFFE2-procedure/SUB576-Procedure.csv  \n",
      "  inflating: BIRAFFE2-procedure/SUB575-Procedure.csv  \n",
      "  inflating: BIRAFFE2-procedure/SUB572-Procedure.csv  \n",
      "  inflating: BIRAFFE2-procedure/SUB570-Procedure.csv  \n",
      "  inflating: BIRAFFE2-procedure/SUB568-Procedure.csv  \n",
      "  inflating: BIRAFFE2-procedure/SUB560-Procedure.csv  \n",
      "  inflating: BIRAFFE2-procedure/SUB556-Procedure.csv  \n",
      "  inflating: BIRAFFE2-procedure/SUB555-Procedure.csv  \n",
      "  inflating: BIRAFFE2-procedure/SUB553-Procedure.csv  \n",
      "  inflating: BIRAFFE2-procedure/SUB504-Procedure.csv  \n",
      "  inflating: BIRAFFE2-procedure/SUB503-Procedure.csv  \n",
      "  inflating: BIRAFFE2-procedure/SUB502-Procedure.csv  \n",
      "  inflating: BIRAFFE2-procedure/SUB465-Procedure.csv  \n",
      "  inflating: BIRAFFE2-procedure/SUB457-Procedure.csv  \n",
      "  inflating: BIRAFFE2-procedure/SUB456-Procedure.csv  \n",
      "  inflating: BIRAFFE2-procedure/SUB444-Procedure.csv  \n",
      "  inflating: BIRAFFE2-procedure/SUB431-Procedure.csv  \n",
      "  inflating: BIRAFFE2-procedure/SUB410-Procedure.csv  \n",
      "  inflating: BIRAFFE2-procedure/SUB407-Procedure.csv  \n",
      "  inflating: BIRAFFE2-procedure/SUB405-Procedure.csv  \n",
      "  inflating: BIRAFFE2-procedure/SUB404-Procedure.csv  \n",
      "  inflating: BIRAFFE2-procedure/SUB403-Procedure.csv  \n",
      "  inflating: BIRAFFE2-procedure/SUB391-Procedure.csv  \n",
      "  inflating: BIRAFFE2-procedure/SUB388-Procedure.csv  \n",
      "  inflating: BIRAFFE2-procedure/SUB383-Procedure.csv  \n",
      "  inflating: BIRAFFE2-procedure/SUB375-Procedure.csv  \n",
      "  inflating: BIRAFFE2-procedure/SUB370-Procedure.csv  \n",
      "  inflating: BIRAFFE2-procedure/SUB356-Procedure.csv  \n",
      "  inflating: BIRAFFE2-procedure/SUB348-Procedure.csv  \n",
      "  inflating: BIRAFFE2-procedure/SUB340-Procedure.csv  \n",
      "  inflating: BIRAFFE2-procedure/SUB336-Procedure.csv  \n",
      "  inflating: BIRAFFE2-procedure/SUB333-Procedure.csv  \n",
      "  inflating: BIRAFFE2-procedure/SUB330-Procedure.csv  \n",
      "  inflating: BIRAFFE2-procedure/SUB322-Procedure.csv  \n",
      "  inflating: BIRAFFE2-procedure/SUB320-Procedure.csv  \n",
      "  inflating: BIRAFFE2-procedure/SUB318-Procedure.csv  \n",
      "  inflating: BIRAFFE2-procedure/SUB314-Procedure.csv  \n",
      "  inflating: BIRAFFE2-procedure/SUB275-Procedure.csv  \n",
      "  inflating: BIRAFFE2-procedure/SUB267-Procedure.csv  \n",
      "  inflating: BIRAFFE2-procedure/SUB256-Procedure.csv  \n",
      "  inflating: BIRAFFE2-procedure/SUB249-Procedure.csv  \n",
      "  inflating: BIRAFFE2-procedure/SUB246-Procedure.csv  \n",
      "  inflating: BIRAFFE2-procedure/SUB236-Procedure.csv  \n",
      "  inflating: BIRAFFE2-procedure/SUB230-Procedure.csv  \n",
      "  inflating: BIRAFFE2-procedure/SUB228-Procedure.csv  \n",
      "  inflating: BIRAFFE2-procedure/SUB223-Procedure.csv  \n",
      "  inflating: BIRAFFE2-procedure/SUB222-Procedure.csv  \n",
      "  inflating: BIRAFFE2-procedure/SUB211-Procedure.csv  \n",
      "  inflating: BIRAFFE2-procedure/SUB208-Procedure.csv  \n",
      "  inflating: BIRAFFE2-procedure/SUB202-Procedure.csv  \n",
      "  inflating: BIRAFFE2-procedure/SUB200-Procedure.csv  \n",
      "  inflating: BIRAFFE2-procedure/SUB195-Procedure.csv  \n",
      "  inflating: BIRAFFE2-procedure/SUB193-Procedure.csv  \n",
      "  inflating: BIRAFFE2-procedure/SUB181-Procedure.csv  \n",
      "  inflating: BIRAFFE2-procedure/SUB175-Procedure.csv  \n",
      "  inflating: BIRAFFE2-procedure/SUB170-Procedure.csv  \n",
      "  inflating: BIRAFFE2-procedure/SUB161-Procedure.csv  \n",
      "  inflating: BIRAFFE2-procedure/SUB157-Procedure.csv  \n",
      "  inflating: BIRAFFE2-procedure/SUB153-Procedure.csv  \n",
      "  inflating: BIRAFFE2-procedure/SUB148-Procedure.csv  \n",
      "  inflating: BIRAFFE2-procedure/SUB141-Procedure.csv  \n",
      "  inflating: BIRAFFE2-procedure/SUB136-Procedure.csv  \n",
      "  inflating: BIRAFFE2-procedure/SUB120-Procedure.csv  \n",
      "  inflating: BIRAFFE2-procedure/SUB119-Procedure.csv  \n",
      "  inflating: BIRAFFE2-procedure/SUB103-Procedure.csv  \n",
      "  inflating: LICENSE                 \n",
      "  inflating: README                  \n"
     ]
    }
   ],
   "source": [
    "# unpack the zip file\n",
    "!unzip \"BIRAFFE2-procedure.zip\""
   ]
  },
  {
   "cell_type": "code",
   "execution_count": 4,
   "metadata": {
    "id": "bXkYHPK_iweg",
    "colab": {
     "base_uri": "https://localhost:8080/"
    },
    "outputId": "35a954ae-3ccb-4092-ad66-491687891412"
   },
   "outputs": [
    {
     "data": {
      "text/plain": [
       "102"
      ]
     },
     "execution_count": 4,
     "metadata": {},
     "output_type": "execute_result"
    }
   ],
   "source": [
    "# generates a list of all procedure files\n",
    "procedure_files = glob.glob(\"BIRAFFE2-procedure/*.csv\")\n",
    "# and counts them\n",
    "len(procedure_files)"
   ]
  },
  {
   "cell_type": "markdown",
   "metadata": {
    "id": "mVeBGI3PAIc3"
   },
   "source": [
    "OK, so we have 102 files (one for each subject). What's inside?"
   ]
  },
  {
   "cell_type": "code",
   "execution_count": 5,
   "metadata": {
    "id": "SaPuXEMa_6Dm",
    "colab": {
     "base_uri": "https://localhost:8080/",
     "height": 478.0
    },
    "outputId": "dfc404c6-292e-4af7-809a-6637ba9b8699"
   },
   "outputs": [
    {
     "name": "stderr",
     "output_type": "stream",
     "text": [
      "/usr/local/lib/python3.7/dist-packages/IPython/core/interactiveshell.py:2882: DtypeWarning: Columns (2) have mixed types.Specify dtype option on import or set low_memory=False.\n",
      "  exec(code_obj, self.user_global_ns, self.user_ns)\n"
     ]
    },
    {
     "data": {
      "text/html": [
       "\n",
       "  <div id=\"df-fc7c1841-ecde-43b6-a1f4-c87ffc4e8824\">\n",
       "    <div class=\"colab-df-container\">\n",
       "      <div>\n",
       "<style scoped>\n",
       "    .dataframe tbody tr th:only-of-type {\n",
       "        vertical-align: middle;\n",
       "    }\n",
       "\n",
       "    .dataframe tbody tr th {\n",
       "        vertical-align: top;\n",
       "    }\n",
       "\n",
       "    .dataframe thead th {\n",
       "        text-align: right;\n",
       "    }\n",
       "</style>\n",
       "<table border=\"1\" class=\"dataframe\">\n",
       "  <thead>\n",
       "    <tr style=\"text-align: right;\">\n",
       "      <th></th>\n",
       "      <th>TIMESTAMP</th>\n",
       "      <th>ID</th>\n",
       "      <th>COND</th>\n",
       "      <th>IADS_ID</th>\n",
       "      <th>IAPS_ID</th>\n",
       "      <th>ANS_VALENCE</th>\n",
       "      <th>ANS_AROUSAL</th>\n",
       "      <th>ANS_TIME</th>\n",
       "      <th>EVENT</th>\n",
       "    </tr>\n",
       "  </thead>\n",
       "  <tbody>\n",
       "    <tr>\n",
       "      <th>0</th>\n",
       "      <td>1.580825e+09</td>\n",
       "      <td>NaN</td>\n",
       "      <td>NaN</td>\n",
       "      <td>NaN</td>\n",
       "      <td>NaN</td>\n",
       "      <td>NaN</td>\n",
       "      <td>NaN</td>\n",
       "      <td>NaN</td>\n",
       "      <td>BASELINE START</td>\n",
       "    </tr>\n",
       "    <tr>\n",
       "      <th>1</th>\n",
       "      <td>1.580825e+09</td>\n",
       "      <td>NaN</td>\n",
       "      <td>NaN</td>\n",
       "      <td>NaN</td>\n",
       "      <td>NaN</td>\n",
       "      <td>NaN</td>\n",
       "      <td>NaN</td>\n",
       "      <td>NaN</td>\n",
       "      <td>BASELINE END</td>\n",
       "    </tr>\n",
       "    <tr>\n",
       "      <th>2</th>\n",
       "      <td>1.580825e+09</td>\n",
       "      <td>NaN</td>\n",
       "      <td>NaN</td>\n",
       "      <td>NaN</td>\n",
       "      <td>NaN</td>\n",
       "      <td>NaN</td>\n",
       "      <td>NaN</td>\n",
       "      <td>NaN</td>\n",
       "      <td>INSTRUCTIONS</td>\n",
       "    </tr>\n",
       "    <tr>\n",
       "      <th>3</th>\n",
       "      <td>1.580826e+09</td>\n",
       "      <td>NaN</td>\n",
       "      <td>NaN</td>\n",
       "      <td>NaN</td>\n",
       "      <td>NaN</td>\n",
       "      <td>NaN</td>\n",
       "      <td>NaN</td>\n",
       "      <td>NaN</td>\n",
       "      <td>TUTORIAL START</td>\n",
       "    </tr>\n",
       "    <tr>\n",
       "      <th>4</th>\n",
       "      <td>1.580826e+09</td>\n",
       "      <td>NaN</td>\n",
       "      <td>NaN</td>\n",
       "      <td>NaN</td>\n",
       "      <td>NaN</td>\n",
       "      <td>NaN</td>\n",
       "      <td>NaN</td>\n",
       "      <td>NaN</td>\n",
       "      <td>BITalino error: The computer lost communicatio...</td>\n",
       "    </tr>\n",
       "    <tr>\n",
       "      <th>...</th>\n",
       "      <td>...</td>\n",
       "      <td>...</td>\n",
       "      <td>...</td>\n",
       "      <td>...</td>\n",
       "      <td>...</td>\n",
       "      <td>...</td>\n",
       "      <td>...</td>\n",
       "      <td>...</td>\n",
       "      <td>...</td>\n",
       "    </tr>\n",
       "    <tr>\n",
       "      <th>2633129</th>\n",
       "      <td>1.580828e+09</td>\n",
       "      <td>NaN</td>\n",
       "      <td>NaN</td>\n",
       "      <td>NaN</td>\n",
       "      <td>NaN</td>\n",
       "      <td>NaN</td>\n",
       "      <td>NaN</td>\n",
       "      <td>NaN</td>\n",
       "      <td>BITalino error: The computer lost communicatio...</td>\n",
       "    </tr>\n",
       "    <tr>\n",
       "      <th>2633130</th>\n",
       "      <td>1.580828e+09</td>\n",
       "      <td>NaN</td>\n",
       "      <td>NaN</td>\n",
       "      <td>NaN</td>\n",
       "      <td>NaN</td>\n",
       "      <td>NaN</td>\n",
       "      <td>NaN</td>\n",
       "      <td>NaN</td>\n",
       "      <td>BITalino error: The computer lost communicatio...</td>\n",
       "    </tr>\n",
       "    <tr>\n",
       "      <th>2633131</th>\n",
       "      <td>1.580828e+09</td>\n",
       "      <td>NaN</td>\n",
       "      <td>NaN</td>\n",
       "      <td>NaN</td>\n",
       "      <td>NaN</td>\n",
       "      <td>NaN</td>\n",
       "      <td>NaN</td>\n",
       "      <td>NaN</td>\n",
       "      <td>BITalino error: The computer lost communicatio...</td>\n",
       "    </tr>\n",
       "    <tr>\n",
       "      <th>2633132</th>\n",
       "      <td>1.580828e+09</td>\n",
       "      <td>NaN</td>\n",
       "      <td>NaN</td>\n",
       "      <td>NaN</td>\n",
       "      <td>NaN</td>\n",
       "      <td>NaN</td>\n",
       "      <td>NaN</td>\n",
       "      <td>NaN</td>\n",
       "      <td>BITalino error: The computer lost communicatio...</td>\n",
       "    </tr>\n",
       "    <tr>\n",
       "      <th>2633133</th>\n",
       "      <td>1.580828e+09</td>\n",
       "      <td>NaN</td>\n",
       "      <td>NaN</td>\n",
       "      <td>NaN</td>\n",
       "      <td>NaN</td>\n",
       "      <td>NaN</td>\n",
       "      <td>NaN</td>\n",
       "      <td>NaN</td>\n",
       "      <td>BITalino error: The computer lost communicatio...</td>\n",
       "    </tr>\n",
       "  </tbody>\n",
       "</table>\n",
       "<p>2633134 rows × 9 columns</p>\n",
       "</div>\n",
       "      <button class=\"colab-df-convert\" onclick=\"convertToInteractive('df-fc7c1841-ecde-43b6-a1f4-c87ffc4e8824')\"\n",
       "              title=\"Convert this dataframe to an interactive table.\"\n",
       "              style=\"display:none;\">\n",
       "        \n",
       "  <svg xmlns=\"http://www.w3.org/2000/svg\" height=\"24px\"viewBox=\"0 0 24 24\"\n",
       "       width=\"24px\">\n",
       "    <path d=\"M0 0h24v24H0V0z\" fill=\"none\"/>\n",
       "    <path d=\"M18.56 5.44l.94 2.06.94-2.06 2.06-.94-2.06-.94-.94-2.06-.94 2.06-2.06.94zm-11 1L8.5 8.5l.94-2.06 2.06-.94-2.06-.94L8.5 2.5l-.94 2.06-2.06.94zm10 10l.94 2.06.94-2.06 2.06-.94-2.06-.94-.94-2.06-.94 2.06-2.06.94z\"/><path d=\"M17.41 7.96l-1.37-1.37c-.4-.4-.92-.59-1.43-.59-.52 0-1.04.2-1.43.59L10.3 9.45l-7.72 7.72c-.78.78-.78 2.05 0 2.83L4 21.41c.39.39.9.59 1.41.59.51 0 1.02-.2 1.41-.59l7.78-7.78 2.81-2.81c.8-.78.8-2.07 0-2.86zM5.41 20L4 18.59l7.72-7.72 1.47 1.35L5.41 20z\"/>\n",
       "  </svg>\n",
       "      </button>\n",
       "      \n",
       "  <style>\n",
       "    .colab-df-container {\n",
       "      display:flex;\n",
       "      flex-wrap:wrap;\n",
       "      gap: 12px;\n",
       "    }\n",
       "\n",
       "    .colab-df-convert {\n",
       "      background-color: #E8F0FE;\n",
       "      border: none;\n",
       "      border-radius: 50%;\n",
       "      cursor: pointer;\n",
       "      display: none;\n",
       "      fill: #1967D2;\n",
       "      height: 32px;\n",
       "      padding: 0 0 0 0;\n",
       "      width: 32px;\n",
       "    }\n",
       "\n",
       "    .colab-df-convert:hover {\n",
       "      background-color: #E2EBFA;\n",
       "      box-shadow: 0px 1px 2px rgba(60, 64, 67, 0.3), 0px 1px 3px 1px rgba(60, 64, 67, 0.15);\n",
       "      fill: #174EA6;\n",
       "    }\n",
       "\n",
       "    [theme=dark] .colab-df-convert {\n",
       "      background-color: #3B4455;\n",
       "      fill: #D2E3FC;\n",
       "    }\n",
       "\n",
       "    [theme=dark] .colab-df-convert:hover {\n",
       "      background-color: #434B5C;\n",
       "      box-shadow: 0px 1px 3px 1px rgba(0, 0, 0, 0.15);\n",
       "      filter: drop-shadow(0px 1px 2px rgba(0, 0, 0, 0.3));\n",
       "      fill: #FFFFFF;\n",
       "    }\n",
       "  </style>\n",
       "\n",
       "      <script>\n",
       "        const buttonEl =\n",
       "          document.querySelector('#df-fc7c1841-ecde-43b6-a1f4-c87ffc4e8824 button.colab-df-convert');\n",
       "        buttonEl.style.display =\n",
       "          google.colab.kernel.accessAllowed ? 'block' : 'none';\n",
       "\n",
       "        async function convertToInteractive(key) {\n",
       "          const element = document.querySelector('#df-fc7c1841-ecde-43b6-a1f4-c87ffc4e8824');\n",
       "          const dataTable =\n",
       "            await google.colab.kernel.invokeFunction('convertToInteractive',\n",
       "                                                     [key], {});\n",
       "          if (!dataTable) return;\n",
       "\n",
       "          const docLinkHtml = 'Like what you see? Visit the ' +\n",
       "            '<a target=\"_blank\" href=https://colab.research.google.com/notebooks/data_table.ipynb>data table notebook</a>'\n",
       "            + ' to learn more about interactive tables.';\n",
       "          element.innerHTML = '';\n",
       "          dataTable['output_type'] = 'display_data';\n",
       "          await google.colab.output.renderOutput(dataTable, element);\n",
       "          const docLink = document.createElement('div');\n",
       "          docLink.innerHTML = docLinkHtml;\n",
       "          element.appendChild(docLink);\n",
       "        }\n",
       "      </script>\n",
       "    </div>\n",
       "  </div>\n",
       "  "
      ],
      "text/plain": [
       "            TIMESTAMP  ID COND  IADS_ID  IAPS_ID  ANS_VALENCE  ANS_AROUSAL  \\\n",
       "0        1.580825e+09 NaN  NaN      NaN      NaN          NaN          NaN   \n",
       "1        1.580825e+09 NaN  NaN      NaN      NaN          NaN          NaN   \n",
       "2        1.580825e+09 NaN  NaN      NaN      NaN          NaN          NaN   \n",
       "3        1.580826e+09 NaN  NaN      NaN      NaN          NaN          NaN   \n",
       "4        1.580826e+09 NaN  NaN      NaN      NaN          NaN          NaN   \n",
       "...               ...  ..  ...      ...      ...          ...          ...   \n",
       "2633129  1.580828e+09 NaN  NaN      NaN      NaN          NaN          NaN   \n",
       "2633130  1.580828e+09 NaN  NaN      NaN      NaN          NaN          NaN   \n",
       "2633131  1.580828e+09 NaN  NaN      NaN      NaN          NaN          NaN   \n",
       "2633132  1.580828e+09 NaN  NaN      NaN      NaN          NaN          NaN   \n",
       "2633133  1.580828e+09 NaN  NaN      NaN      NaN          NaN          NaN   \n",
       "\n",
       "         ANS_TIME                                              EVENT  \n",
       "0             NaN                                     BASELINE START  \n",
       "1             NaN                                       BASELINE END  \n",
       "2             NaN                                       INSTRUCTIONS  \n",
       "3             NaN                                     TUTORIAL START  \n",
       "4             NaN  BITalino error: The computer lost communicatio...  \n",
       "...           ...                                                ...  \n",
       "2633129       NaN  BITalino error: The computer lost communicatio...  \n",
       "2633130       NaN  BITalino error: The computer lost communicatio...  \n",
       "2633131       NaN  BITalino error: The computer lost communicatio...  \n",
       "2633132       NaN  BITalino error: The computer lost communicatio...  \n",
       "2633133       NaN  BITalino error: The computer lost communicatio...  \n",
       "\n",
       "[2633134 rows x 9 columns]"
      ]
     },
     "execution_count": 5,
     "metadata": {},
     "output_type": "execute_result"
    }
   ],
   "source": [
    "# let's load the first file\n",
    "procedure_file = pd.read_csv(procedure_files[0], sep=';', na_values='None')\n",
    "# rename the columns to be more pythonic (and to not generate problems later ;) )\n",
    "procedure_file.columns = ['TIMESTAMP', 'ID', 'COND', 'IADS_ID', 'IAPS_ID', 'ANS_VALENCE', 'ANS_AROUSAL', 'ANS_TIME', 'EVENT']\n",
    "# let's see the file\n",
    "procedure_file"
   ]
  },
  {
   "cell_type": "code",
   "execution_count": null,
   "metadata": {
    "id": "q5AqREeuV0MJ"
   },
   "outputs": [],
   "source": [
    ""
   ]
  },
  {
   "cell_type": "markdown",
   "metadata": {
    "id": "8SE5eRQmE_Mb"
   },
   "source": [
    "Meaning of the columns (accrodingly to [the docs](https://doi.org/10.5281/zenodo.3865860)): \n",
    "* `TIMESTAMP` – *not important for us*,\n",
    "* `ID` – subject ID,\n",
    "* `COND` – one of nine conditions (`P+`, `P0`, `P-`, `S+`, `S0`, `S-`, `PS+`, `PS0`, `PS-`) – information about presented stimuli (picture `P` and/or sound `S`) and its affective sign (`+` = positive, `0` = neutral, `-` = negative),\n",
    "* `IADS_ID;IAPS_ID` – *not important for us*,\n",
    "* `ANS_VALENCE;ANS_AROUSAL` – values in `[1; 9]` ranges indicating the point selected by the subject in the Valence-arousal space\n",
    "  * Valence ranges from negative (`1`) via neutral (`5`) to positive (`9`),\n",
    "  * while Arousal ranges from low arousal (`1`) via neutral (`5`) to high arousal (`9`),\n",
    "* `ANS_TIME` – response time (`0` is a moment when widget appeared\n",
    "on the screen); `NaN` indicates that the subject has not made any\n",
    "choice but left the default option,\n",
    "* `EVENT` – *not important for us*.\n"
   ]
  },
  {
   "cell_type": "markdown",
   "metadata": {
    "id": "Jle0HzpnMhvo"
   },
   "source": [
    "Experimental procedure (for more elaborate version, see [the docs](https://doi.org/10.5281/zenodo.3865860)):\n",
    "1. Affective image and/or picture is presented to the subject (for 6 seconds). Stimuli may be positive/negative/neutral (i.e., it should evoke emotions with high/low/middle valence). Information is saved as `COND`.\n",
    "2. Stimuli disappears. The answer widget is presented (2D space with valence and arousal axes as described above) with default answer (valence = 5; arousal = 5).\n",
    "3. There is 6 seconds to move the coursor to other place in the 2D space.\n",
    "4. After 6 seconds the widget disappears. The marked answer is saved in the log (as `ANS_VALENCE;ANS_AROUSAL`). Response time (till the last coursor movement) is saved as `ANS_TIME`.\n",
    "5. There is a break (for 6 seconds) and next stimuli is presented.\n",
    "\n",
    "Other notes:\n",
    "* At the beginning there are some test stimuli - these should **not** be analysed (they are marked as `test` in `COND` column)."
   ]
  },
  {
   "cell_type": "code",
   "execution_count": null,
   "metadata": {
    "id": "oO42T7reS3tq"
   },
   "outputs": [],
   "source": [
    ""
   ]
  },
  {
   "cell_type": "markdown",
   "metadata": {
    "id": "715wFgRgS34o"
   },
   "source": [
    "Before we start, let's contatenate all the procedure files together (so the processing will be easier) and load the metadata file."
   ]
  },
  {
   "cell_type": "code",
   "execution_count": 6,
   "metadata": {
    "id": "mxxbadzYTEX1",
    "colab": {
     "base_uri": "https://localhost:8080/"
    },
    "outputId": "1d0b4c55-db87-4c49-c643-24247d32bbd9"
   },
   "outputs": [
    {
     "name": "stderr",
     "output_type": "stream",
     "text": [
      "/usr/local/lib/python3.7/dist-packages/IPython/core/interactiveshell.py:2882: DtypeWarning: Columns (2) have mixed types.Specify dtype option on import or set low_memory=False.\n",
      "  exec(code_obj, self.user_global_ns, self.user_ns)\n"
     ]
    }
   ],
   "source": [
    "procedure_files_list = []\n",
    "\n",
    "for proc_filename in procedure_files:\n",
    "    # read the file\n",
    "    procedure_file = pd.read_csv(proc_filename, sep=';', na_values='None')\n",
    "    \n",
    "    # change the column names as above\n",
    "    procedure_file.columns = ['TIMESTAMP', 'ID', 'COND', 'IADS_ID', 'IAPS_ID', 'ANS_VALENCE', 'ANS_AROUSAL', 'ANS_TIME', 'EVENT']\n",
    "    \n",
    "    # add the dataframe to the list\n",
    "    procedure_files_list.append(procedure_file)\n",
    "  \n",
    "# concatenation of all files\n",
    "procedure = pd.concat(procedure_files_list, ignore_index=True)"
   ]
  },
  {
   "cell_type": "code",
   "execution_count": 7,
   "metadata": {
    "id": "8-dwYWChTmXz",
    "colab": {
     "base_uri": "https://localhost:8080/",
     "height": 423.0
    },
    "outputId": "d58c0183-f5a9-4e87-c013-c026aa3db04f"
   },
   "outputs": [
    {
     "data": {
      "text/html": [
       "\n",
       "  <div id=\"df-ad1cdec2-b4d5-4628-b6cf-5ad44cde38d9\">\n",
       "    <div class=\"colab-df-container\">\n",
       "      <div>\n",
       "<style scoped>\n",
       "    .dataframe tbody tr th:only-of-type {\n",
       "        vertical-align: middle;\n",
       "    }\n",
       "\n",
       "    .dataframe tbody tr th {\n",
       "        vertical-align: top;\n",
       "    }\n",
       "\n",
       "    .dataframe thead th {\n",
       "        text-align: right;\n",
       "    }\n",
       "</style>\n",
       "<table border=\"1\" class=\"dataframe\">\n",
       "  <thead>\n",
       "    <tr style=\"text-align: right;\">\n",
       "      <th></th>\n",
       "      <th>TIMESTAMP</th>\n",
       "      <th>ID</th>\n",
       "      <th>COND</th>\n",
       "      <th>IADS_ID</th>\n",
       "      <th>IAPS_ID</th>\n",
       "      <th>ANS_VALENCE</th>\n",
       "      <th>ANS_AROUSAL</th>\n",
       "      <th>ANS_TIME</th>\n",
       "      <th>EVENT</th>\n",
       "    </tr>\n",
       "  </thead>\n",
       "  <tbody>\n",
       "    <tr>\n",
       "      <th>0</th>\n",
       "      <td>1.580825e+09</td>\n",
       "      <td>NaN</td>\n",
       "      <td>NaN</td>\n",
       "      <td>NaN</td>\n",
       "      <td>NaN</td>\n",
       "      <td>NaN</td>\n",
       "      <td>NaN</td>\n",
       "      <td>NaN</td>\n",
       "      <td>BASELINE START</td>\n",
       "    </tr>\n",
       "    <tr>\n",
       "      <th>1</th>\n",
       "      <td>1.580825e+09</td>\n",
       "      <td>NaN</td>\n",
       "      <td>NaN</td>\n",
       "      <td>NaN</td>\n",
       "      <td>NaN</td>\n",
       "      <td>NaN</td>\n",
       "      <td>NaN</td>\n",
       "      <td>NaN</td>\n",
       "      <td>BASELINE END</td>\n",
       "    </tr>\n",
       "    <tr>\n",
       "      <th>2</th>\n",
       "      <td>1.580825e+09</td>\n",
       "      <td>NaN</td>\n",
       "      <td>NaN</td>\n",
       "      <td>NaN</td>\n",
       "      <td>NaN</td>\n",
       "      <td>NaN</td>\n",
       "      <td>NaN</td>\n",
       "      <td>NaN</td>\n",
       "      <td>INSTRUCTIONS</td>\n",
       "    </tr>\n",
       "    <tr>\n",
       "      <th>3</th>\n",
       "      <td>1.580826e+09</td>\n",
       "      <td>NaN</td>\n",
       "      <td>NaN</td>\n",
       "      <td>NaN</td>\n",
       "      <td>NaN</td>\n",
       "      <td>NaN</td>\n",
       "      <td>NaN</td>\n",
       "      <td>NaN</td>\n",
       "      <td>TUTORIAL START</td>\n",
       "    </tr>\n",
       "    <tr>\n",
       "      <th>4</th>\n",
       "      <td>1.580826e+09</td>\n",
       "      <td>NaN</td>\n",
       "      <td>NaN</td>\n",
       "      <td>NaN</td>\n",
       "      <td>NaN</td>\n",
       "      <td>NaN</td>\n",
       "      <td>NaN</td>\n",
       "      <td>NaN</td>\n",
       "      <td>BITalino error: The computer lost communicatio...</td>\n",
       "    </tr>\n",
       "    <tr>\n",
       "      <th>...</th>\n",
       "      <td>...</td>\n",
       "      <td>...</td>\n",
       "      <td>...</td>\n",
       "      <td>...</td>\n",
       "      <td>...</td>\n",
       "      <td>...</td>\n",
       "      <td>...</td>\n",
       "      <td>...</td>\n",
       "      <td>...</td>\n",
       "    </tr>\n",
       "    <tr>\n",
       "      <th>13038759</th>\n",
       "      <td>1.580226e+09</td>\n",
       "      <td>NaN</td>\n",
       "      <td>NaN</td>\n",
       "      <td>NaN</td>\n",
       "      <td>NaN</td>\n",
       "      <td>NaN</td>\n",
       "      <td>NaN</td>\n",
       "      <td>NaN</td>\n",
       "      <td>BITalino error: The computer lost communicatio...</td>\n",
       "    </tr>\n",
       "    <tr>\n",
       "      <th>13038760</th>\n",
       "      <td>1.580226e+09</td>\n",
       "      <td>NaN</td>\n",
       "      <td>NaN</td>\n",
       "      <td>NaN</td>\n",
       "      <td>NaN</td>\n",
       "      <td>NaN</td>\n",
       "      <td>NaN</td>\n",
       "      <td>NaN</td>\n",
       "      <td>BITalino error: The computer lost communicatio...</td>\n",
       "    </tr>\n",
       "    <tr>\n",
       "      <th>13038761</th>\n",
       "      <td>1.580226e+09</td>\n",
       "      <td>NaN</td>\n",
       "      <td>NaN</td>\n",
       "      <td>NaN</td>\n",
       "      <td>NaN</td>\n",
       "      <td>NaN</td>\n",
       "      <td>NaN</td>\n",
       "      <td>NaN</td>\n",
       "      <td>BITalino error: The computer lost communicatio...</td>\n",
       "    </tr>\n",
       "    <tr>\n",
       "      <th>13038762</th>\n",
       "      <td>1.580226e+09</td>\n",
       "      <td>NaN</td>\n",
       "      <td>NaN</td>\n",
       "      <td>NaN</td>\n",
       "      <td>NaN</td>\n",
       "      <td>NaN</td>\n",
       "      <td>NaN</td>\n",
       "      <td>NaN</td>\n",
       "      <td>BITalino error: The computer lost communicatio...</td>\n",
       "    </tr>\n",
       "    <tr>\n",
       "      <th>13038763</th>\n",
       "      <td>1.580226e+09</td>\n",
       "      <td>NaN</td>\n",
       "      <td>NaN</td>\n",
       "      <td>NaN</td>\n",
       "      <td>NaN</td>\n",
       "      <td>NaN</td>\n",
       "      <td>NaN</td>\n",
       "      <td>NaN</td>\n",
       "      <td>BITalino error: The computer lost communicatio...</td>\n",
       "    </tr>\n",
       "  </tbody>\n",
       "</table>\n",
       "<p>13038764 rows × 9 columns</p>\n",
       "</div>\n",
       "      <button class=\"colab-df-convert\" onclick=\"convertToInteractive('df-ad1cdec2-b4d5-4628-b6cf-5ad44cde38d9')\"\n",
       "              title=\"Convert this dataframe to an interactive table.\"\n",
       "              style=\"display:none;\">\n",
       "        \n",
       "  <svg xmlns=\"http://www.w3.org/2000/svg\" height=\"24px\"viewBox=\"0 0 24 24\"\n",
       "       width=\"24px\">\n",
       "    <path d=\"M0 0h24v24H0V0z\" fill=\"none\"/>\n",
       "    <path d=\"M18.56 5.44l.94 2.06.94-2.06 2.06-.94-2.06-.94-.94-2.06-.94 2.06-2.06.94zm-11 1L8.5 8.5l.94-2.06 2.06-.94-2.06-.94L8.5 2.5l-.94 2.06-2.06.94zm10 10l.94 2.06.94-2.06 2.06-.94-2.06-.94-.94-2.06-.94 2.06-2.06.94z\"/><path d=\"M17.41 7.96l-1.37-1.37c-.4-.4-.92-.59-1.43-.59-.52 0-1.04.2-1.43.59L10.3 9.45l-7.72 7.72c-.78.78-.78 2.05 0 2.83L4 21.41c.39.39.9.59 1.41.59.51 0 1.02-.2 1.41-.59l7.78-7.78 2.81-2.81c.8-.78.8-2.07 0-2.86zM5.41 20L4 18.59l7.72-7.72 1.47 1.35L5.41 20z\"/>\n",
       "  </svg>\n",
       "      </button>\n",
       "      \n",
       "  <style>\n",
       "    .colab-df-container {\n",
       "      display:flex;\n",
       "      flex-wrap:wrap;\n",
       "      gap: 12px;\n",
       "    }\n",
       "\n",
       "    .colab-df-convert {\n",
       "      background-color: #E8F0FE;\n",
       "      border: none;\n",
       "      border-radius: 50%;\n",
       "      cursor: pointer;\n",
       "      display: none;\n",
       "      fill: #1967D2;\n",
       "      height: 32px;\n",
       "      padding: 0 0 0 0;\n",
       "      width: 32px;\n",
       "    }\n",
       "\n",
       "    .colab-df-convert:hover {\n",
       "      background-color: #E2EBFA;\n",
       "      box-shadow: 0px 1px 2px rgba(60, 64, 67, 0.3), 0px 1px 3px 1px rgba(60, 64, 67, 0.15);\n",
       "      fill: #174EA6;\n",
       "    }\n",
       "\n",
       "    [theme=dark] .colab-df-convert {\n",
       "      background-color: #3B4455;\n",
       "      fill: #D2E3FC;\n",
       "    }\n",
       "\n",
       "    [theme=dark] .colab-df-convert:hover {\n",
       "      background-color: #434B5C;\n",
       "      box-shadow: 0px 1px 3px 1px rgba(0, 0, 0, 0.15);\n",
       "      filter: drop-shadow(0px 1px 2px rgba(0, 0, 0, 0.3));\n",
       "      fill: #FFFFFF;\n",
       "    }\n",
       "  </style>\n",
       "\n",
       "      <script>\n",
       "        const buttonEl =\n",
       "          document.querySelector('#df-ad1cdec2-b4d5-4628-b6cf-5ad44cde38d9 button.colab-df-convert');\n",
       "        buttonEl.style.display =\n",
       "          google.colab.kernel.accessAllowed ? 'block' : 'none';\n",
       "\n",
       "        async function convertToInteractive(key) {\n",
       "          const element = document.querySelector('#df-ad1cdec2-b4d5-4628-b6cf-5ad44cde38d9');\n",
       "          const dataTable =\n",
       "            await google.colab.kernel.invokeFunction('convertToInteractive',\n",
       "                                                     [key], {});\n",
       "          if (!dataTable) return;\n",
       "\n",
       "          const docLinkHtml = 'Like what you see? Visit the ' +\n",
       "            '<a target=\"_blank\" href=https://colab.research.google.com/notebooks/data_table.ipynb>data table notebook</a>'\n",
       "            + ' to learn more about interactive tables.';\n",
       "          element.innerHTML = '';\n",
       "          dataTable['output_type'] = 'display_data';\n",
       "          await google.colab.output.renderOutput(dataTable, element);\n",
       "          const docLink = document.createElement('div');\n",
       "          docLink.innerHTML = docLinkHtml;\n",
       "          element.appendChild(docLink);\n",
       "        }\n",
       "      </script>\n",
       "    </div>\n",
       "  </div>\n",
       "  "
      ],
      "text/plain": [
       "             TIMESTAMP  ID COND  IADS_ID  IAPS_ID  ANS_VALENCE  ANS_AROUSAL  \\\n",
       "0         1.580825e+09 NaN  NaN      NaN      NaN          NaN          NaN   \n",
       "1         1.580825e+09 NaN  NaN      NaN      NaN          NaN          NaN   \n",
       "2         1.580825e+09 NaN  NaN      NaN      NaN          NaN          NaN   \n",
       "3         1.580826e+09 NaN  NaN      NaN      NaN          NaN          NaN   \n",
       "4         1.580826e+09 NaN  NaN      NaN      NaN          NaN          NaN   \n",
       "...                ...  ..  ...      ...      ...          ...          ...   \n",
       "13038759  1.580226e+09 NaN  NaN      NaN      NaN          NaN          NaN   \n",
       "13038760  1.580226e+09 NaN  NaN      NaN      NaN          NaN          NaN   \n",
       "13038761  1.580226e+09 NaN  NaN      NaN      NaN          NaN          NaN   \n",
       "13038762  1.580226e+09 NaN  NaN      NaN      NaN          NaN          NaN   \n",
       "13038763  1.580226e+09 NaN  NaN      NaN      NaN          NaN          NaN   \n",
       "\n",
       "          ANS_TIME                                              EVENT  \n",
       "0              NaN                                     BASELINE START  \n",
       "1              NaN                                       BASELINE END  \n",
       "2              NaN                                       INSTRUCTIONS  \n",
       "3              NaN                                     TUTORIAL START  \n",
       "4              NaN  BITalino error: The computer lost communicatio...  \n",
       "...            ...                                                ...  \n",
       "13038759       NaN  BITalino error: The computer lost communicatio...  \n",
       "13038760       NaN  BITalino error: The computer lost communicatio...  \n",
       "13038761       NaN  BITalino error: The computer lost communicatio...  \n",
       "13038762       NaN  BITalino error: The computer lost communicatio...  \n",
       "13038763       NaN  BITalino error: The computer lost communicatio...  \n",
       "\n",
       "[13038764 rows x 9 columns]"
      ]
     },
     "execution_count": 7,
     "metadata": {},
     "output_type": "execute_result"
    }
   ],
   "source": [
    "# ok, we have loaded more than 13 000 000 records into one DataFrame\n",
    "procedure"
   ]
  },
  {
   "cell_type": "code",
   "execution_count": 8,
   "metadata": {
    "id": "xrYf4hU2Tzp7"
   },
   "outputs": [],
   "source": [
    "# we also have to load the metadata file\n",
    "# we only save the ID, AGE, SEX and Big Five personality traits\n",
    "metadata = pd.read_csv('BIRAFFE2-metadata.csv', sep=';', na_values='None')[['ID', 'AGE', 'SEX', 'OPENNESS', 'CONSCIENTIOUSNESS', 'NEUROTICISM', 'AGREEABLENESS', 'EXTRAVERSION']]"
   ]
  },
  {
   "cell_type": "code",
   "execution_count": 9,
   "metadata": {
    "id": "ZCjGnBnOT9ex",
    "colab": {
     "base_uri": "https://localhost:8080/",
     "height": 423.0
    },
    "outputId": "7c18ce5e-fa23-4539-a1ac-8e8a12b6cb45"
   },
   "outputs": [
    {
     "data": {
      "text/html": [
       "\n",
       "  <div id=\"df-3ed57bc1-bab5-4707-81a9-32bbb6e6ae32\">\n",
       "    <div class=\"colab-df-container\">\n",
       "      <div>\n",
       "<style scoped>\n",
       "    .dataframe tbody tr th:only-of-type {\n",
       "        vertical-align: middle;\n",
       "    }\n",
       "\n",
       "    .dataframe tbody tr th {\n",
       "        vertical-align: top;\n",
       "    }\n",
       "\n",
       "    .dataframe thead th {\n",
       "        text-align: right;\n",
       "    }\n",
       "</style>\n",
       "<table border=\"1\" class=\"dataframe\">\n",
       "  <thead>\n",
       "    <tr style=\"text-align: right;\">\n",
       "      <th></th>\n",
       "      <th>ID</th>\n",
       "      <th>AGE</th>\n",
       "      <th>SEX</th>\n",
       "      <th>OPENNESS</th>\n",
       "      <th>CONSCIENTIOUSNESS</th>\n",
       "      <th>NEUROTICISM</th>\n",
       "      <th>AGREEABLENESS</th>\n",
       "      <th>EXTRAVERSION</th>\n",
       "    </tr>\n",
       "  </thead>\n",
       "  <tbody>\n",
       "    <tr>\n",
       "      <th>0</th>\n",
       "      <td>103</td>\n",
       "      <td>18</td>\n",
       "      <td>M</td>\n",
       "      <td>6</td>\n",
       "      <td>6</td>\n",
       "      <td>2</td>\n",
       "      <td>3</td>\n",
       "      <td>4</td>\n",
       "    </tr>\n",
       "    <tr>\n",
       "      <th>1</th>\n",
       "      <td>119</td>\n",
       "      <td>22</td>\n",
       "      <td>F</td>\n",
       "      <td>6</td>\n",
       "      <td>7</td>\n",
       "      <td>6</td>\n",
       "      <td>2</td>\n",
       "      <td>2</td>\n",
       "    </tr>\n",
       "    <tr>\n",
       "      <th>2</th>\n",
       "      <td>120</td>\n",
       "      <td>21</td>\n",
       "      <td>F</td>\n",
       "      <td>1</td>\n",
       "      <td>2</td>\n",
       "      <td>2</td>\n",
       "      <td>2</td>\n",
       "      <td>2</td>\n",
       "    </tr>\n",
       "    <tr>\n",
       "      <th>3</th>\n",
       "      <td>136</td>\n",
       "      <td>22</td>\n",
       "      <td>F</td>\n",
       "      <td>7</td>\n",
       "      <td>3</td>\n",
       "      <td>8</td>\n",
       "      <td>5</td>\n",
       "      <td>10</td>\n",
       "    </tr>\n",
       "    <tr>\n",
       "      <th>4</th>\n",
       "      <td>141</td>\n",
       "      <td>21</td>\n",
       "      <td>M</td>\n",
       "      <td>3</td>\n",
       "      <td>1</td>\n",
       "      <td>7</td>\n",
       "      <td>5</td>\n",
       "      <td>4</td>\n",
       "    </tr>\n",
       "    <tr>\n",
       "      <th>...</th>\n",
       "      <td>...</td>\n",
       "      <td>...</td>\n",
       "      <td>...</td>\n",
       "      <td>...</td>\n",
       "      <td>...</td>\n",
       "      <td>...</td>\n",
       "      <td>...</td>\n",
       "      <td>...</td>\n",
       "    </tr>\n",
       "    <tr>\n",
       "      <th>98</th>\n",
       "      <td>948</td>\n",
       "      <td>23</td>\n",
       "      <td>F</td>\n",
       "      <td>7</td>\n",
       "      <td>10</td>\n",
       "      <td>1</td>\n",
       "      <td>3</td>\n",
       "      <td>7</td>\n",
       "    </tr>\n",
       "    <tr>\n",
       "      <th>99</th>\n",
       "      <td>959</td>\n",
       "      <td>21</td>\n",
       "      <td>M</td>\n",
       "      <td>8</td>\n",
       "      <td>7</td>\n",
       "      <td>2</td>\n",
       "      <td>8</td>\n",
       "      <td>4</td>\n",
       "    </tr>\n",
       "    <tr>\n",
       "      <th>100</th>\n",
       "      <td>969</td>\n",
       "      <td>21</td>\n",
       "      <td>M</td>\n",
       "      <td>3</td>\n",
       "      <td>8</td>\n",
       "      <td>6</td>\n",
       "      <td>1</td>\n",
       "      <td>5</td>\n",
       "    </tr>\n",
       "    <tr>\n",
       "      <th>101</th>\n",
       "      <td>977</td>\n",
       "      <td>20</td>\n",
       "      <td>F</td>\n",
       "      <td>6</td>\n",
       "      <td>7</td>\n",
       "      <td>2</td>\n",
       "      <td>7</td>\n",
       "      <td>8</td>\n",
       "    </tr>\n",
       "    <tr>\n",
       "      <th>102</th>\n",
       "      <td>997</td>\n",
       "      <td>21</td>\n",
       "      <td>M</td>\n",
       "      <td>1</td>\n",
       "      <td>3</td>\n",
       "      <td>7</td>\n",
       "      <td>4</td>\n",
       "      <td>1</td>\n",
       "    </tr>\n",
       "  </tbody>\n",
       "</table>\n",
       "<p>103 rows × 8 columns</p>\n",
       "</div>\n",
       "      <button class=\"colab-df-convert\" onclick=\"convertToInteractive('df-3ed57bc1-bab5-4707-81a9-32bbb6e6ae32')\"\n",
       "              title=\"Convert this dataframe to an interactive table.\"\n",
       "              style=\"display:none;\">\n",
       "        \n",
       "  <svg xmlns=\"http://www.w3.org/2000/svg\" height=\"24px\"viewBox=\"0 0 24 24\"\n",
       "       width=\"24px\">\n",
       "    <path d=\"M0 0h24v24H0V0z\" fill=\"none\"/>\n",
       "    <path d=\"M18.56 5.44l.94 2.06.94-2.06 2.06-.94-2.06-.94-.94-2.06-.94 2.06-2.06.94zm-11 1L8.5 8.5l.94-2.06 2.06-.94-2.06-.94L8.5 2.5l-.94 2.06-2.06.94zm10 10l.94 2.06.94-2.06 2.06-.94-2.06-.94-.94-2.06-.94 2.06-2.06.94z\"/><path d=\"M17.41 7.96l-1.37-1.37c-.4-.4-.92-.59-1.43-.59-.52 0-1.04.2-1.43.59L10.3 9.45l-7.72 7.72c-.78.78-.78 2.05 0 2.83L4 21.41c.39.39.9.59 1.41.59.51 0 1.02-.2 1.41-.59l7.78-7.78 2.81-2.81c.8-.78.8-2.07 0-2.86zM5.41 20L4 18.59l7.72-7.72 1.47 1.35L5.41 20z\"/>\n",
       "  </svg>\n",
       "      </button>\n",
       "      \n",
       "  <style>\n",
       "    .colab-df-container {\n",
       "      display:flex;\n",
       "      flex-wrap:wrap;\n",
       "      gap: 12px;\n",
       "    }\n",
       "\n",
       "    .colab-df-convert {\n",
       "      background-color: #E8F0FE;\n",
       "      border: none;\n",
       "      border-radius: 50%;\n",
       "      cursor: pointer;\n",
       "      display: none;\n",
       "      fill: #1967D2;\n",
       "      height: 32px;\n",
       "      padding: 0 0 0 0;\n",
       "      width: 32px;\n",
       "    }\n",
       "\n",
       "    .colab-df-convert:hover {\n",
       "      background-color: #E2EBFA;\n",
       "      box-shadow: 0px 1px 2px rgba(60, 64, 67, 0.3), 0px 1px 3px 1px rgba(60, 64, 67, 0.15);\n",
       "      fill: #174EA6;\n",
       "    }\n",
       "\n",
       "    [theme=dark] .colab-df-convert {\n",
       "      background-color: #3B4455;\n",
       "      fill: #D2E3FC;\n",
       "    }\n",
       "\n",
       "    [theme=dark] .colab-df-convert:hover {\n",
       "      background-color: #434B5C;\n",
       "      box-shadow: 0px 1px 3px 1px rgba(0, 0, 0, 0.15);\n",
       "      filter: drop-shadow(0px 1px 2px rgba(0, 0, 0, 0.3));\n",
       "      fill: #FFFFFF;\n",
       "    }\n",
       "  </style>\n",
       "\n",
       "      <script>\n",
       "        const buttonEl =\n",
       "          document.querySelector('#df-3ed57bc1-bab5-4707-81a9-32bbb6e6ae32 button.colab-df-convert');\n",
       "        buttonEl.style.display =\n",
       "          google.colab.kernel.accessAllowed ? 'block' : 'none';\n",
       "\n",
       "        async function convertToInteractive(key) {\n",
       "          const element = document.querySelector('#df-3ed57bc1-bab5-4707-81a9-32bbb6e6ae32');\n",
       "          const dataTable =\n",
       "            await google.colab.kernel.invokeFunction('convertToInteractive',\n",
       "                                                     [key], {});\n",
       "          if (!dataTable) return;\n",
       "\n",
       "          const docLinkHtml = 'Like what you see? Visit the ' +\n",
       "            '<a target=\"_blank\" href=https://colab.research.google.com/notebooks/data_table.ipynb>data table notebook</a>'\n",
       "            + ' to learn more about interactive tables.';\n",
       "          element.innerHTML = '';\n",
       "          dataTable['output_type'] = 'display_data';\n",
       "          await google.colab.output.renderOutput(dataTable, element);\n",
       "          const docLink = document.createElement('div');\n",
       "          docLink.innerHTML = docLinkHtml;\n",
       "          element.appendChild(docLink);\n",
       "        }\n",
       "      </script>\n",
       "    </div>\n",
       "  </div>\n",
       "  "
      ],
      "text/plain": [
       "      ID  AGE SEX  OPENNESS  CONSCIENTIOUSNESS  NEUROTICISM  AGREEABLENESS  \\\n",
       "0    103   18   M         6                  6            2              3   \n",
       "1    119   22   F         6                  7            6              2   \n",
       "2    120   21   F         1                  2            2              2   \n",
       "3    136   22   F         7                  3            8              5   \n",
       "4    141   21   M         3                  1            7              5   \n",
       "..   ...  ...  ..       ...                ...          ...            ...   \n",
       "98   948   23   F         7                 10            1              3   \n",
       "99   959   21   M         8                  7            2              8   \n",
       "100  969   21   M         3                  8            6              1   \n",
       "101  977   20   F         6                  7            2              7   \n",
       "102  997   21   M         1                  3            7              4   \n",
       "\n",
       "     EXTRAVERSION  \n",
       "0               4  \n",
       "1               2  \n",
       "2               2  \n",
       "3              10  \n",
       "4               4  \n",
       "..            ...  \n",
       "98              7  \n",
       "99              4  \n",
       "100             5  \n",
       "101             8  \n",
       "102             1  \n",
       "\n",
       "[103 rows x 8 columns]"
      ]
     },
     "execution_count": 9,
     "metadata": {},
     "output_type": "execute_result"
    }
   ],
   "source": [
    "# Here you can see the Big Five personality traits in [1,10] range; they can be interpreted as low (1-3), medium (4-6) and high (7-10) values\n",
    "metadata"
   ]
  },
  {
   "cell_type": "code",
   "execution_count": 9,
   "metadata": {
    "id": "NsvBCURCZcBn"
   },
   "outputs": [],
   "source": [
    ""
   ]
  },
  {
   "cell_type": "markdown",
   "metadata": {
    "id": "x0vNTo3AZa3F"
   },
   "source": [
    "### Descriptive statistics\n",
    "\n",
    "The dataset is loaded into two [DataFrames](https://pandas.pydata.org/docs/reference/api/pandas.DataFrame.html): `metadata` and `procedure`.\n",
    "\n",
    "Let's start with some basic stats!\n",
    "\n",
    "**Task 1**. Calculate the following values (you can use methods from [`pandas`](https://pandas.pydata.org/docs/index.html), [`statistics`](https://docs.python.org/3/library/statistics.html), [`scipy.stats`](https://docs.scipy.org/doc/scipy/reference/stats.html) or any other libraries):\n",
    "* minimum and maximum of subject's `age`\n",
    "* mean and median of subject's `age`\n",
    "* standard deviation of subject's `age`\n",
    "\n",
    "*(check also [`pd.DataFrame.describe()`](https://pandas.pydata.org/pandas-docs/stable/reference/api/pandas.DataFrame.describe.html))*"
   ]
  },
  {
   "cell_type": "code",
   "execution_count": null,
   "metadata": {
    "id": "6mwwJeBGiXdI"
   },
   "outputs": [],
   "source": [
    "# _FILL_IN_YOUR_CODE_HERE"
   ]
  },
  {
   "cell_type": "code",
   "execution_count": 26,
   "metadata": {
    "id": "CGA9X90ReoaC",
    "colab": {
     "base_uri": "https://localhost:8080/"
    },
    "outputId": "d959ec28-7460-4780-e6b9-f0dec8296395"
   },
   "outputs": [
    {
     "name": "stdout",
     "output_type": "stream",
     "text": [
      "Opis tabelki metadata\n",
      "\n",
      "Opis tabelki procedure\n"
     ]
    },
    {
     "name": "stderr",
     "output_type": "stream",
     "text": [
      "/usr/local/lib/python3.7/dist-packages/ipykernel_launcher.py:7: FutureWarning: Dropping of nuisance columns in DataFrame reductions (with 'numeric_only=None') is deprecated; in a future version this will raise TypeError.  Select only valid columns before calling the reduction.\n",
      "  import sys\n",
      "/usr/local/lib/python3.7/dist-packages/ipykernel_launcher.py:8: FutureWarning: Dropping of nuisance columns in DataFrame reductions (with 'numeric_only=None') is deprecated; in a future version this will raise TypeError.  Select only valid columns before calling the reduction.\n",
      "  \n",
      "/usr/local/lib/python3.7/dist-packages/ipykernel_launcher.py:9: FutureWarning: Dropping of nuisance columns in DataFrame reductions (with 'numeric_only=None') is deprecated; in a future version this will raise TypeError.  Select only valid columns before calling the reduction.\n",
      "  if __name__ == '__main__':\n",
      "/usr/local/lib/python3.7/dist-packages/ipykernel_launcher.py:19: FutureWarning: Dropping of nuisance columns in DataFrame reductions (with 'numeric_only=None') is deprecated; in a future version this will raise TypeError.  Select only valid columns before calling the reduction.\n"
     ]
    },
    {
     "name": "stdout",
     "output_type": "stream",
     "text": [
      "TIMESTAMP            1581095573.81362\n",
      "ID                              997.0\n",
      "COND                               S0\n",
      "IADS_ID                         820.0\n",
      "IAPS_ID                        9930.0\n",
      "ANS_VALENCE                       9.0\n",
      "ANS_AROUSAL                       9.0\n",
      "ANS_TIME                        9.333\n",
      "EVENT                            None\n",
      "AGE                                26\n",
      "SEX                                 M\n",
      "OPENNESS                           10\n",
      "CONSCIENTIOUSNESS                  10\n",
      "NEUROTICISM                        10\n",
      "AGREEABLENESS                      10\n",
      "EXTRAVERSION                       10\n",
      "dtype: object\n"
     ]
    },
    {
     "name": "stderr",
     "output_type": "stream",
     "text": [
      "/usr/local/lib/python3.7/dist-packages/ipykernel_launcher.py:20: FutureWarning: Dropping of nuisance columns in DataFrame reductions (with 'numeric_only=None') is deprecated; in a future version this will raise TypeError.  Select only valid columns before calling the reduction.\n",
      "/usr/local/lib/python3.7/dist-packages/ipykernel_launcher.py:21: FutureWarning: Dropping of nuisance columns in DataFrame reductions (with 'numeric_only=None') is deprecated; in a future version this will raise TypeError.  Select only valid columns before calling the reduction.\n"
     ]
    }
   ],
   "source": [
    "\n",
    "# Odpowiedz 1: Statystyka opisowa\n",
    "print(\"Opis tabelki metadata\")\n",
    "metadata.describe(include='all')\n",
    "metadata.max(skipna=True, level=None, numeric_only=None)         #max\n",
    "metadata.min(skipna=True, level=None, numeric_only=None)         #min\n",
    "metadata.mean(skipna=True, level=None, numeric_only=None)        #srednia\n",
    "metadata.median(skipna=True, level=None, numeric_only=None)      #mediana\n",
    "metadata.std(skipna=True, level=None, numeric_only=None)         #odchylenie standardowe\n",
    "                                                                  #  ddof=1 : oznacza stopnie swobody\n",
    "\n",
    "\n",
    "print()\n",
    "print(\"Opis tabelki procedure\")\n",
    "\n",
    "procedure.describe()\n",
    "procedure.max(skipna=True, level=None, numeric_only=None)\n",
    "procedure.min(skipna=True, level=None, numeric_only=None)                            #min\n",
    "procedure.mean(skipna=True, level=None, numeric_only=None)                           #srednia\n",
    "procedure.median(skipna=True, level=None, numeric_only=None)                         #mediana\n",
    "procedure.std(skipna=True, level=None, ddof=1, numeric_only=None)         #odchylenie standardowe\n"
   ]
  },
  {
   "cell_type": "markdown",
   "metadata": {
    "id": "QOkdEAVjip-i"
   },
   "source": [
    "### Some plots\n",
    "\n",
    "A standard way to get familiar with the data is to plot it! Our data consists of valence and arousal scores which forms 2D space. Let's plot the data to see whether there is something interesting.\n",
    "\n",
    "**Task 2**: prepare the plots:\n",
    "1. of all valence and arousal scores,\n",
    "2. of valence and arousal answers per each of nine conditions.\n",
    "\n",
    "Note 1: ignore the rows with `NaN` values in `COND`, `ANS-VALENCE`, `ANS-AROUSAL` columns.  \n",
    "Note 2: to select rows related to specific condition(s) you can use:  \n",
    "`new_dataframe = procedure[(procedure['COND'] == 'P+') | (procedure['COND'] == 'S+')]`  \n",
    "Note 3: to select only one column, you can use: \n",
    "`column = procedure['COND']`"
   ]
  },
  {
   "cell_type": "code",
   "execution_count": null,
   "metadata": {
    "id": "2lTHZNeujkSv"
   },
   "outputs": [],
   "source": [
    "# _FILL_IN_YOUR_CODE_HERE "
   ]
  },
  {
   "cell_type": "code",
   "execution_count": 11,
   "metadata": {
    "id": "ru7LlMkmwZSO",
    "colab": {
     "base_uri": "https://localhost:8080/",
     "height": 298.0
    },
    "outputId": "bcca2db5-1988-46c1-8afc-fbb02d6466bf"
   },
   "outputs": [
    {
     "name": "stdout",
     "output_type": "stream",
     "text": [
      "\n"
     ]
    },
    {
     "data": {
      "image/png": "[encoded data removed]",
      "text/plain": [
       "<Figure size 432x288 with 1 Axes>"
      ]
     },
     "metadata": {
      "needs_background": "light"
     },
     "output_type": "display_data"
    }
   ],
   "source": [
    "\n",
    "\n",
    "import numpy as np\n",
    "import pandas as pd\n",
    "\n",
    "dane_wykresu2 = procedure[['ANS_AROUSAL', 'ANS_VALENCE']]\n",
    "\n",
    "dane_wykresu3 = procedure[['ANS_AROUSAL','ANS_VALENCE','COND']]\n",
    "\n",
    "np.random.seed(0)\n",
    "df = pd.DataFrame(dane_wykresu2, columns=['ANS_AROUSAL', 'ANS_VALENCE'])\n",
    "\n",
    "df1 = df.dropna()   #dropna() - odrzuca wszystkie wiersze z NaN\n",
    "df1\n",
    "#df1.stack().hist()  #prosty histogram na stosie\n",
    "\n",
    "dane = pd.DataFrame(dane_wykresu3,columns=['ANS_AROUSAL','ANS_VALENCE','COND'])\n",
    "dane =dane.dropna()\n",
    "\n",
    "\n",
    "import matplotlib.pyplot as plt\n",
    "import seaborn as sns\n",
    "\n",
    "\n",
    "#ax = sns.boxplot(x='ANS_VALENCE', y='ANS_AROUSAL',data=dane)\n",
    "\n",
    "\n",
    "# wykres ANS_AROUSAL\n",
    "ax = sns.boxplot(x='ANS_AROUSAL', y='COND', data=dane, color='#99c2a2')\n",
    "\n",
    "print()\n",
    "#wykres ANS_VALENCE\n",
    "#ax = sns.catplot(x='ANS_VALENCE', y='COND',kind=\"boxen\", data=dane, color='#99c2a2')\n",
    "\n",
    "\n",
    "\n"
   ]
  },
  {
   "cell_type": "markdown",
   "metadata": {
    "id": "jglgUUTbj4z-"
   },
   "source": [
    "### Student's t-test and Wilcoxon signed-rank test\n",
    "\n",
    "As you probably noticed (on the plots), it seems that the **valence** scores are much lower for `-` condition (`P-`, `S-`, `PS-`) than for neutral one (`P0`, `S0`, `PS0`), and much higher for `+` condition (`P+`, `S+`, `PS+`) than for neutral one.\n",
    "\n",
    "We will examine this in a moment, but first we need to clarify the key concepts...\n",
    "\n",
    "**Task 3**: Taking the above situation as an example (verifying if the valence is lower in the `-` condition than in the neutral group), describe (in a few words) what are **Null hypothesis** and **Alternative hypothesis**"
   ]
  },
  {
   "cell_type": "markdown",
   "metadata": {
    "id": "hyayOSPmofnm"
   },
   "source": [
    "`_FILL_IN_YOUR_ANSWERS_HERE`"
   ]
  },
  {
   "cell_type": "code",
   "execution_count": 9,
   "metadata": {
    "id": "tT4j_fKdomyG"
   },
   "outputs": [],
   "source": [
    ""
   ]
  },
  {
   "cell_type": "markdown",
   "metadata": {
    "id": "NT4sBauEopFn"
   },
   "source": [
    "**Task 4:** Verify whether the differences mentioned do indeed exist. To do so, perform two t-tests (`-` vs `0` and `+` vs `0`).\n",
    "\n",
    "Note: use the test for related samples (as the results for both conditions are from the same subjects group) not the independent ones! (e.g., [`scipy.stats.ttest_rel()`](https://docs.scipy.org/doc/scipy/reference/generated/scipy.stats.ttest_rel.html)) "
   ]
  },
  {
   "cell_type": "code",
   "execution_count": 12,
   "metadata": {
    "id": "Kwh8depkonyt",
    "colab": {
     "base_uri": "https://localhost:8080/"
    },
    "outputId": "ed3ca575-0bac-49b8-9275-2d29b2fd9c61"
   },
   "outputs": [
    {
     "name": "stdout",
     "output_type": "stream",
     "text": [
      "stat=48.935, p=0.000\n",
      "Prawdopodobnie inne rozklady\n",
      "stat=-51.490, p=0.000\n",
      "Prawdopodobnie inne rozklady\n"
     ]
    }
   ],
   "source": [
    "\n",
    "\n",
    "import scipy\n",
    "mask = dane['COND'].isin(['P+','P0'])\n",
    "dane.loc[mask, ['ANS_AROUSAL','ANS_VALENCE','COND']]\n",
    "\n",
    "data1 = dane[dane['COND']=='P+'].ANS_VALENCE\n",
    "data2 = dane[dane['COND']=='P0'].ANS_VALENCE  # wybieram pojedyncza kolumne\n",
    "\n",
    "\n",
    "mask = dane['COND'].isin(['S+','S0','PS+','P+','PS0','S0'])\n",
    "dane.loc[mask, ['ANS_AROUSAL','ANS_VALENCE','COND']]\n",
    "\n",
    "data1 = dane[(dane['COND']=='P+') | (dane['COND']=='S+') | (dane['COND']=='PS+')].ANS_VALENCE\n",
    "data2 = dane[(dane['COND']=='P0') | (dane['COND']=='S0') | (dane['COND']=='PS0')].ANS_VALENCE  # wybieram pojedyncza kolumne\n",
    "\n",
    "\n",
    "mask = dane['COND'].isin(['S-','S0','PS-','P-','PS0','S0'])\n",
    "dane.loc[mask, ['ANS_AROUSAL','ANS_VALENCE','COND']]\n",
    "\n",
    "data3 = dane[(dane['COND']=='P-') | (dane['COND']=='S-') | (dane['COND']=='PS-')].ANS_VALENCE\n",
    "data4 = dane[(dane['COND']=='P0') | (dane['COND']=='S0') | (dane['COND']=='PS0')].ANS_VALENCE  # wybieram pojedyncza kolumne\n",
    "\n",
    "\n",
    "lista3=data3.values.tolist()\n",
    "lista4=data4.values.tolist()\n",
    "\n",
    "\n",
    "lista1=data1.values.tolist()\n",
    "lista2=data2.values.tolist()\n",
    "\n",
    "import statistics as st\n",
    "def make_equal(lista1, lista2):\n",
    "    # jesli dlugosci list danych sa rozne\n",
    "  if len(lista1) != len(lista2):  \n",
    "      # Dodaj srednie wartosci do krotszej listy zeby proby danych byly takie same\n",
    "      if len(lista1) > len(lista2):\n",
    "          mean_width = st.mean(lista2)\n",
    "          lista2 += (len(lista1)-len(lista2)) * [mean_width]\n",
    "\n",
    "      elif len(lista1) < len(lista2):\n",
    "          mean_length = st.mean(lista1)\n",
    "          lista1 += (len(lista2)-len(lista1)) * [mean_length]\n",
    "\n",
    "make_equal(lista1, lista2)\n",
    "make_equal(lista3, lista4)\n",
    "\n",
    "stat, p = scipy.stats.ttest_rel(lista1, lista2)\n",
    "# plus z zerem\n",
    "print('stat=%.3f, p=%.3f' % (stat, p))\n",
    "if p > 0.05:\n",
    "\tprint('Prawdopodobnie ten sam rozklad')\n",
    "else:\n",
    "\tprint('Prawdopodobnie inne rozklady')\n",
    "\n",
    "\n",
    "# minus z zerem\n",
    "stat, p = scipy.stats.ttest_rel(lista3, lista4)\n",
    "\n",
    "print('stat=%.3f, p=%.3f' % (stat, p))\n",
    "if p > 0.05:\n",
    "\tprint('Prawdopodobnie ten sam rozklad')\n",
    "else:\n",
    "\tprint('Prawdopodobnie inne rozklady')\n",
    "\n",
    "\n",
    "\n"
   ]
  },
  {
   "cell_type": "code",
   "execution_count": 13,
   "metadata": {
    "id": "WElKZLU7tgEV",
    "colab": {
     "base_uri": "https://localhost:8080/"
    },
    "outputId": "755dcd96-0d70-4f81-a8d5-5185372410f4"
   },
   "outputs": [
    {
     "name": "stdout",
     "output_type": "stream",
     "text": [
      "p value:0.0000\n",
      "Odrzuc hipoteze zerowa >> Dane nie maja rozkladu normalnego\n",
      "p value:0.0000\n",
      "Odrzuc hipoteze zerowa >> Dane nie maja rozkladu normalnego\n",
      "p value:0.0000\n",
      "Odrzuc hipoteze zerowa >> Dane nie maja rozkladu normalnego\n",
      "p value:0.0000\n",
      "Odrzuc hipoteze zerowa >> Dane nie maja rozkladu normalnego\n"
     ]
    }
   ],
   "source": [
    "#Sprawdzamy tabele z wartosciami - czy mozna dostrzec rozklad normalny - Gaussa\n",
    "#Czyli sprawdzamy zalozenia dla testu t\n",
    "\n",
    "def check_normality(data):\n",
    "    test_stat_normality, p_value_normality=stats.shapiro(data)\n",
    "    print(\"p value:%.4f\" % p_value_normality)\n",
    "    if p_value_normality <0.05:\n",
    "        print(\"Odrzuc hipoteze zerowa >> Dane nie maja rozkladu normalnego\")\n",
    "    else:\n",
    "        print(\"Nie udalo odrzucic sie hipotezy zerowej >> Dane maja rozklad normalny\")\n",
    "\n",
    "\n",
    "\n",
    "\n",
    "\n",
    "check_normality(lista1)\n",
    "check_normality(lista2)\n",
    "check_normality(lista3)\n",
    "check_normality(lista4)\n",
    "\n"
   ]
  },
  {
   "cell_type": "markdown",
   "metadata": {
    "id": "pLC9SXf1xfOE"
   },
   "source": [
    "**Task 5**: But... Did you remember to check the assumptions of the t-test? You can use the Shapiro-Wilks Test to check the normality of the sample ([`scipy.stats.shapiro()`](https://docs.scipy.org/doc/scipy/reference/generated/scipy.stats.shapiro.html))."
   ]
  },
  {
   "cell_type": "markdown",
   "metadata": {
    "id": "jt763p7XxqbL"
   },
   "source": [
    "![paranormal.jpg](data:image/jpeg;base64,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)\n",
    "\n",
    "*([source](https://www.ncbi.nlm.nih.gov/pmc/articles/PMC2465539/))*"
   ]
  },
  {
   "cell_type": "markdown",
   "metadata": {
    "id": "j3w70lWCbYah"
   },
   "source": [
    "*Note: We test the normality of the distribution here to emphasise that it is important to **check the assumptions** of each test we perform.*\n",
    "\n",
    "*In real life situations, checking the normality of the distribution before the t-test is not really necessary. Check [the slides](https://www.researchgate.net/publication/299497976_Silly_or_Pointless_Things_People_Do_When_Analyzing_Data_1_Testing_for_Normality_as_a_Precursor_to_a_t-test) for more details.*"
   ]
  },
  {
   "cell_type": "code",
   "execution_count": 11,
   "metadata": {
    "id": "eYWqzI6UxnFr"
   },
   "outputs": [],
   "source": [
    "# _FILL_IN_YOUR_CODE_HERE \n"
   ]
  },
  {
   "cell_type": "code",
   "execution_count": 11,
   "metadata": {
    "id": "hkR0yQByEdCt"
   },
   "outputs": [],
   "source": [
    ""
   ]
  },
  {
   "cell_type": "markdown",
   "metadata": {
    "id": "hJMjuth5FP1j"
   },
   "source": [
    "Oh... The p-value is smaller than 0.05, so the data was **not** drawn from a normal distribution, and we cannot use the t-test...\n",
    "\n",
    "But we can use the **non-parametric** test instead: the Wilcoxon signed-rank test ([`scipy.stats.wilcoxon()`](https://docs.scipy.org/doc/scipy/reference/generated/scipy.stats.wilcoxon.html)).  \n",
    "*(Do you know what the **non-parametric** means?)*\n",
    "\n",
    "Note: when the samples are **independent**, the proper non-parametric test is the Mann-Whitney U rank test ([`scipy.stats.mannwhitneyu`](https://docs.scipy.org/doc/scipy/reference/generated/scipy.stats.mannwhitneyu.html)).\n",
    "\n",
    "**Task 6**: perform the Wilcoxon test to evaluate the differences in valence scores - now the results will be realible, so you can finally state whether there are differences or not!"
   ]
  },
  {
   "cell_type": "code",
   "execution_count": null,
   "metadata": {
    "id": "W5B6oC44GxZv"
   },
   "outputs": [],
   "source": [
    "# _FILL_IN_YOUR_CODE_HERE \n",
    "# AND STATE WHETHER THERE ARE SIGNIFICANT DIFFERENCES OR NOT :)\n"
   ]
  },
  {
   "cell_type": "code",
   "execution_count": 14,
   "metadata": {
    "id": "YZkEBp-7G_4s",
    "colab": {
     "base_uri": "https://localhost:8080/"
    },
    "outputId": "e86c1dd3-4a18-4acc-8ea8-886826fad3b0"
   },
   "outputs": [
    {
     "name": "stdout",
     "output_type": "stream",
     "text": [
      "stat=822319.000, p=0.000\n",
      "Inne rozklady \n",
      "stat=704996.000, p=0.000\n",
      "Inne rozklady \n"
     ]
    }
   ],
   "source": [
    "from scipy.stats import wilcoxon\n",
    "def wilcoxon_test(lista1, lista2):\n",
    "  stat, p = wilcoxon(lista1, lista2)\n",
    "  print('stat=%.3f, p=%.3f' % (stat, p))\n",
    "  if p > 0.05:\n",
    "    print('Ten sam rozklad ')\n",
    "  else:\n",
    "    print('Inne rozklady ')\n",
    "\n",
    "\n",
    "wilcoxon_test(lista1, lista2)\n",
    "\n",
    "\n",
    "\n",
    "wilcoxon_test(lista3, lista4)\n"
   ]
  },
  {
   "cell_type": "markdown",
   "metadata": {
    "id": "XpLD3UqDH2RA"
   },
   "source": [
    "### ANOVA\n",
    "\n",
    "Hooray! There are significant differences between `+`/`-` and `0` conditions!  \n",
    "\n",
    "But analyses of our data are not limited to such simple differences. In our dataset we also has the personality profile (represented as five variables in `metadata`). How do they impact our dependent variables (`ANS-VALENCE` and `ANS-AROUSAL`)?"
   ]
  },
  {
   "cell_type": "markdown",
   "metadata": {
    "id": "939s6dC1QC3K"
   },
   "source": [
    "First, we need to combine these variables into our `procedure` dataset:"
   ]
  },
  {
   "cell_type": "code",
   "execution_count": 15,
   "metadata": {
    "id": "0mC-8eV-Qi_a"
   },
   "outputs": [],
   "source": [
    "# to speed-up the process, you can remove the rows without the ANS values...\n",
    "procedure = procedure[procedure['ANS_VALENCE'].notnull()]\n",
    "# ... and training-related rows\n",
    "procedure = procedure[procedure['COND'] != 'train']"
   ]
  },
  {
   "cell_type": "code",
   "execution_count": 16,
   "metadata": {
    "id": "cm4thSP4QvZx"
   },
   "outputs": [],
   "source": [
    "procedure = pd.merge(procedure, metadata, how=\"left\", on=\"ID\")"
   ]
  },
  {
   "cell_type": "code",
   "execution_count": 17,
   "metadata": {
    "id": "3b3GLu3aoxxS",
    "colab": {
     "base_uri": "https://localhost:8080/",
     "height": 270.0
    },
    "outputId": "cf107e86-8385-4d75-8305-7c2602511598"
   },
   "outputs": [
    {
     "data": {
      "text/html": [
       "\n",
       "  <div id=\"df-747d4b2a-3ab3-4713-bdff-f970cb39dbfb\">\n",
       "    <div class=\"colab-df-container\">\n",
       "      <div>\n",
       "<style scoped>\n",
       "    .dataframe tbody tr th:only-of-type {\n",
       "        vertical-align: middle;\n",
       "    }\n",
       "\n",
       "    .dataframe tbody tr th {\n",
       "        vertical-align: top;\n",
       "    }\n",
       "\n",
       "    .dataframe thead th {\n",
       "        text-align: right;\n",
       "    }\n",
       "</style>\n",
       "<table border=\"1\" class=\"dataframe\">\n",
       "  <thead>\n",
       "    <tr style=\"text-align: right;\">\n",
       "      <th></th>\n",
       "      <th>TIMESTAMP</th>\n",
       "      <th>ID</th>\n",
       "      <th>COND</th>\n",
       "      <th>IADS_ID</th>\n",
       "      <th>IAPS_ID</th>\n",
       "      <th>ANS_VALENCE</th>\n",
       "      <th>ANS_AROUSAL</th>\n",
       "      <th>ANS_TIME</th>\n",
       "      <th>EVENT</th>\n",
       "      <th>AGE</th>\n",
       "      <th>SEX</th>\n",
       "      <th>OPENNESS</th>\n",
       "      <th>CONSCIENTIOUSNESS</th>\n",
       "      <th>NEUROTICISM</th>\n",
       "      <th>AGREEABLENESS</th>\n",
       "      <th>EXTRAVERSION</th>\n",
       "    </tr>\n",
       "  </thead>\n",
       "  <tbody>\n",
       "    <tr>\n",
       "      <th>0</th>\n",
       "      <td>1.580826e+09</td>\n",
       "      <td>431.0</td>\n",
       "      <td>P-</td>\n",
       "      <td>NaN</td>\n",
       "      <td>3062.0</td>\n",
       "      <td>2.599</td>\n",
       "      <td>2.378</td>\n",
       "      <td>3.617</td>\n",
       "      <td>NaN</td>\n",
       "      <td>22</td>\n",
       "      <td>F</td>\n",
       "      <td>1</td>\n",
       "      <td>1</td>\n",
       "      <td>8</td>\n",
       "      <td>8</td>\n",
       "      <td>5</td>\n",
       "    </tr>\n",
       "    <tr>\n",
       "      <th>1</th>\n",
       "      <td>1.580826e+09</td>\n",
       "      <td>431.0</td>\n",
       "      <td>P0</td>\n",
       "      <td>NaN</td>\n",
       "      <td>2715.0</td>\n",
       "      <td>4.108</td>\n",
       "      <td>2.924</td>\n",
       "      <td>3.883</td>\n",
       "      <td>NaN</td>\n",
       "      <td>22</td>\n",
       "      <td>F</td>\n",
       "      <td>1</td>\n",
       "      <td>1</td>\n",
       "      <td>8</td>\n",
       "      <td>8</td>\n",
       "      <td>5</td>\n",
       "    </tr>\n",
       "    <tr>\n",
       "      <th>2</th>\n",
       "      <td>1.580826e+09</td>\n",
       "      <td>431.0</td>\n",
       "      <td>P-</td>\n",
       "      <td>NaN</td>\n",
       "      <td>2811.0</td>\n",
       "      <td>5.000</td>\n",
       "      <td>2.378</td>\n",
       "      <td>1.450</td>\n",
       "      <td>NaN</td>\n",
       "      <td>22</td>\n",
       "      <td>F</td>\n",
       "      <td>1</td>\n",
       "      <td>1</td>\n",
       "      <td>8</td>\n",
       "      <td>8</td>\n",
       "      <td>5</td>\n",
       "    </tr>\n",
       "    <tr>\n",
       "      <th>3</th>\n",
       "      <td>1.580826e+09</td>\n",
       "      <td>431.0</td>\n",
       "      <td>S0</td>\n",
       "      <td>280.0</td>\n",
       "      <td>NaN</td>\n",
       "      <td>6.013</td>\n",
       "      <td>6.276</td>\n",
       "      <td>4.301</td>\n",
       "      <td>NaN</td>\n",
       "      <td>22</td>\n",
       "      <td>F</td>\n",
       "      <td>1</td>\n",
       "      <td>1</td>\n",
       "      <td>8</td>\n",
       "      <td>8</td>\n",
       "      <td>5</td>\n",
       "    </tr>\n",
       "    <tr>\n",
       "      <th>4</th>\n",
       "      <td>1.580826e+09</td>\n",
       "      <td>431.0</td>\n",
       "      <td>S-</td>\n",
       "      <td>296.0</td>\n",
       "      <td>NaN</td>\n",
       "      <td>3.101</td>\n",
       "      <td>2.691</td>\n",
       "      <td>5.834</td>\n",
       "      <td>NaN</td>\n",
       "      <td>22</td>\n",
       "      <td>F</td>\n",
       "      <td>1</td>\n",
       "      <td>1</td>\n",
       "      <td>8</td>\n",
       "      <td>8</td>\n",
       "      <td>5</td>\n",
       "    </tr>\n",
       "  </tbody>\n",
       "</table>\n",
       "</div>\n",
       "      <button class=\"colab-df-convert\" onclick=\"convertToInteractive('df-747d4b2a-3ab3-4713-bdff-f970cb39dbfb')\"\n",
       "              title=\"Convert this dataframe to an interactive table.\"\n",
       "              style=\"display:none;\">\n",
       "        \n",
       "  <svg xmlns=\"http://www.w3.org/2000/svg\" height=\"24px\"viewBox=\"0 0 24 24\"\n",
       "       width=\"24px\">\n",
       "    <path d=\"M0 0h24v24H0V0z\" fill=\"none\"/>\n",
       "    <path d=\"M18.56 5.44l.94 2.06.94-2.06 2.06-.94-2.06-.94-.94-2.06-.94 2.06-2.06.94zm-11 1L8.5 8.5l.94-2.06 2.06-.94-2.06-.94L8.5 2.5l-.94 2.06-2.06.94zm10 10l.94 2.06.94-2.06 2.06-.94-2.06-.94-.94-2.06-.94 2.06-2.06.94z\"/><path d=\"M17.41 7.96l-1.37-1.37c-.4-.4-.92-.59-1.43-.59-.52 0-1.04.2-1.43.59L10.3 9.45l-7.72 7.72c-.78.78-.78 2.05 0 2.83L4 21.41c.39.39.9.59 1.41.59.51 0 1.02-.2 1.41-.59l7.78-7.78 2.81-2.81c.8-.78.8-2.07 0-2.86zM5.41 20L4 18.59l7.72-7.72 1.47 1.35L5.41 20z\"/>\n",
       "  </svg>\n",
       "      </button>\n",
       "      \n",
       "  <style>\n",
       "    .colab-df-container {\n",
       "      display:flex;\n",
       "      flex-wrap:wrap;\n",
       "      gap: 12px;\n",
       "    }\n",
       "\n",
       "    .colab-df-convert {\n",
       "      background-color: #E8F0FE;\n",
       "      border: none;\n",
       "      border-radius: 50%;\n",
       "      cursor: pointer;\n",
       "      display: none;\n",
       "      fill: #1967D2;\n",
       "      height: 32px;\n",
       "      padding: 0 0 0 0;\n",
       "      width: 32px;\n",
       "    }\n",
       "\n",
       "    .colab-df-convert:hover {\n",
       "      background-color: #E2EBFA;\n",
       "      box-shadow: 0px 1px 2px rgba(60, 64, 67, 0.3), 0px 1px 3px 1px rgba(60, 64, 67, 0.15);\n",
       "      fill: #174EA6;\n",
       "    }\n",
       "\n",
       "    [theme=dark] .colab-df-convert {\n",
       "      background-color: #3B4455;\n",
       "      fill: #D2E3FC;\n",
       "    }\n",
       "\n",
       "    [theme=dark] .colab-df-convert:hover {\n",
       "      background-color: #434B5C;\n",
       "      box-shadow: 0px 1px 3px 1px rgba(0, 0, 0, 0.15);\n",
       "      filter: drop-shadow(0px 1px 2px rgba(0, 0, 0, 0.3));\n",
       "      fill: #FFFFFF;\n",
       "    }\n",
       "  </style>\n",
       "\n",
       "      <script>\n",
       "        const buttonEl =\n",
       "          document.querySelector('#df-747d4b2a-3ab3-4713-bdff-f970cb39dbfb button.colab-df-convert');\n",
       "        buttonEl.style.display =\n",
       "          google.colab.kernel.accessAllowed ? 'block' : 'none';\n",
       "\n",
       "        async function convertToInteractive(key) {\n",
       "          const element = document.querySelector('#df-747d4b2a-3ab3-4713-bdff-f970cb39dbfb');\n",
       "          const dataTable =\n",
       "            await google.colab.kernel.invokeFunction('convertToInteractive',\n",
       "                                                     [key], {});\n",
       "          if (!dataTable) return;\n",
       "\n",
       "          const docLinkHtml = 'Like what you see? Visit the ' +\n",
       "            '<a target=\"_blank\" href=https://colab.research.google.com/notebooks/data_table.ipynb>data table notebook</a>'\n",
       "            + ' to learn more about interactive tables.';\n",
       "          element.innerHTML = '';\n",
       "          dataTable['output_type'] = 'display_data';\n",
       "          await google.colab.output.renderOutput(dataTable, element);\n",
       "          const docLink = document.createElement('div');\n",
       "          docLink.innerHTML = docLinkHtml;\n",
       "          element.appendChild(docLink);\n",
       "        }\n",
       "      </script>\n",
       "    </div>\n",
       "  </div>\n",
       "  "
      ],
      "text/plain": [
       "      TIMESTAMP     ID COND  IADS_ID  IAPS_ID  ANS_VALENCE  ANS_AROUSAL  \\\n",
       "0  1.580826e+09  431.0   P-      NaN   3062.0        2.599        2.378   \n",
       "1  1.580826e+09  431.0   P0      NaN   2715.0        4.108        2.924   \n",
       "2  1.580826e+09  431.0   P-      NaN   2811.0        5.000        2.378   \n",
       "3  1.580826e+09  431.0   S0    280.0      NaN        6.013        6.276   \n",
       "4  1.580826e+09  431.0   S-    296.0      NaN        3.101        2.691   \n",
       "\n",
       "   ANS_TIME EVENT  AGE SEX  OPENNESS  CONSCIENTIOUSNESS  NEUROTICISM  \\\n",
       "0     3.617   NaN   22   F         1                  1            8   \n",
       "1     3.883   NaN   22   F         1                  1            8   \n",
       "2     1.450   NaN   22   F         1                  1            8   \n",
       "3     4.301   NaN   22   F         1                  1            8   \n",
       "4     5.834   NaN   22   F         1                  1            8   \n",
       "\n",
       "   AGREEABLENESS  EXTRAVERSION  \n",
       "0              8             5  \n",
       "1              8             5  \n",
       "2              8             5  \n",
       "3              8             5  \n",
       "4              8             5  "
      ]
     },
     "execution_count": 17,
     "metadata": {},
     "output_type": "execute_result"
    }
   ],
   "source": [
    "procedure.head()\n",
    "\n",
    "\n",
    "\n",
    "\n",
    "\n"
   ]
  },
  {
   "cell_type": "code",
   "execution_count": null,
   "metadata": {
    "id": "U9OI_z_qo90T"
   },
   "outputs": [],
   "source": [
    ""
   ]
  },
  {
   "cell_type": "markdown",
   "metadata": {
    "id": "Hxv8Vf_jRz-M"
   },
   "source": [
    "**Task 7**: Perform the ANOVA (more precisely 5-way ANOVA as we have five independent variables) to check how `ANS_VALENCE` (and `ANS_AROUSAL`) is influenced by the personality profile.\n",
    "\n",
    "Note 1: Remember that we have repeated / dependent measures (i.e., one subject was in all groups), so we have to include random effects for each subject. We can use [linear mixed effects models](https://www.statsmodels.org/stable/mixed_linear.html) and their implementation in `statsmodels` (as `scipy` does not support it).\n",
    "\n",
    "Note 2: As a result of this step you should get a table with some p-values related to independent variables\n",
    "\n",
    "Note 3: The formula takes the form: `DEP ~ IND_1 + IND_2 + IND_1*IND_2`, where `DEP` is dependent variable, `IND_X` is independent variable, `+` means another factor and `*` indicates interaction between factors.\n",
    "\n",
    "Note 4: You need two models (one for valence and one for arousal) or you need to perform MANOVA (M stands for multiple dependent variables)\n",
    "\n",
    "Note 5: The p-value is in the `P>|z|` column."
   ]
  },
  {
   "cell_type": "code",
   "execution_count": null,
   "metadata": {
    "id": "EQKFwd7fVcU9"
   },
   "outputs": [],
   "source": [
    "# _FILL_IN_YOUR_CODE_HERE\n"
   ]
  },
  {
   "cell_type": "code",
   "execution_count": 37,
   "metadata": {
    "id": "K6QTP-PLgFbf",
    "colab": {
     "base_uri": "https://localhost:8080/"
    },
    "outputId": "358901a7-6b81-438a-9c1f-18709092d832"
   },
   "outputs": [
    {
     "name": "stdout",
     "output_type": "stream",
     "text": [
      "       ANS_AROUSAL  ANS_VALENCE  OPENNESS  CONSCIENTIOUSNESS  NEUROTICISM  \\\n",
      "0            2.378        2.599         1                  1            8   \n",
      "1            2.924        4.108         1                  1            8   \n",
      "2            2.378        5.000         1                  1            8   \n",
      "3            6.276        6.013         1                  1            8   \n",
      "4            2.691        3.101         1                  1            8   \n",
      "...            ...          ...       ...                ...          ...   \n",
      "11795        5.000        5.000         5                  4            7   \n",
      "11796        7.834        8.158         5                  4            7   \n",
      "11797        3.646        2.775         5                  4            7   \n",
      "11798        4.149        7.394         5                  4            7   \n",
      "11799        4.249        1.797         5                  4            7   \n",
      "\n",
      "       AGREEABLENESS  EXTRAVERSION  \n",
      "0                  8             5  \n",
      "1                  8             5  \n",
      "2                  8             5  \n",
      "3                  8             5  \n",
      "4                  8             5  \n",
      "...              ...           ...  \n",
      "11795              6             4  \n",
      "11796              6             4  \n",
      "11797              6             4  \n",
      "11798              6             4  \n",
      "11799              6             4  \n",
      "\n",
      "[11800 rows x 7 columns]\n",
      "                    Multivariate linear model\n",
      "=================================================================\n",
      "                                                                 \n",
      "-----------------------------------------------------------------\n",
      "       Intercept        Value  Num DF   Den DF    F Value  Pr > F\n",
      "-----------------------------------------------------------------\n",
      "          Wilks' lambda 0.7301 2.0000 11793.0000 2179.8165 0.0000\n",
      "         Pillai's trace 0.2699 2.0000 11793.0000 2179.8165 0.0000\n",
      " Hotelling-Lawley trace 0.3697 2.0000 11793.0000 2179.8165 0.0000\n",
      "    Roy's greatest root 0.3697 2.0000 11793.0000 2179.8165 0.0000\n",
      "-----------------------------------------------------------------\n",
      "                                                                 \n",
      "-----------------------------------------------------------------\n",
      "          OPENNESS        Value  Num DF   Den DF   F Value Pr > F\n",
      "-----------------------------------------------------------------\n",
      "            Wilks' lambda 0.9976 2.0000 11793.0000 14.4089 0.0000\n",
      "           Pillai's trace 0.0024 2.0000 11793.0000 14.4089 0.0000\n",
      "   Hotelling-Lawley trace 0.0024 2.0000 11793.0000 14.4089 0.0000\n",
      "      Roy's greatest root 0.0024 2.0000 11793.0000 14.4089 0.0000\n",
      "-----------------------------------------------------------------\n",
      "                                                                 \n",
      "-----------------------------------------------------------------\n",
      "     CONSCIENTIOUSNESS    Value  Num DF   Den DF   F Value Pr > F\n",
      "-----------------------------------------------------------------\n",
      "            Wilks' lambda 0.9985 2.0000 11793.0000  8.8160 0.0001\n",
      "           Pillai's trace 0.0015 2.0000 11793.0000  8.8160 0.0001\n",
      "   Hotelling-Lawley trace 0.0015 2.0000 11793.0000  8.8160 0.0001\n",
      "      Roy's greatest root 0.0015 2.0000 11793.0000  8.8160 0.0001\n",
      "-----------------------------------------------------------------\n",
      "                                                                 \n",
      "-----------------------------------------------------------------\n",
      "        NEUROTICISM       Value  Num DF   Den DF   F Value Pr > F\n",
      "-----------------------------------------------------------------\n",
      "            Wilks' lambda 0.9996 2.0000 11793.0000  2.3329 0.0971\n",
      "           Pillai's trace 0.0004 2.0000 11793.0000  2.3329 0.0971\n",
      "   Hotelling-Lawley trace 0.0004 2.0000 11793.0000  2.3329 0.0971\n",
      "      Roy's greatest root 0.0004 2.0000 11793.0000  2.3329 0.0971\n",
      "-----------------------------------------------------------------\n",
      "                                                                 \n",
      "-----------------------------------------------------------------\n",
      "       AGREEABLENESS      Value  Num DF   Den DF   F Value Pr > F\n",
      "-----------------------------------------------------------------\n",
      "            Wilks' lambda 0.9987 2.0000 11793.0000  7.6939 0.0005\n",
      "           Pillai's trace 0.0013 2.0000 11793.0000  7.6939 0.0005\n",
      "   Hotelling-Lawley trace 0.0013 2.0000 11793.0000  7.6939 0.0005\n",
      "      Roy's greatest root 0.0013 2.0000 11793.0000  7.6939 0.0005\n",
      "-----------------------------------------------------------------\n",
      "                                                                 \n",
      "-----------------------------------------------------------------\n",
      "        EXTRAVERSION      Value  Num DF   Den DF   F Value Pr > F\n",
      "-----------------------------------------------------------------\n",
      "            Wilks' lambda 0.9999 2.0000 11793.0000  0.5798 0.5600\n",
      "           Pillai's trace 0.0001 2.0000 11793.0000  0.5798 0.5600\n",
      "   Hotelling-Lawley trace 0.0001 2.0000 11793.0000  0.5798 0.5600\n",
      "      Roy's greatest root 0.0001 2.0000 11793.0000  0.5798 0.5600\n",
      "=================================================================\n",
      "\n"
     ]
    }
   ],
   "source": [
    "\n",
    "from scipy.stats import f_oneway\n",
    "import pandas as pd\n",
    "\n",
    "dane = procedure[['ANS_AROUSAL', 'ANS_VALENCE', 'OPENNESS','CONSCIENTIOUSNESS','NEUROTICISM','AGREEABLENESS','EXTRAVERSION' ]]\n",
    "\n",
    "#df_melt = pd.melt(procedure.reset_index(), id_vars=['index'], value_vars=['OPENNESS','CONSCIENTIOUSNESS','NEUROTICISM','AGREEABLENESS','EXTRAVERSION'])\n",
    "\n",
    "\n",
    "#  DEP ~ IND_1 + IND_2 + IND_1*IND_2,\n",
    "\n",
    "\n",
    "from statsmodels.multivariate.manova import MANOVA\n",
    "maov = MANOVA.from_formula('ANS_AROUSAL + ANS_VALENCE ~ OPENNESS + CONSCIENTIOUSNESS + NEUROTICISM + AGREEABLENESS+ EXTRAVERSION',data = dane)\n",
    "\n",
    "print(maov.mv_test())\n",
    "\n",
    "\n",
    "mc = multi.MultiComparison(df.INFORM,groups=df.CELL)\n",
    "mc_results = mc.tukeyhsd()\n",
    "print(mc_results)\n",
    "\n"
   ]
  },
  {
   "cell_type": "markdown",
   "metadata": {
    "id": "N-kyCpp8e_8p"
   },
   "source": [
    "# Nowa sekcja"
   ]
  },
  {
   "cell_type": "markdown",
   "metadata": {
    "id": "i34BnmzOsQOg"
   },
   "source": [
    "A significant result in ANOVA only tells us that the null hypothesis of equality of all levels of a given variable / given interaction of variables has been rejected. So there is some difference, but we don't know between which levels. To examine this we need to do additional post-hoc tests.\n",
    "\n",
    "**Task 8:** Do the post-hoc tests for significant results in ANOVA(s).\n",
    "\n",
    "Tip: You can use [`pairwise_tukeyhsd()`](https://www.statsmodels.org/stable/generated/statsmodels.stats.multicomp.pairwise_tukeyhsd.html) from `statmodels`."
   ]
  },
  {
   "cell_type": "code",
   "execution_count": 38,
   "metadata": {
    "id": "RRrpwQ8JgXyr",
    "colab": {
     "base_uri": "https://localhost:8080/"
    },
    "outputId": "c7282c58-a6e0-42e8-8764-eb2a13f5e294"
   },
   "outputs": [
    {
     "name": "stdout",
     "output_type": "stream",
     "text": [
      "Multiple Comparison of Means - Tukey HSD, FWER=0.05\n",
      "===================================================\n",
      "group1 group2 meandiff p-adj   lower  upper  reject\n",
      "---------------------------------------------------\n",
      "     1      2  -0.5208 0.0918 -1.0793 0.0376  False\n",
      "     1      3  -0.5437 0.0731 -1.1103 0.0229  False\n",
      "     1      4  -0.5356 0.0994 -1.1155 0.0443  False\n",
      "     1      5  -0.5132  0.101   -1.07 0.0436  False\n",
      "     1      6  -0.4777 0.2136 -1.0572 0.1018  False\n",
      "     1      7   -0.515  0.095 -1.0696 0.0396  False\n",
      "     1      8  -0.5154 0.1176 -1.0857 0.0549  False\n",
      "     1      9  -0.2995    0.9 -1.0413 0.4424  False\n",
      "     1     10  -0.4824 0.2162 -1.0689  0.104  False\n",
      "     2      3  -0.0228    0.9 -0.3101 0.2645  False\n",
      "     2      4  -0.0147    0.9 -0.3275  0.298  False\n",
      "     2      5   0.0076    0.9 -0.2599 0.2751  False\n",
      "     2      6   0.0432    0.9 -0.2688 0.3551  False\n",
      "     2      7   0.0058    0.9  -0.257 0.2686  False\n",
      "     2      8   0.0054    0.9  -0.289 0.2999  False\n",
      "     2      9   0.2214    0.9 -0.3371 0.7798  False\n",
      "     2     10   0.0384    0.9 -0.2864 0.3632  False\n",
      "     3      4   0.0081    0.9  -0.319 0.3352  False\n",
      "     3      5   0.0304    0.9 -0.2537 0.3146  False\n",
      "     3      6    0.066    0.9 -0.2603 0.3923  False\n",
      "     3      7   0.0287    0.9  -0.251 0.3084  False\n",
      "     3      8   0.0283    0.9 -0.2814 0.3379  False\n",
      "     3      9   0.2442    0.9 -0.3224 0.8108  False\n",
      "     3     10   0.0612    0.9 -0.2774 0.3998  False\n",
      "     4      5   0.0223    0.9 -0.2875 0.3322  False\n",
      "     4      6   0.0579    0.9 -0.2911 0.4069  False\n",
      "     4      7   0.0206    0.9 -0.2852 0.3264  False\n",
      "     4      8   0.0202    0.9 -0.3133 0.3536  False\n",
      "     4      9   0.2361    0.9 -0.3438  0.816  False\n",
      "     4     10   0.0532    0.9 -0.3073 0.4136  False\n",
      "     5      6   0.0355    0.9 -0.2735 0.3446  False\n",
      "     5      7  -0.0018    0.9 -0.2611 0.2576  False\n",
      "     5      8  -0.0022    0.9 -0.2936 0.2892  False\n",
      "     5      9   0.2137    0.9 -0.3431 0.7706  False\n",
      "     5     10   0.0308    0.9 -0.2912 0.3528  False\n",
      "     6      7  -0.0373    0.9 -0.3423 0.2676  False\n",
      "     6      8  -0.0377    0.9 -0.3704 0.2949  False\n",
      "     6      9   0.1782    0.9 -0.4013 0.7577  False\n",
      "     6     10  -0.0047    0.9 -0.3645  0.355  False\n",
      "     7      8  -0.0004    0.9 -0.2875 0.2867  False\n",
      "     7      9   0.2155    0.9  -0.339 0.7701  False\n",
      "     7     10   0.0326    0.9 -0.2855 0.3506  False\n",
      "     8      9   0.2159    0.9 -0.3543 0.7862  False\n",
      "     8     10    0.033    0.9 -0.3117 0.3777  False\n",
      "     9     10  -0.1829    0.9 -0.7694 0.4035  False\n",
      "---------------------------------------------------\n"
     ]
    }
   ],
   "source": [
    "# _FILL_IN_YOUR_CODE_HERE\n",
    "\n",
    "from statsmodels.stats.multicomp import pairwise_tukeyhsd\n",
    "\n",
    "\n",
    "# perform Tukey's test\n",
    "tukey = pairwise_tukeyhsd(endog=dane['ANS_VALENCE'],\n",
    "                          groups=dane['NEUROTICISM'],\n",
    "                          alpha=0.05)\n",
    "\n",
    "#display results\n",
    "print(tukey)\n",
    "\n"
   ]
  },
  {
   "cell_type": "code",
   "execution_count": null,
   "metadata": {
    "id": "eAthkyE1uzRL"
   },
   "outputs": [],
   "source": [
    ""
   ]
  },
  {
   "cell_type": "markdown",
   "metadata": {
    "id": "ODAoW6n-yVyb"
   },
   "source": [
    "### This place is for you!\n",
    "\n",
    "If class isn't over and you still have some time, now is a good time to do some analysis of your own. Do you have any ideas on what you can investigate?"
   ]
  },
  {
   "cell_type": "code",
   "execution_count": null,
   "metadata": {
    "id": "MC_Fq9I2yq9z"
   },
   "outputs": [],
   "source": [
    ""
   ]
  }
 ],
 "metadata": {
  "colab": {
   "name": "stats.ipynb",
   "provenance": [],
   "collapsed_sections": [],
   "toc_visible": true
  },
  "kernelspec": {
   "name": "python3",
   "display_name": "Python 3"
  },
  "language_info": {
   "name": "python"
  }
 },
 "nbformat": 4,
 "nbformat_minor": 0
}
